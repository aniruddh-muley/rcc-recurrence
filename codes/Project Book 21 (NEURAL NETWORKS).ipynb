{
 "cells": [
  {
   "cell_type": "code",
   "execution_count": 175,
   "id": "b1997c8a-cb25-4f05-bbf3-2eb1a4d1983e",
   "metadata": {},
   "outputs": [
    {
     "name": "stdout",
     "output_type": "stream",
     "text": [
      "Name: scikeras\n",
      "Version: 0.12.0\n",
      "Summary: Scikit-Learn API wrapper for Keras.\n",
      "Home-page: https://github.com/adriangb/scikeras\n",
      "Author: Adrian Garcia Badaracco\n",
      "Author-email: 1755071+adriangb@users.noreply.github.com\n",
      "License: MIT\n",
      "Location: c:\\users\\aniru\\anaconda3\\lib\\site-packages\n",
      "Requires: packaging, scikit-learn, tensorflow-io-gcs-filesystem\n",
      "Required-by: \n",
      "Note: you may need to restart the kernel to use updated packages.\n"
     ]
    }
   ],
   "source": [
    "pip show scikeras"
   ]
  },
  {
   "cell_type": "code",
   "execution_count": 176,
   "id": "688ba240-7fdf-4413-8a0e-6340e9c6d732",
   "metadata": {},
   "outputs": [
    {
     "name": "stdout",
     "output_type": "stream",
     "text": [
      "Name: tensorflow\n",
      "Version: 2.14.0\n",
      "Summary: TensorFlow is an open source machine learning framework for everyone.\n",
      "Home-page: https://www.tensorflow.org/\n",
      "Author: Google Inc.\n",
      "Author-email: packages@tensorflow.org\n",
      "License: Apache 2.0\n",
      "Location: c:\\users\\aniru\\anaconda3\\lib\\site-packages\n",
      "Requires: tensorflow-intel\n",
      "Required-by: \n",
      "Note: you may need to restart the kernel to use updated packages.\n"
     ]
    }
   ],
   "source": [
    "pip show tensorflow"
   ]
  },
  {
   "cell_type": "code",
   "execution_count": 2,
   "id": "cdb15631-b46b-4ba5-a653-ddc148b4ccf5",
   "metadata": {},
   "outputs": [],
   "source": [
    "import dill"
   ]
  },
  {
   "cell_type": "code",
   "execution_count": 3,
   "id": "c682801f-3255-4174-bfe7-67a4c569772f",
   "metadata": {},
   "outputs": [],
   "source": [
    "# pip install seaborn --upgrade"
   ]
  },
  {
   "cell_type": "code",
   "execution_count": 4,
   "id": "9232f9df-8d1c-4ef9-b1c8-379beb143c2f",
   "metadata": {},
   "outputs": [],
   "source": [
    "dill.load_session(\"PB21_WP.db\")"
   ]
  },
  {
   "cell_type": "code",
   "execution_count": 177,
   "id": "a4cd4602-fd1a-46f4-9066-cdad281fed4d",
   "metadata": {},
   "outputs": [
    {
     "name": "stdout",
     "output_type": "stream",
     "text": [
      "INFO:tensorflow:Assets written to: C:\\Users\\aniru\\AppData\\Local\\Temp\\tmpk4jldav0\\assets\n"
     ]
    },
    {
     "name": "stderr",
     "output_type": "stream",
     "text": [
      "INFO:tensorflow:Assets written to: C:\\Users\\aniru\\AppData\\Local\\Temp\\tmpk4jldav0\\assets\n"
     ]
    },
    {
     "name": "stdout",
     "output_type": "stream",
     "text": [
      "INFO:tensorflow:Assets written to: C:\\Users\\aniru\\AppData\\Local\\Temp\\tmp8s6f6dlq\\assets\n"
     ]
    },
    {
     "name": "stderr",
     "output_type": "stream",
     "text": [
      "INFO:tensorflow:Assets written to: C:\\Users\\aniru\\AppData\\Local\\Temp\\tmp8s6f6dlq\\assets\n"
     ]
    },
    {
     "name": "stdout",
     "output_type": "stream",
     "text": [
      "INFO:tensorflow:Assets written to: C:\\Users\\aniru\\AppData\\Local\\Temp\\tmptvkl5mgl\\assets\n"
     ]
    },
    {
     "name": "stderr",
     "output_type": "stream",
     "text": [
      "INFO:tensorflow:Assets written to: C:\\Users\\aniru\\AppData\\Local\\Temp\\tmptvkl5mgl\\assets\n"
     ]
    },
    {
     "name": "stdout",
     "output_type": "stream",
     "text": [
      "INFO:tensorflow:Assets written to: C:\\Users\\aniru\\AppData\\Local\\Temp\\tmpq9wxnvgf\\assets\n"
     ]
    },
    {
     "name": "stderr",
     "output_type": "stream",
     "text": [
      "INFO:tensorflow:Assets written to: C:\\Users\\aniru\\AppData\\Local\\Temp\\tmpq9wxnvgf\\assets\n"
     ]
    },
    {
     "name": "stdout",
     "output_type": "stream",
     "text": [
      "INFO:tensorflow:Assets written to: C:\\Users\\aniru\\AppData\\Local\\Temp\\tmpnektzmf0\\assets\n"
     ]
    },
    {
     "name": "stderr",
     "output_type": "stream",
     "text": [
      "INFO:tensorflow:Assets written to: C:\\Users\\aniru\\AppData\\Local\\Temp\\tmpnektzmf0\\assets\n"
     ]
    },
    {
     "name": "stdout",
     "output_type": "stream",
     "text": [
      "INFO:tensorflow:Assets written to: C:\\Users\\aniru\\AppData\\Local\\Temp\\tmpw5u49kaj\\assets\n"
     ]
    },
    {
     "name": "stderr",
     "output_type": "stream",
     "text": [
      "INFO:tensorflow:Assets written to: C:\\Users\\aniru\\AppData\\Local\\Temp\\tmpw5u49kaj\\assets\n"
     ]
    },
    {
     "name": "stdout",
     "output_type": "stream",
     "text": [
      "INFO:tensorflow:Assets written to: C:\\Users\\aniru\\AppData\\Local\\Temp\\tmpvv68e8e5\\assets\n"
     ]
    },
    {
     "name": "stderr",
     "output_type": "stream",
     "text": [
      "INFO:tensorflow:Assets written to: C:\\Users\\aniru\\AppData\\Local\\Temp\\tmpvv68e8e5\\assets\n"
     ]
    },
    {
     "name": "stdout",
     "output_type": "stream",
     "text": [
      "INFO:tensorflow:Assets written to: C:\\Users\\aniru\\AppData\\Local\\Temp\\tmpa0uw3al5\\assets\n"
     ]
    },
    {
     "name": "stderr",
     "output_type": "stream",
     "text": [
      "INFO:tensorflow:Assets written to: C:\\Users\\aniru\\AppData\\Local\\Temp\\tmpa0uw3al5\\assets\n"
     ]
    },
    {
     "name": "stdout",
     "output_type": "stream",
     "text": [
      "INFO:tensorflow:Assets written to: C:\\Users\\aniru\\AppData\\Local\\Temp\\tmpnj386510\\assets\n"
     ]
    },
    {
     "name": "stderr",
     "output_type": "stream",
     "text": [
      "INFO:tensorflow:Assets written to: C:\\Users\\aniru\\AppData\\Local\\Temp\\tmpnj386510\\assets\n"
     ]
    },
    {
     "name": "stdout",
     "output_type": "stream",
     "text": [
      "INFO:tensorflow:Assets written to: C:\\Users\\aniru\\AppData\\Local\\Temp\\tmptgq4bzm2\\assets\n"
     ]
    },
    {
     "name": "stderr",
     "output_type": "stream",
     "text": [
      "INFO:tensorflow:Assets written to: C:\\Users\\aniru\\AppData\\Local\\Temp\\tmptgq4bzm2\\assets\n"
     ]
    },
    {
     "name": "stdout",
     "output_type": "stream",
     "text": [
      "INFO:tensorflow:Assets written to: C:\\Users\\aniru\\AppData\\Local\\Temp\\tmpg30wb0yj\\assets\n"
     ]
    },
    {
     "name": "stderr",
     "output_type": "stream",
     "text": [
      "INFO:tensorflow:Assets written to: C:\\Users\\aniru\\AppData\\Local\\Temp\\tmpg30wb0yj\\assets\n"
     ]
    },
    {
     "name": "stdout",
     "output_type": "stream",
     "text": [
      "INFO:tensorflow:Assets written to: C:\\Users\\aniru\\AppData\\Local\\Temp\\tmpygmalwc2\\assets\n"
     ]
    },
    {
     "name": "stderr",
     "output_type": "stream",
     "text": [
      "INFO:tensorflow:Assets written to: C:\\Users\\aniru\\AppData\\Local\\Temp\\tmpygmalwc2\\assets\n"
     ]
    },
    {
     "name": "stdout",
     "output_type": "stream",
     "text": [
      "INFO:tensorflow:Assets written to: C:\\Users\\aniru\\AppData\\Local\\Temp\\tmpvdl0gs_a\\assets\n"
     ]
    },
    {
     "name": "stderr",
     "output_type": "stream",
     "text": [
      "INFO:tensorflow:Assets written to: C:\\Users\\aniru\\AppData\\Local\\Temp\\tmpvdl0gs_a\\assets\n"
     ]
    },
    {
     "name": "stdout",
     "output_type": "stream",
     "text": [
      "INFO:tensorflow:Assets written to: C:\\Users\\aniru\\AppData\\Local\\Temp\\tmpaeriz2ut\\assets\n"
     ]
    },
    {
     "name": "stderr",
     "output_type": "stream",
     "text": [
      "INFO:tensorflow:Assets written to: C:\\Users\\aniru\\AppData\\Local\\Temp\\tmpaeriz2ut\\assets\n"
     ]
    },
    {
     "name": "stdout",
     "output_type": "stream",
     "text": [
      "INFO:tensorflow:Assets written to: C:\\Users\\aniru\\AppData\\Local\\Temp\\tmpzo5y6tjf\\assets\n"
     ]
    },
    {
     "name": "stderr",
     "output_type": "stream",
     "text": [
      "INFO:tensorflow:Assets written to: C:\\Users\\aniru\\AppData\\Local\\Temp\\tmpzo5y6tjf\\assets\n"
     ]
    },
    {
     "name": "stdout",
     "output_type": "stream",
     "text": [
      "INFO:tensorflow:Assets written to: C:\\Users\\aniru\\AppData\\Local\\Temp\\tmpdqpcko4r\\assets\n"
     ]
    },
    {
     "name": "stderr",
     "output_type": "stream",
     "text": [
      "INFO:tensorflow:Assets written to: C:\\Users\\aniru\\AppData\\Local\\Temp\\tmpdqpcko4r\\assets\n"
     ]
    },
    {
     "name": "stdout",
     "output_type": "stream",
     "text": [
      "INFO:tensorflow:Assets written to: C:\\Users\\aniru\\AppData\\Local\\Temp\\tmpoaxyjhqe\\assets\n"
     ]
    },
    {
     "name": "stderr",
     "output_type": "stream",
     "text": [
      "INFO:tensorflow:Assets written to: C:\\Users\\aniru\\AppData\\Local\\Temp\\tmpoaxyjhqe\\assets\n"
     ]
    },
    {
     "name": "stdout",
     "output_type": "stream",
     "text": [
      "INFO:tensorflow:Assets written to: C:\\Users\\aniru\\AppData\\Local\\Temp\\tmpen5o324y\\assets\n"
     ]
    },
    {
     "name": "stderr",
     "output_type": "stream",
     "text": [
      "INFO:tensorflow:Assets written to: C:\\Users\\aniru\\AppData\\Local\\Temp\\tmpen5o324y\\assets\n"
     ]
    },
    {
     "name": "stdout",
     "output_type": "stream",
     "text": [
      "INFO:tensorflow:Assets written to: C:\\Users\\aniru\\AppData\\Local\\Temp\\tmpyz4ufjk5\\assets\n"
     ]
    },
    {
     "name": "stderr",
     "output_type": "stream",
     "text": [
      "INFO:tensorflow:Assets written to: C:\\Users\\aniru\\AppData\\Local\\Temp\\tmpyz4ufjk5\\assets\n"
     ]
    },
    {
     "name": "stdout",
     "output_type": "stream",
     "text": [
      "INFO:tensorflow:Assets written to: C:\\Users\\aniru\\AppData\\Local\\Temp\\tmp4npz116_\\assets\n"
     ]
    },
    {
     "name": "stderr",
     "output_type": "stream",
     "text": [
      "INFO:tensorflow:Assets written to: C:\\Users\\aniru\\AppData\\Local\\Temp\\tmp4npz116_\\assets\n"
     ]
    },
    {
     "name": "stdout",
     "output_type": "stream",
     "text": [
      "INFO:tensorflow:Assets written to: C:\\Users\\aniru\\AppData\\Local\\Temp\\tmp6b0iw5mq\\assets\n"
     ]
    },
    {
     "name": "stderr",
     "output_type": "stream",
     "text": [
      "INFO:tensorflow:Assets written to: C:\\Users\\aniru\\AppData\\Local\\Temp\\tmp6b0iw5mq\\assets\n"
     ]
    }
   ],
   "source": [
    "dill.dump_session(\"PB21_WP.db\")"
   ]
  },
  {
   "cell_type": "code",
   "execution_count": 2,
   "id": "61485a69-bb07-4613-b72d-c940a28c4733",
   "metadata": {},
   "outputs": [
    {
     "name": "stdout",
     "output_type": "stream",
     "text": [
      "Hello world!\n"
     ]
    }
   ],
   "source": [
    "print(\"Hello world!\")"
   ]
  },
  {
   "cell_type": "code",
   "execution_count": 3,
   "id": "5fe94e52-05ce-4cfe-b746-cdb65f77fc94",
   "metadata": {},
   "outputs": [],
   "source": [
    "# pytorch code first\n",
    "# or maybe tf.keras?\n",
    "# run it on a vanilla dataset\n",
    "# then resample\n",
    "# smote\n",
    "# adasyn\n",
    "# feature engineering??\n",
    "# fresh data? will need to reconfigure EVERYTHING"
   ]
  },
  {
   "cell_type": "code",
   "execution_count": 150,
   "id": "acbb957a-ffa6-4c0f-ba57-bd000eedad42",
   "metadata": {},
   "outputs": [],
   "source": [
    "import numpy as np\n",
    "import pandas as pd\n",
    "import matplotlib.pyplot as plt\n",
    "import seaborn as sns\n",
    "import torch\n",
    "import torch.nn as nn\n",
    "from sklearn.preprocessing import StandardScaler\n",
    "from sklearn.impute import SimpleImputer\n",
    "from sklearn.utils import resample\n",
    "# from sklearn.compose import make_column_transformer\n",
    "import tensorflow as tf\n",
    "from tensorflow.keras.models import Sequential\n",
    "from tensorflow.keras.layers import Dense, BatchNormalization, Dropout\n",
    "from tensorflow.keras.callbacks import EarlyStopping, LearningRateScheduler\n",
    "from scikeras.wrappers import KerasClassifier\n",
    "from sklearn.datasets import make_classification\n",
    "import time\n",
    "from sklearn.model_selection import GridSearchCV, train_test_split\n",
    "from sklearn.metrics import (classification_report, confusion_matrix, make_scorer, f1_score, recall_score, balanced_accuracy_score,\n",
    "matthews_corrcoef, jaccard_score, average_precision_score, roc_auc_score)\n",
    "from tabulate import tabulate\n",
    "from sklearn.base import ClassifierMixin, BaseEstimator\n",
    "import winsound\n",
    "import random\n",
    "import os"
   ]
  },
  {
   "cell_type": "code",
   "execution_count": 171,
   "id": "674662ea-61bc-487e-9b5d-58402ef5b733",
   "metadata": {},
   "outputs": [],
   "source": [
    "def set_seed(seed: int = 42) -> None:\n",
    "    random.seed(seed)\n",
    "    np.random.seed(seed)\n",
    "    tf.random.set_seed(seed)\n",
    "    tf.experimental.numpy.random.seed(seed)\n",
    "    # When running on the CuDNN backend, two further options must be set\n",
    "    # os.environ['TF_CUDNN_DETERMINISTIC'] = '1'\n",
    "    # os.environ['TF_DETERMINISTIC_OPS'] = '1'\n",
    "    # # Set a fixed value for the hash seed\n",
    "    # os.environ[\"PYTHONHASHSEED\"] = str(seed)\n",
    "    os.environ.pop('TF_CUDNN_DETERMINISTIC', None)\n",
    "    os.environ.pop('TF_DETERMINISTIC_OPS', None)\n",
    "    os.environ.pop(\"PYTHONHASHSEED\", None)\n",
    "    print(f\"Random seed set as {seed}\")"
   ]
  },
  {
   "cell_type": "code",
   "execution_count": 152,
   "id": "bf51f1f5-929c-4faf-82cf-645544fb5ade",
   "metadata": {},
   "outputs": [
    {
     "name": "stdout",
     "output_type": "stream",
     "text": [
      "2.14.0\n",
      "tf.Tensor(\n",
      "[[[0.16513085 0.9014813 ]\n",
      "  [0.6309742  0.4345461 ]\n",
      "  [0.29193902 0.64250207]]\n",
      "\n",
      " [[0.9757855  0.43509948]\n",
      "  [0.6601019  0.60489583]\n",
      "  [0.6366315  0.6144488 ]]], shape=(2, 3, 2), dtype=float32)\n"
     ]
    }
   ],
   "source": [
    "import tensorflow as tf\n",
    "print(tf.__version__)\n",
    "import random\n",
    "\n",
    "tf.random.set_seed(1)\n",
    "# random.seed(42) # This line seems to be redundant\n",
    "\n",
    "x = tf.constant(tf.random.uniform([2, 3, 2]), dtype=tf.float32)\n",
    "print(x)"
   ]
  },
  {
   "cell_type": "code",
   "execution_count": 172,
   "id": "6b48706f-1b72-45c0-9c3e-3264b2a18712",
   "metadata": {},
   "outputs": [
    {
     "name": "stdout",
     "output_type": "stream",
     "text": [
      "Random seed set as 42\n"
     ]
    }
   ],
   "source": [
    "set_seed()"
   ]
  },
  {
   "cell_type": "code",
   "execution_count": 27,
   "id": "46b103ab-e322-43a2-9917-50787072d686",
   "metadata": {},
   "outputs": [
    {
     "data": {
      "text/plain": [
       "((485, 27), (485,), (209, 27), (209,))"
      ]
     },
     "execution_count": 27,
     "metadata": {},
     "output_type": "execute_result"
    }
   ],
   "source": [
    "X_nt.shape, y_nt.shape, X_t.shape, y_t.shape"
   ]
  },
  {
   "cell_type": "code",
   "execution_count": 8,
   "id": "138c7163-64f3-466f-821b-8219725e2a23",
   "metadata": {},
   "outputs": [],
   "source": [
    "X_nt = pd.read_csv(\"C:\\Aniruddh\\Python\\Jupyter\\RCC\\CSV FILES\\Cleaned data\\RCC_non_test_set.csv\", index_col = 0)\n",
    "X_t = pd.read_csv(\"C:\\Aniruddh\\Python\\Jupyter\\RCC\\CSV FILES\\Cleaned data\\RCC_test_set.csv\", index_col = 0)\n",
    "X_nt = X_nt.drop(index = 83)\n",
    "X = pd.concat([X_nt, X_t])\n",
    "y = X.pop(\"RECURRENCE\")\n",
    "y_nt = X_nt.pop(\"RECURRENCE\")\n",
    "y_t = X_t.pop(\"RECURRENCE\")"
   ]
  },
  {
   "cell_type": "code",
   "execution_count": 10,
   "id": "3f4dedb1-0e70-4c76-b855-743e36d71097",
   "metadata": {},
   "outputs": [],
   "source": [
    "imputer_r = SimpleImputer(strategy = 'median', fill_value = 0)\n",
    "scaler_r = StandardScaler()\n",
    "X_nt_s_i = scaler_r.fit_transform(imputer_r.fit_transform(X_nt))\n",
    "X_t_s_i = scaler_r.transform(imputer_r.transform(X_t))\n",
    "majority_X_nt = X_nt_s_i[y_nt == 0]\n",
    "minority_X_nt = X_nt_s_i[y_nt == 1]\n",
    "majority_y_nt = y_nt[y_nt == 0]\n",
    "minority_y_nt = y_nt[y_nt == 1]\n",
    "oversampled_X_min, oversampled_y_min = resample(minority_X_nt, minority_y_nt, replace = True, n_samples = len(majority_X_nt), random_state = 42)\n",
    "X_nt_ov = np.concatenate((majority_X_nt, oversampled_X_min))\n",
    "y_nt_ov = np.concatenate((majority_y_nt, oversampled_y_min))"
   ]
  },
  {
   "cell_type": "code",
   "execution_count": 116,
   "id": "3ee54525-c233-49ca-a9ec-90eac04af5d9",
   "metadata": {
    "jupyter": {
     "source_hidden": true
    }
   },
   "outputs": [],
   "source": [
    "def create_model(optimizer='adam', activation='relu', first_units=64, hidden_layers=[64], batchnorm=False,\n",
    "                 dropout = False, dropout_rate = 0.3, learning_rate = 0.001):\n",
    "    model = Sequential()\n",
    "    input_shape = (X_nt_s_i.shape[1],)\n",
    "    # Input layer\n",
    "    if batchnorm:\n",
    "        model.add(BatchNormalization(input_shape = input_shape))\n",
    "        model.add(Dense(first_units, activation = activation))\n",
    "    else:\n",
    "        model.add(Dense(first_units, activation = activation, input_shape = input_shape))\n",
    "    # Hidden layers\n",
    "    for layer in hidden_layers:\n",
    "        # if isinstance(layer, str) and layer.lower() == 'bn':\n",
    "        if batchnorm:\n",
    "            # Add BatchNormalization layer if specified\n",
    "            model.add(BatchNormalization())\n",
    "        if dropout:\n",
    "            model.add(Dropout(dropout_rate))\n",
    "        # elif isinstance(layer, tuple) and layer[0].lower() == 'd':\n",
    "        #     # Add Dropout layer if specified\n",
    "        #     dropout_rate = layer[1]\n",
    "        #     model.add(Dropout(dropout_rate))\n",
    "        # else:\n",
    "            # Otherwise, add a regular Dense layer\n",
    "        model.add(Dense(layer, activation=activation))\n",
    "    # Output layer\n",
    "    model.add(Dense(1, activation='sigmoid'))\n",
    "    model.compile(loss='binary_crossentropy', optimizer=optimizer, metrics=['accuracy'])\n",
    "    return model\n",
    "\n",
    "# Define learning rate schedule\n",
    "def lr_schedule(epoch, lr):\n",
    "    if epoch < 10:\n",
    "        return lr\n",
    "    else:\n",
    "        return lr * tf.math.exp(-0.1)\n",
    "lr_scheduler = LearningRateScheduler(lr_schedule)\n",
    "\n",
    " # Define early stopping\n",
    "early_stopping = EarlyStopping(monitor='val_loss', patience=5, restore_best_weights=True)"
   ]
  },
  {
   "cell_type": "code",
   "execution_count": 80,
   "id": "a8b9e88e-52c9-4aa2-9d8a-b239838f1df3",
   "metadata": {
    "jupyter": {
     "source_hidden": true
    }
   },
   "outputs": [],
   "source": [
    "def custom_scoring(estimator, X_train, y_train, X_test, y_test, metric):\n",
    "    callbacks = [lr_scheduler, early_stopping]\n",
    "    estimator.fit(X_train, y_train, callbacks=callbacks)\n",
    "    y_pred = estimator.predict(X_test)\n",
    "    metric_function = globals().get(metric + \"_score\")\n",
    "    return metric_function(y_test, y_pred)\n",
    "custom_scorer = make_scorer(custom_scoring)"
   ]
  },
  {
   "cell_type": "code",
   "execution_count": 118,
   "id": "58de8c44-4515-4245-b1c5-528499dac6ad",
   "metadata": {},
   "outputs": [],
   "source": [
    "def grid_searcher(param_grid, estimator, scoring, X_train = X_nt_ov, y_train = y_nt_ov, cv = 10, verbose = 1):\n",
    "    tic = time.time()\n",
    "    custom_scorer = make_scorer(custom_scoring) #, metric = \"scoring\")\n",
    "    grid_search = GridSearchCV(estimator = estimator, param_grid = param_grid, cv = cv, scoring = scoring, n_jobs = -1, verbose = verbose,\n",
    "                               error_score = 'raise')\n",
    "    grid_search.fit(X_train, y_train)\n",
    "    toc = time.time()\n",
    "    winsound.Beep(1000, 2000)\n",
    "    print(f\"Time taken: {toc - tic} seconds\")\n",
    "    best_params = grid_search.best_params_\n",
    "    print(f\"Best Hyperparameters: {best_params}\")\n",
    "    best_model = grid_search.best_estimator_\n",
    "    return best_params, best_model, grid_search"
   ]
  },
  {
   "cell_type": "code",
   "execution_count": 94,
   "id": "bca6ce86-90fd-4e74-b199-f36713b6980c",
   "metadata": {},
   "outputs": [],
   "source": [
    "def model_test(best_estimator, X_test = X_t_s_i, y_test = y_t, suppress_output = False):\n",
    "    y_pred_test = best_estimator.predict(X_test)\n",
    "    class_names = ['Class 0', 'Class 1']\n",
    "    report_test = classification_report(y_test, y_pred_test, target_names = class_names)\n",
    "    cm = confusion_matrix(y_test, y_pred_test)\n",
    "    if not(suppress_output):\n",
    "        print(\"Classification Report on Test Set:\")\n",
    "        print(report_test)\n",
    "        cm_table = tabulate(cm, headers=class_names, tablefmt='grid')\n",
    "        print(\"Confusion Matrix:\")\n",
    "        print(cm_table)\n",
    "        plt.figure(figsize = (8, 6))\n",
    "        sns.heatmap(cm, annot=True, fmt='d', cmap='Blues', cbar=False, xticklabels=class_names, yticklabels=class_names)\n",
    "        plt.xlabel('Predicted Labels')\n",
    "        plt.ylabel('True Labels')\n",
    "        plt.title('Confusion Matrix')\n",
    "        plt.show()"
   ]
  },
  {
   "cell_type": "code",
   "execution_count": 156,
   "id": "b60dcdb2-bd52-415e-9dcf-4285575428aa",
   "metadata": {
    "jupyter": {
     "source_hidden": true
    }
   },
   "outputs": [],
   "source": [
    "from keras.callbacks import LearningRateScheduler, EarlyStopping\n",
    "import tensorflow as tf\n",
    "\n",
    "class CustomKerasClassifier(BaseEstimator, ClassifierMixin):\n",
    "    def __init__(self, optimizer='adam', activation='relu', first_units=64, hidden_layers=[64], \n",
    "                 batchnorm=False, dropout=False, dropout_rate=0.3, learning_rate=0.001, epochs=50, \n",
    "                 batch_size=32, verbose=0):\n",
    "        self.optimizer = optimizer\n",
    "        self.activation = activation\n",
    "        self.first_units = first_units\n",
    "        self.hidden_layers = hidden_layers\n",
    "        self.batchnorm = batchnorm\n",
    "        self.dropout = dropout\n",
    "        self.dropout_rate = dropout_rate\n",
    "        self.learning_rate = learning_rate\n",
    "        self.epochs = epochs\n",
    "        self.batch_size = batch_size\n",
    "        self.verbose = verbose\n",
    "        \n",
    "        self.model = None\n",
    "\n",
    "    def create_model(self):\n",
    "        # tf.random.set_seed(42)\n",
    "        model = Sequential()\n",
    "        input_shape = (X_nt_s_i.shape[1],)\n",
    "        \n",
    "        if self.batchnorm:\n",
    "            model.add(BatchNormalization(input_shape=input_shape))\n",
    "            model.add(Dense(self.first_units, activation=self.activation))\n",
    "        else:\n",
    "            model.add(Dense(self.first_units, activation=self.activation, input_shape=input_shape))\n",
    "        \n",
    "        for layer in self.hidden_layers:\n",
    "            if self.batchnorm:\n",
    "                model.add(BatchNormalization())\n",
    "            if self.dropout:\n",
    "                model.add(Dropout(self.dropout_rate))\n",
    "            model.add(Dense(layer, activation=self.activation))\n",
    "        \n",
    "        model.add(Dense(1, activation='sigmoid'))\n",
    "        \n",
    "        return model\n",
    "\n",
    "    def fit(self, X, y, validation_data=None):\n",
    "        self.model = self.create_model()\n",
    "        \n",
    "        # Define learning rate scheduler callback\n",
    "        lr_scheduler = LearningRateScheduler(self.lr_schedule)\n",
    "\n",
    "        if validation_data:\n",
    "            # Define early stopping callback\n",
    "            early_stopping = EarlyStopping(monitor='val_loss', patience=5, restore_best_weights=True)\n",
    "        else:\n",
    "            # Add alternative callback or skip early stopping if validation data is not provided\n",
    "            early_stopping = EarlyStopping(monitor='loss', patience=5, restore_best_weights=True)\n",
    "\n",
    "        # Fit the model with callbacks\n",
    "        self.model.compile(loss='binary_crossentropy', optimizer=self.optimizer, metrics=['accuracy'])\n",
    "        self.model.fit(X, y, epochs=self.epochs, batch_size=self.batch_size, verbose=self.verbose,\n",
    "                       callbacks=[lr_scheduler, early_stopping], validation_data=validation_data)\n",
    "        self.classes_ = np.unique(y)\n",
    "        \n",
    "        return self\n",
    "\n",
    "    def predict(self, X):\n",
    "        return (self.model.predict(X) > 0.5).astype(\"int32\")\n",
    "\n",
    "    def lr_schedule(self, epoch, lr):\n",
    "        if epoch < 10:\n",
    "            return lr\n",
    "        else:\n",
    "            return lr * tf.math.exp(-0.1)"
   ]
  },
  {
   "cell_type": "code",
   "execution_count": 157,
   "id": "f7d6d7ce-4185-4d8b-abad-f6a9ec992b47",
   "metadata": {},
   "outputs": [],
   "source": [
    "# Create an instance of CustomKerasClassifier with desired parameters\n",
    "model = CustomKerasClassifier(optimizer='adam', activation='relu', first_units=64, hidden_layers=[64],\n",
    "                               batchnorm=False, dropout=False, dropout_rate=0.3, learning_rate=0.001,\n",
    "                               epochs=50, batch_size=32, verbose=0)"
   ]
  },
  {
   "cell_type": "code",
   "execution_count": 161,
   "id": "35029c66-6db2-4cd1-91e2-481b9d9e0042",
   "metadata": {},
   "outputs": [
    {
     "data": {
      "text/html": [
       "<style>#sk-container-id-17 {color: black;}#sk-container-id-17 pre{padding: 0;}#sk-container-id-17 div.sk-toggleable {background-color: white;}#sk-container-id-17 label.sk-toggleable__label {cursor: pointer;display: block;width: 100%;margin-bottom: 0;padding: 0.3em;box-sizing: border-box;text-align: center;}#sk-container-id-17 label.sk-toggleable__label-arrow:before {content: \"▸\";float: left;margin-right: 0.25em;color: #696969;}#sk-container-id-17 label.sk-toggleable__label-arrow:hover:before {color: black;}#sk-container-id-17 div.sk-estimator:hover label.sk-toggleable__label-arrow:before {color: black;}#sk-container-id-17 div.sk-toggleable__content {max-height: 0;max-width: 0;overflow: hidden;text-align: left;background-color: #f0f8ff;}#sk-container-id-17 div.sk-toggleable__content pre {margin: 0.2em;color: black;border-radius: 0.25em;background-color: #f0f8ff;}#sk-container-id-17 input.sk-toggleable__control:checked~div.sk-toggleable__content {max-height: 200px;max-width: 100%;overflow: auto;}#sk-container-id-17 input.sk-toggleable__control:checked~label.sk-toggleable__label-arrow:before {content: \"▾\";}#sk-container-id-17 div.sk-estimator input.sk-toggleable__control:checked~label.sk-toggleable__label {background-color: #d4ebff;}#sk-container-id-17 div.sk-label input.sk-toggleable__control:checked~label.sk-toggleable__label {background-color: #d4ebff;}#sk-container-id-17 input.sk-hidden--visually {border: 0;clip: rect(1px 1px 1px 1px);clip: rect(1px, 1px, 1px, 1px);height: 1px;margin: -1px;overflow: hidden;padding: 0;position: absolute;width: 1px;}#sk-container-id-17 div.sk-estimator {font-family: monospace;background-color: #f0f8ff;border: 1px dotted black;border-radius: 0.25em;box-sizing: border-box;margin-bottom: 0.5em;}#sk-container-id-17 div.sk-estimator:hover {background-color: #d4ebff;}#sk-container-id-17 div.sk-parallel-item::after {content: \"\";width: 100%;border-bottom: 1px solid gray;flex-grow: 1;}#sk-container-id-17 div.sk-label:hover label.sk-toggleable__label {background-color: #d4ebff;}#sk-container-id-17 div.sk-serial::before {content: \"\";position: absolute;border-left: 1px solid gray;box-sizing: border-box;top: 0;bottom: 0;left: 50%;z-index: 0;}#sk-container-id-17 div.sk-serial {display: flex;flex-direction: column;align-items: center;background-color: white;padding-right: 0.2em;padding-left: 0.2em;position: relative;}#sk-container-id-17 div.sk-item {position: relative;z-index: 1;}#sk-container-id-17 div.sk-parallel {display: flex;align-items: stretch;justify-content: center;background-color: white;position: relative;}#sk-container-id-17 div.sk-item::before, #sk-container-id-17 div.sk-parallel-item::before {content: \"\";position: absolute;border-left: 1px solid gray;box-sizing: border-box;top: 0;bottom: 0;left: 50%;z-index: -1;}#sk-container-id-17 div.sk-parallel-item {display: flex;flex-direction: column;z-index: 1;position: relative;background-color: white;}#sk-container-id-17 div.sk-parallel-item:first-child::after {align-self: flex-end;width: 50%;}#sk-container-id-17 div.sk-parallel-item:last-child::after {align-self: flex-start;width: 50%;}#sk-container-id-17 div.sk-parallel-item:only-child::after {width: 0;}#sk-container-id-17 div.sk-dashed-wrapped {border: 1px dashed gray;margin: 0 0.4em 0.5em 0.4em;box-sizing: border-box;padding-bottom: 0.4em;background-color: white;}#sk-container-id-17 div.sk-label label {font-family: monospace;font-weight: bold;display: inline-block;line-height: 1.2em;}#sk-container-id-17 div.sk-label-container {text-align: center;}#sk-container-id-17 div.sk-container {/* jupyter's `normalize.less` sets `[hidden] { display: none; }` but bootstrap.min.css set `[hidden] { display: none !important; }` so we also need the `!important` here to be able to override the default hidden behavior on the sphinx rendered scikit-learn.org. See: https://github.com/scikit-learn/scikit-learn/issues/21755 */display: inline-block !important;position: relative;}#sk-container-id-17 div.sk-text-repr-fallback {display: none;}</style><div id=\"sk-container-id-17\" class=\"sk-top-container\"><div class=\"sk-text-repr-fallback\"><pre>CustomKerasClassifier()</pre><b>In a Jupyter environment, please rerun this cell to show the HTML representation or trust the notebook. <br />On GitHub, the HTML representation is unable to render, please try loading this page with nbviewer.org.</b></div><div class=\"sk-container\" hidden><div class=\"sk-item\"><div class=\"sk-estimator sk-toggleable\"><input class=\"sk-toggleable__control sk-hidden--visually\" id=\"sk-estimator-id-19\" type=\"checkbox\" checked><label for=\"sk-estimator-id-19\" class=\"sk-toggleable__label sk-toggleable__label-arrow\">CustomKerasClassifier</label><div class=\"sk-toggleable__content\"><pre>CustomKerasClassifier()</pre></div></div></div></div></div>"
      ],
      "text/plain": [
       "CustomKerasClassifier()"
      ]
     },
     "execution_count": 161,
     "metadata": {},
     "output_type": "execute_result"
    }
   ],
   "source": [
    "model.fit(X_nt_s_i, y_nt)"
   ]
  },
  {
   "cell_type": "code",
   "execution_count": 162,
   "id": "9c9252d5-068f-4df2-a9b3-515dfc7b8550",
   "metadata": {},
   "outputs": [
    {
     "name": "stdout",
     "output_type": "stream",
     "text": [
      "7/7 [==============================] - 0s 4ms/step\n",
      "Classification Report on Test Set:\n",
      "              precision    recall  f1-score   support\n",
      "\n",
      "     Class 0       0.89      0.98      0.93       183\n",
      "     Class 1       0.43      0.12      0.18        26\n",
      "\n",
      "    accuracy                           0.87       209\n",
      "   macro avg       0.66      0.55      0.56       209\n",
      "weighted avg       0.83      0.87      0.84       209\n",
      "\n",
      "Confusion Matrix:\n",
      "+-----------+-----------+\n",
      "|   Class 0 |   Class 1 |\n",
      "+===========+===========+\n",
      "|       179 |         4 |\n",
      "+-----------+-----------+\n",
      "|        23 |         3 |\n",
      "+-----------+-----------+\n"
     ]
    },
    {
     "data": {
      "image/png": "[encoded data removed]",
      "text/plain": [
       "<Figure size 800x600 with 1 Axes>"
      ]
     },
     "metadata": {},
     "output_type": "display_data"
    }
   ],
   "source": [
    "model_test(model)"
   ]
  },
  {
   "cell_type": "code",
   "execution_count": 165,
   "id": "13099a0f-ad4e-49e4-81ca-244f3d85950f",
   "metadata": {},
   "outputs": [],
   "source": [
    "param_grid = {\n",
    "    'optimizer': ['adam', 'rmsprop'],  # Example values for optimizer\n",
    "    'activation': ['relu', 'tanh'],     # Example values for activation\n",
    "    'first_units': [64, 128],           # Example values for first_units\n",
    "    'hidden_layers': [[64], [128, 64], [128, 128]], #, [128, 64, 64], [128, 128, 64], [128, 128, 128]],  # Example values for hidden_layers\n",
    "    'batchnorm': [True, False],    # Example values for first_batchnorm\n",
    "    'dropout': [True, False],\n",
    "    'dropout_rate': [0.3],\n",
    "    'learning_rate': [0.001, 0.01]\n",
    "}"
   ]
  },
  {
   "cell_type": "code",
   "execution_count": 173,
   "id": "026c2a83-d72a-4642-9d22-4215de7a4787",
   "metadata": {},
   "outputs": [
    {
     "name": "stdout",
     "output_type": "stream",
     "text": [
      "Fitting 5 folds for each of 192 candidates, totalling 960 fits\n",
      "Time taken: 682.1203455924988 seconds\n",
      "Best Hyperparameters: {'activation': 'relu', 'batchnorm': True, 'dropout': False, 'dropout_rate': 0.3, 'first_units': 128, 'hidden_layers': [64], 'learning_rate': 0.01, 'optimizer': 'rmsprop'}\n",
      "7/7 [==============================] - 0s 4ms/step\n",
      "Classification Report on Test Set:\n",
      "              precision    recall  f1-score   support\n",
      "\n",
      "     Class 0       0.91      0.97      0.94       183\n",
      "     Class 1       0.60      0.35      0.44        26\n",
      "\n",
      "    accuracy                           0.89       209\n",
      "   macro avg       0.76      0.66      0.69       209\n",
      "weighted avg       0.87      0.89      0.88       209\n",
      "\n",
      "Confusion Matrix:\n",
      "+-----------+-----------+\n",
      "|   Class 0 |   Class 1 |\n",
      "+===========+===========+\n",
      "|       177 |         6 |\n",
      "+-----------+-----------+\n",
      "|        17 |         9 |\n",
      "+-----------+-----------+\n"
     ]
    },
    {
     "data": {
      "image/png": "[encoded data removed]",
      "text/plain": [
       "<Figure size 800x600 with 1 Axes>"
      ]
     },
     "metadata": {},
     "output_type": "display_data"
    }
   ],
   "source": [
    "best_params, best_model, grid_object = grid_searcher(param_grid, model, 'f1', X_nt_s_i, y_nt, 5)\n",
    "model_test(best_model)"
   ]
  },
  {
   "cell_type": "code",
   "execution_count": 124,
   "id": "550305a0-40ba-4730-b872-506bd911fc51",
   "metadata": {},
   "outputs": [
    {
     "name": "stdout",
     "output_type": "stream",
     "text": [
      "Fitting 2 folds for each of 2 candidates, totalling 4 fits\n",
      "Time taken: 13.61595368385315 seconds\n",
      "Best Hyperparameters: {'learning_rate': 0.001}\n",
      "7/7 [==============================] - 0s 2ms/step\n",
      "Classification Report on Test Set:\n",
      "              precision    recall  f1-score   support\n",
      "\n",
      "     Class 0       0.89      0.97      0.93       183\n",
      "     Class 1       0.45      0.19      0.27        26\n",
      "\n",
      "    accuracy                           0.87       209\n",
      "   macro avg       0.67      0.58      0.60       209\n",
      "weighted avg       0.84      0.87      0.85       209\n",
      "\n",
      "Confusion Matrix:\n",
      "+-----------+-----------+\n",
      "|   Class 0 |   Class 1 |\n",
      "+===========+===========+\n",
      "|       177 |         6 |\n",
      "+-----------+-----------+\n",
      "|        21 |         5 |\n",
      "+-----------+-----------+\n"
     ]
    },
    {
     "data": {
      "image/png": "[encoded data removed]",
      "text/plain": [
       "<Figure size 800x600 with 1 Axes>"
      ]
     },
     "metadata": {},
     "output_type": "display_data"
    }
   ],
   "source": [
    "best_params, best_model, grid_object = grid_searcher(param_grid, model, 'f1', X_nt_s_i, y_nt, 2)\n",
    "model_test(best_model)"
   ]
  },
  {
   "cell_type": "code",
   "execution_count": 42,
   "id": "7bc928df-e242-4942-bfbd-d0637894bdcd",
   "metadata": {
    "collapsed": true,
    "jupyter": {
     "outputs_hidden": true
    }
   },
   "outputs": [
    {
     "name": "stdout",
     "output_type": "stream",
     "text": [
      "Classification Report on Test Set:\n",
      "              precision    recall  f1-score   support\n",
      "\n",
      "     Class 0       0.90      0.96      0.93       183\n",
      "     Class 1       0.47      0.27      0.34        26\n",
      "\n",
      "    accuracy                           0.87       209\n",
      "   macro avg       0.68      0.61      0.63       209\n",
      "weighted avg       0.85      0.87      0.86       209\n",
      "\n",
      "Confusion Matrix:\n",
      "+-----------+-----------+\n",
      "|   Class 0 |   Class 1 |\n",
      "+===========+===========+\n",
      "|       175 |         8 |\n",
      "+-----------+-----------+\n",
      "|        19 |         7 |\n",
      "+-----------+-----------+\n"
     ]
    },
    {
     "data": {
      "image/png": "[encoded data removed]",
      "text/plain": [
       "<Figure size 800x600 with 1 Axes>"
      ]
     },
     "metadata": {},
     "output_type": "display_data"
    }
   ],
   "source": [
    "model_test(best_model)"
   ]
  },
  {
   "cell_type": "code",
   "execution_count": null,
   "id": "5a823eac-1df8-4a46-bc6c-3739c67ebcb1",
   "metadata": {
    "collapsed": true,
    "jupyter": {
     "outputs_hidden": true
    }
   },
   "outputs": [],
   "source": [
    "best_params, best_model = grid_searcher(param_grid, model, 'f1', cv = 5)"
   ]
  },
  {
   "cell_type": "code",
   "execution_count": 125,
   "id": "9ce90d8e-7bfe-49f3-8770-537df5ba6317",
   "metadata": {
    "collapsed": true,
    "jupyter": {
     "outputs_hidden": true
    }
   },
   "outputs": [
    {
     "name": "stdout",
     "output_type": "stream",
     "text": [
      "Classification Report on Test Set:\n",
      "              precision    recall  f1-score   support\n",
      "\n",
      "     Class 0       0.90      0.92      0.91       183\n",
      "     Class 1       0.32      0.27      0.29        26\n",
      "\n",
      "    accuracy                           0.84       209\n",
      "   macro avg       0.61      0.59      0.60       209\n",
      "weighted avg       0.83      0.84      0.83       209\n",
      "\n",
      "Confusion Matrix:\n",
      "+-----------+-----------+\n",
      "|   Class 0 |   Class 1 |\n",
      "+===========+===========+\n",
      "|       168 |        15 |\n",
      "+-----------+-----------+\n",
      "|        19 |         7 |\n",
      "+-----------+-----------+\n"
     ]
    },
    {
     "data": {
      "image/png": "[encoded data removed]",
      "text/plain": [
       "<Figure size 800x600 with 1 Axes>"
      ]
     },
     "metadata": {},
     "output_type": "display_data"
    }
   ],
   "source": [
    "model_test(best_model)"
   ]
  },
  {
   "cell_type": "code",
   "execution_count": 5,
   "id": "273a9712-3ae0-42a2-b2c5-0ff940174a91",
   "metadata": {
    "collapsed": true,
    "jupyter": {
     "outputs_hidden": true
    }
   },
   "outputs": [
    {
     "data": {
      "text/plain": [
       "array([0, 0, 0, 0, 0, 0, 0, 0, 0, 0, 0, 0, 0, 0, 0, 0, 0, 0, 0, 0, 0, 0,\n",
       "       0, 0, 0, 0, 0, 0, 0, 0, 0, 0, 0, 0, 0, 0, 0, 0, 0, 0, 0, 0, 0, 0,\n",
       "       0, 0, 0, 0, 0, 0, 0, 0, 0, 0, 0, 0, 0, 0, 0, 0, 0, 0, 0, 0, 0, 0,\n",
       "       0, 0, 0, 0, 0, 0, 0, 0, 0, 0, 0, 0, 0, 0, 0, 0, 0, 0, 0, 0, 0, 0,\n",
       "       0, 0, 0, 0, 0, 0, 0, 0, 0, 0, 0, 0, 0, 0, 1, 0, 0, 0, 0, 0, 0, 0,\n",
       "       0, 0, 0, 0, 0, 0, 0, 0, 0, 0, 0, 0, 0, 0, 0, 0, 0, 0, 0, 0, 0, 0,\n",
       "       0, 0, 0, 0, 0, 0, 0, 0, 0, 0, 0, 0, 0, 0, 0, 0, 0, 0, 0, 0, 0, 0,\n",
       "       0, 0, 0, 0, 0, 0, 0, 0, 0, 0, 0, 0, 0, 0, 0, 0, 0, 0, 0, 0, 0, 0,\n",
       "       0, 0, 0, 0, 0, 0, 0, 0, 0, 0, 0, 0, 0, 0, 0, 0, 0, 0, 0, 0, 0, 0,\n",
       "       0, 0, 0, 0, 0, 0, 0, 0, 0, 0, 0], dtype=int64)"
      ]
     },
     "execution_count": 5,
     "metadata": {},
     "output_type": "execute_result"
    }
   ],
   "source": [
    "model.predict(X_t_s_i)"
   ]
  },
  {
   "cell_type": "code",
   "execution_count": 133,
   "id": "15c6dd50-4711-4130-affb-fe9ef5185c8c",
   "metadata": {},
   "outputs": [
    {
     "name": "stdout",
     "output_type": "stream",
     "text": [
      "tf.Tensor([0.5380393], shape=(1,), dtype=float32)\n",
      "tf.Tensor([0.3253647], shape=(1,), dtype=float32)\n"
     ]
    }
   ],
   "source": [
    "tf.random.set_seed(1234)\n",
    "print(tf.random.uniform([1]))\n",
    "print(tf.random.uniform([1]))"
   ]
  },
  {
   "cell_type": "code",
   "execution_count": null,
   "id": "762a8049-eab7-4a17-b524-ad4dfcb91ca6",
   "metadata": {},
   "outputs": [],
   "source": []
  }
 ],
 "metadata": {
  "kernelspec": {
   "display_name": "Python 3 (ipykernel)",
   "language": "python",
   "name": "python3"
  },
  "language_info": {
   "codemirror_mode": {
    "name": "ipython",
    "version": 3
   },
   "file_extension": ".py",
   "mimetype": "text/x-python",
   "name": "python",
   "nbconvert_exporter": "python",
   "pygments_lexer": "ipython3",
   "version": "3.9.18"
  }
 },
 "nbformat": 4,
 "nbformat_minor": 5
}
