{
 "cells": [
  {
   "cell_type": "code",
   "execution_count": 84,
   "id": "bfc65f78",
   "metadata": {},
   "outputs": [],
   "source": [
    "import pandas as pd\n",
    "import numpy as np\n",
    "import matplotlib.pyplot as plt\n",
    "import copy\n",
    "from sklearn.impute import SimpleImputer\n",
    "from sklearn.model_selection import train_test_split\n",
    "from sklearn.compose import ColumnTransformer\n",
    "from sklearn.pipeline import Pipeline\n",
    "from sklearn.preprocessing import OneHotEncoder, OrdinalEncoder, StandardScaler\n",
    "from sklearn.ensemble import RandomForestClassifier\n",
    "from sklearn.metrics import mean_absolute_error, f1_score\n",
    "from sklearn.metrics import accuracy_score, classification_report"
   ]
  },
  {
   "cell_type": "code",
   "execution_count": 2,
   "id": "3f168a67",
   "metadata": {},
   "outputs": [
    {
     "data": {
      "text/html": [
       "<div>\n",
       "<style scoped>\n",
       "    .dataframe tbody tr th:only-of-type {\n",
       "        vertical-align: middle;\n",
       "    }\n",
       "\n",
       "    .dataframe tbody tr th {\n",
       "        vertical-align: top;\n",
       "    }\n",
       "\n",
       "    .dataframe thead th {\n",
       "        text-align: right;\n",
       "    }\n",
       "</style>\n",
       "<table border=\"1\" class=\"dataframe\">\n",
       "  <thead>\n",
       "    <tr style=\"text-align: right;\">\n",
       "      <th></th>\n",
       "      <th>AGE</th>\n",
       "      <th>SEX</th>\n",
       "      <th>DM</th>\n",
       "      <th>HTN</th>\n",
       "      <th>CKD</th>\n",
       "      <th>INCIDENTAL</th>\n",
       "      <th>PAIN</th>\n",
       "      <th>HEMATURIA</th>\n",
       "      <th>MASS</th>\n",
       "      <th>LOW</th>\n",
       "      <th>...</th>\n",
       "      <th>T</th>\n",
       "      <th>N</th>\n",
       "      <th>M</th>\n",
       "      <th>IVC INV</th>\n",
       "      <th>MAX DIA</th>\n",
       "      <th>APPROACH</th>\n",
       "      <th>HISTOPATHOLOGY</th>\n",
       "      <th>GRADE</th>\n",
       "      <th>MONTHS</th>\n",
       "      <th>RECURRENCE</th>\n",
       "    </tr>\n",
       "  </thead>\n",
       "  <tbody>\n",
       "    <tr>\n",
       "      <th>0</th>\n",
       "      <td>32</td>\n",
       "      <td>M</td>\n",
       "      <td>0</td>\n",
       "      <td>0</td>\n",
       "      <td>0</td>\n",
       "      <td>0</td>\n",
       "      <td>1</td>\n",
       "      <td>0</td>\n",
       "      <td>0</td>\n",
       "      <td>0.0</td>\n",
       "      <td>...</td>\n",
       "      <td>2</td>\n",
       "      <td>0</td>\n",
       "      <td>1</td>\n",
       "      <td>0</td>\n",
       "      <td>8.0</td>\n",
       "      <td>2</td>\n",
       "      <td>clear cell</td>\n",
       "      <td>2.0</td>\n",
       "      <td>95</td>\n",
       "      <td>0</td>\n",
       "    </tr>\n",
       "    <tr>\n",
       "      <th>1</th>\n",
       "      <td>45</td>\n",
       "      <td>F</td>\n",
       "      <td>0</td>\n",
       "      <td>0</td>\n",
       "      <td>0</td>\n",
       "      <td>0</td>\n",
       "      <td>1</td>\n",
       "      <td>1</td>\n",
       "      <td>0</td>\n",
       "      <td>0.0</td>\n",
       "      <td>...</td>\n",
       "      <td>4</td>\n",
       "      <td>1</td>\n",
       "      <td>1</td>\n",
       "      <td>0</td>\n",
       "      <td>4.9</td>\n",
       "      <td>1</td>\n",
       "      <td>clear cell</td>\n",
       "      <td>2.0</td>\n",
       "      <td>95</td>\n",
       "      <td>0</td>\n",
       "    </tr>\n",
       "    <tr>\n",
       "      <th>2</th>\n",
       "      <td>47</td>\n",
       "      <td>M</td>\n",
       "      <td>0</td>\n",
       "      <td>0</td>\n",
       "      <td>0</td>\n",
       "      <td>1</td>\n",
       "      <td>0</td>\n",
       "      <td>0</td>\n",
       "      <td>0</td>\n",
       "      <td>0.0</td>\n",
       "      <td>...</td>\n",
       "      <td>3b</td>\n",
       "      <td>0</td>\n",
       "      <td>1</td>\n",
       "      <td>1</td>\n",
       "      <td>9.0</td>\n",
       "      <td>1</td>\n",
       "      <td>clear cell</td>\n",
       "      <td>3.0</td>\n",
       "      <td>95</td>\n",
       "      <td>0</td>\n",
       "    </tr>\n",
       "    <tr>\n",
       "      <th>3</th>\n",
       "      <td>58</td>\n",
       "      <td>M</td>\n",
       "      <td>0</td>\n",
       "      <td>0</td>\n",
       "      <td>0</td>\n",
       "      <td>0</td>\n",
       "      <td>0</td>\n",
       "      <td>1</td>\n",
       "      <td>0</td>\n",
       "      <td>0.0</td>\n",
       "      <td>...</td>\n",
       "      <td>3a</td>\n",
       "      <td>0</td>\n",
       "      <td>0</td>\n",
       "      <td>0</td>\n",
       "      <td>7.0</td>\n",
       "      <td>2</td>\n",
       "      <td>clear cell</td>\n",
       "      <td>2.0</td>\n",
       "      <td>95</td>\n",
       "      <td>1</td>\n",
       "    </tr>\n",
       "    <tr>\n",
       "      <th>4</th>\n",
       "      <td>22</td>\n",
       "      <td>M</td>\n",
       "      <td>0</td>\n",
       "      <td>0</td>\n",
       "      <td>0</td>\n",
       "      <td>0</td>\n",
       "      <td>1</td>\n",
       "      <td>0</td>\n",
       "      <td>0</td>\n",
       "      <td>0.0</td>\n",
       "      <td>...</td>\n",
       "      <td>2b</td>\n",
       "      <td>0</td>\n",
       "      <td>0</td>\n",
       "      <td>0</td>\n",
       "      <td>10.4</td>\n",
       "      <td>1</td>\n",
       "      <td>clear cell</td>\n",
       "      <td>2.0</td>\n",
       "      <td>94</td>\n",
       "      <td>0</td>\n",
       "    </tr>\n",
       "    <tr>\n",
       "      <th>...</th>\n",
       "      <td>...</td>\n",
       "      <td>...</td>\n",
       "      <td>...</td>\n",
       "      <td>...</td>\n",
       "      <td>...</td>\n",
       "      <td>...</td>\n",
       "      <td>...</td>\n",
       "      <td>...</td>\n",
       "      <td>...</td>\n",
       "      <td>...</td>\n",
       "      <td>...</td>\n",
       "      <td>...</td>\n",
       "      <td>...</td>\n",
       "      <td>...</td>\n",
       "      <td>...</td>\n",
       "      <td>...</td>\n",
       "      <td>...</td>\n",
       "      <td>...</td>\n",
       "      <td>...</td>\n",
       "      <td>...</td>\n",
       "      <td>...</td>\n",
       "    </tr>\n",
       "    <tr>\n",
       "      <th>690</th>\n",
       "      <td>64</td>\n",
       "      <td>M</td>\n",
       "      <td>0</td>\n",
       "      <td>0</td>\n",
       "      <td>0</td>\n",
       "      <td>0</td>\n",
       "      <td>1</td>\n",
       "      <td>0</td>\n",
       "      <td>0</td>\n",
       "      <td>0.0</td>\n",
       "      <td>...</td>\n",
       "      <td>3a</td>\n",
       "      <td>0</td>\n",
       "      <td>0</td>\n",
       "      <td>0</td>\n",
       "      <td>8.0</td>\n",
       "      <td>1</td>\n",
       "      <td>clear cell</td>\n",
       "      <td>4.0</td>\n",
       "      <td>18</td>\n",
       "      <td>0</td>\n",
       "    </tr>\n",
       "    <tr>\n",
       "      <th>691</th>\n",
       "      <td>49</td>\n",
       "      <td>M</td>\n",
       "      <td>0</td>\n",
       "      <td>0</td>\n",
       "      <td>0</td>\n",
       "      <td>0</td>\n",
       "      <td>0</td>\n",
       "      <td>1</td>\n",
       "      <td>0</td>\n",
       "      <td>0.0</td>\n",
       "      <td>...</td>\n",
       "      <td>2a</td>\n",
       "      <td>0</td>\n",
       "      <td>0</td>\n",
       "      <td>0</td>\n",
       "      <td>10.0</td>\n",
       "      <td>1</td>\n",
       "      <td>clear cell</td>\n",
       "      <td>3.0</td>\n",
       "      <td>18</td>\n",
       "      <td>0</td>\n",
       "    </tr>\n",
       "    <tr>\n",
       "      <th>692</th>\n",
       "      <td>73</td>\n",
       "      <td>M</td>\n",
       "      <td>0</td>\n",
       "      <td>1</td>\n",
       "      <td>0</td>\n",
       "      <td>0</td>\n",
       "      <td>0</td>\n",
       "      <td>1</td>\n",
       "      <td>0</td>\n",
       "      <td>0.0</td>\n",
       "      <td>...</td>\n",
       "      <td>3b</td>\n",
       "      <td>0</td>\n",
       "      <td>0</td>\n",
       "      <td>1</td>\n",
       "      <td>7.5</td>\n",
       "      <td>2</td>\n",
       "      <td>clear cell</td>\n",
       "      <td>1.0</td>\n",
       "      <td>18</td>\n",
       "      <td>0</td>\n",
       "    </tr>\n",
       "    <tr>\n",
       "      <th>693</th>\n",
       "      <td>65</td>\n",
       "      <td>F</td>\n",
       "      <td>0</td>\n",
       "      <td>0</td>\n",
       "      <td>0</td>\n",
       "      <td>0</td>\n",
       "      <td>1</td>\n",
       "      <td>0</td>\n",
       "      <td>0</td>\n",
       "      <td>0.0</td>\n",
       "      <td>...</td>\n",
       "      <td>3a</td>\n",
       "      <td>0</td>\n",
       "      <td>0</td>\n",
       "      <td>0</td>\n",
       "      <td>10.0</td>\n",
       "      <td>1</td>\n",
       "      <td>clear cell</td>\n",
       "      <td>1.0</td>\n",
       "      <td>18</td>\n",
       "      <td>0</td>\n",
       "    </tr>\n",
       "    <tr>\n",
       "      <th>694</th>\n",
       "      <td>70</td>\n",
       "      <td>M</td>\n",
       "      <td>0</td>\n",
       "      <td>1</td>\n",
       "      <td>0</td>\n",
       "      <td>1</td>\n",
       "      <td>0</td>\n",
       "      <td>0</td>\n",
       "      <td>0</td>\n",
       "      <td>0.0</td>\n",
       "      <td>...</td>\n",
       "      <td>3a</td>\n",
       "      <td>0</td>\n",
       "      <td>0</td>\n",
       "      <td>0</td>\n",
       "      <td>4.4</td>\n",
       "      <td>1</td>\n",
       "      <td>clear cell</td>\n",
       "      <td>2.0</td>\n",
       "      <td>18</td>\n",
       "      <td>0</td>\n",
       "    </tr>\n",
       "  </tbody>\n",
       "</table>\n",
       "<p>695 rows × 22 columns</p>\n",
       "</div>"
      ],
      "text/plain": [
       "     AGE SEX  DM  HTN  CKD  INCIDENTAL  PAIN  HEMATURIA  MASS  LOW  ...   T  \\\n",
       "0     32   M   0    0    0           0     1          0     0  0.0  ...   2   \n",
       "1     45   F   0    0    0           0     1          1     0  0.0  ...   4   \n",
       "2     47   M   0    0    0           1     0          0     0  0.0  ...  3b   \n",
       "3     58   M   0    0    0           0     0          1     0  0.0  ...  3a   \n",
       "4     22   M   0    0    0           0     1          0     0  0.0  ...  2b   \n",
       "..   ...  ..  ..  ...  ...         ...   ...        ...   ...  ...  ...  ..   \n",
       "690   64   M   0    0    0           0     1          0     0  0.0  ...  3a   \n",
       "691   49   M   0    0    0           0     0          1     0  0.0  ...  2a   \n",
       "692   73   M   0    1    0           0     0          1     0  0.0  ...  3b   \n",
       "693   65   F   0    0    0           0     1          0     0  0.0  ...  3a   \n",
       "694   70   M   0    1    0           1     0          0     0  0.0  ...  3a   \n",
       "\n",
       "     N  M  IVC INV  MAX DIA  APPROACH  HISTOPATHOLOGY  GRADE MONTHS  \\\n",
       "0    0  1        0      8.0         2      clear cell    2.0     95   \n",
       "1    1  1        0      4.9         1      clear cell    2.0     95   \n",
       "2    0  1        1      9.0         1      clear cell    3.0     95   \n",
       "3    0  0        0      7.0         2      clear cell    2.0     95   \n",
       "4    0  0        0     10.4         1      clear cell    2.0     94   \n",
       "..  .. ..      ...      ...       ...             ...    ...    ...   \n",
       "690  0  0        0      8.0         1      clear cell    4.0     18   \n",
       "691  0  0        0     10.0         1      clear cell    3.0     18   \n",
       "692  0  0        1      7.5         2      clear cell    1.0     18   \n",
       "693  0  0        0     10.0         1      clear cell    1.0     18   \n",
       "694  0  0        0      4.4         1      clear cell    2.0     18   \n",
       "\n",
       "     RECURRENCE  \n",
       "0             0  \n",
       "1             0  \n",
       "2             0  \n",
       "3             1  \n",
       "4             0  \n",
       "..          ...  \n",
       "690           0  \n",
       "691           0  \n",
       "692           0  \n",
       "693           0  \n",
       "694           0  \n",
       "\n",
       "[695 rows x 22 columns]"
      ]
     },
     "execution_count": 2,
     "metadata": {},
     "output_type": "execute_result"
    }
   ],
   "source": [
    "data = pd.read_csv(\"C:\\Aniruddh\\Python\\Jupyter\\RCC\\CSV FILES\\Cleaned data\\RCC_cleaned_data.csv\")\n",
    "data"
   ]
  },
  {
   "cell_type": "code",
   "execution_count": 4,
   "id": "00169341-efd7-462a-a4ad-11b24e487980",
   "metadata": {},
   "outputs": [
    {
     "data": {
      "text/plain": [
       "('2', nan)"
      ]
     },
     "execution_count": 4,
     "metadata": {},
     "output_type": "execute_result"
    }
   ],
   "source": [
    "data.loc[0, \"T\"], data.loc[64, \"LOW\"]"
   ]
  },
  {
   "cell_type": "code",
   "execution_count": 5,
   "id": "6eba293d",
   "metadata": {},
   "outputs": [
    {
     "data": {
      "text/html": [
       "<div>\n",
       "<style scoped>\n",
       "    .dataframe tbody tr th:only-of-type {\n",
       "        vertical-align: middle;\n",
       "    }\n",
       "\n",
       "    .dataframe tbody tr th {\n",
       "        vertical-align: top;\n",
       "    }\n",
       "\n",
       "    .dataframe thead th {\n",
       "        text-align: right;\n",
       "    }\n",
       "</style>\n",
       "<table border=\"1\" class=\"dataframe\">\n",
       "  <thead>\n",
       "    <tr style=\"text-align: right;\">\n",
       "      <th></th>\n",
       "      <th>AGE</th>\n",
       "      <th>SEX</th>\n",
       "      <th>DM</th>\n",
       "      <th>HTN</th>\n",
       "      <th>CKD</th>\n",
       "      <th>INCIDENTAL</th>\n",
       "      <th>PAIN</th>\n",
       "      <th>HEMATURIA</th>\n",
       "      <th>MASS</th>\n",
       "      <th>LOW</th>\n",
       "      <th>...</th>\n",
       "      <th>T</th>\n",
       "      <th>N</th>\n",
       "      <th>M</th>\n",
       "      <th>IVC INV</th>\n",
       "      <th>MAX DIA</th>\n",
       "      <th>APPROACH</th>\n",
       "      <th>HISTOPATHOLOGY</th>\n",
       "      <th>GRADE</th>\n",
       "      <th>MONTHS</th>\n",
       "      <th>RECURRENCE</th>\n",
       "    </tr>\n",
       "  </thead>\n",
       "  <tbody>\n",
       "    <tr>\n",
       "      <th>0</th>\n",
       "      <td>45</td>\n",
       "      <td>F</td>\n",
       "      <td>0</td>\n",
       "      <td>0</td>\n",
       "      <td>0</td>\n",
       "      <td>0</td>\n",
       "      <td>1</td>\n",
       "      <td>1</td>\n",
       "      <td>0</td>\n",
       "      <td>0.0</td>\n",
       "      <td>...</td>\n",
       "      <td>4</td>\n",
       "      <td>1</td>\n",
       "      <td>1</td>\n",
       "      <td>0</td>\n",
       "      <td>4.9</td>\n",
       "      <td>1</td>\n",
       "      <td>clear cell</td>\n",
       "      <td>2.0</td>\n",
       "      <td>95</td>\n",
       "      <td>0</td>\n",
       "    </tr>\n",
       "    <tr>\n",
       "      <th>1</th>\n",
       "      <td>47</td>\n",
       "      <td>M</td>\n",
       "      <td>0</td>\n",
       "      <td>0</td>\n",
       "      <td>0</td>\n",
       "      <td>1</td>\n",
       "      <td>0</td>\n",
       "      <td>0</td>\n",
       "      <td>0</td>\n",
       "      <td>0.0</td>\n",
       "      <td>...</td>\n",
       "      <td>3b</td>\n",
       "      <td>0</td>\n",
       "      <td>1</td>\n",
       "      <td>1</td>\n",
       "      <td>9.0</td>\n",
       "      <td>1</td>\n",
       "      <td>clear cell</td>\n",
       "      <td>3.0</td>\n",
       "      <td>95</td>\n",
       "      <td>0</td>\n",
       "    </tr>\n",
       "    <tr>\n",
       "      <th>2</th>\n",
       "      <td>58</td>\n",
       "      <td>M</td>\n",
       "      <td>0</td>\n",
       "      <td>0</td>\n",
       "      <td>0</td>\n",
       "      <td>0</td>\n",
       "      <td>0</td>\n",
       "      <td>1</td>\n",
       "      <td>0</td>\n",
       "      <td>0.0</td>\n",
       "      <td>...</td>\n",
       "      <td>3a</td>\n",
       "      <td>0</td>\n",
       "      <td>0</td>\n",
       "      <td>0</td>\n",
       "      <td>7.0</td>\n",
       "      <td>2</td>\n",
       "      <td>clear cell</td>\n",
       "      <td>2.0</td>\n",
       "      <td>95</td>\n",
       "      <td>1</td>\n",
       "    </tr>\n",
       "    <tr>\n",
       "      <th>3</th>\n",
       "      <td>22</td>\n",
       "      <td>M</td>\n",
       "      <td>0</td>\n",
       "      <td>0</td>\n",
       "      <td>0</td>\n",
       "      <td>0</td>\n",
       "      <td>1</td>\n",
       "      <td>0</td>\n",
       "      <td>0</td>\n",
       "      <td>0.0</td>\n",
       "      <td>...</td>\n",
       "      <td>2b</td>\n",
       "      <td>0</td>\n",
       "      <td>0</td>\n",
       "      <td>0</td>\n",
       "      <td>10.4</td>\n",
       "      <td>1</td>\n",
       "      <td>clear cell</td>\n",
       "      <td>2.0</td>\n",
       "      <td>94</td>\n",
       "      <td>0</td>\n",
       "    </tr>\n",
       "    <tr>\n",
       "      <th>4</th>\n",
       "      <td>42</td>\n",
       "      <td>M</td>\n",
       "      <td>0</td>\n",
       "      <td>1</td>\n",
       "      <td>0</td>\n",
       "      <td>0</td>\n",
       "      <td>1</td>\n",
       "      <td>0</td>\n",
       "      <td>0</td>\n",
       "      <td>0.0</td>\n",
       "      <td>...</td>\n",
       "      <td>1a</td>\n",
       "      <td>0</td>\n",
       "      <td>0</td>\n",
       "      <td>0</td>\n",
       "      <td>3.0</td>\n",
       "      <td>1</td>\n",
       "      <td>clear cell</td>\n",
       "      <td>NaN</td>\n",
       "      <td>94</td>\n",
       "      <td>0</td>\n",
       "    </tr>\n",
       "    <tr>\n",
       "      <th>...</th>\n",
       "      <td>...</td>\n",
       "      <td>...</td>\n",
       "      <td>...</td>\n",
       "      <td>...</td>\n",
       "      <td>...</td>\n",
       "      <td>...</td>\n",
       "      <td>...</td>\n",
       "      <td>...</td>\n",
       "      <td>...</td>\n",
       "      <td>...</td>\n",
       "      <td>...</td>\n",
       "      <td>...</td>\n",
       "      <td>...</td>\n",
       "      <td>...</td>\n",
       "      <td>...</td>\n",
       "      <td>...</td>\n",
       "      <td>...</td>\n",
       "      <td>...</td>\n",
       "      <td>...</td>\n",
       "      <td>...</td>\n",
       "      <td>...</td>\n",
       "    </tr>\n",
       "    <tr>\n",
       "      <th>688</th>\n",
       "      <td>64</td>\n",
       "      <td>M</td>\n",
       "      <td>0</td>\n",
       "      <td>0</td>\n",
       "      <td>0</td>\n",
       "      <td>0</td>\n",
       "      <td>1</td>\n",
       "      <td>0</td>\n",
       "      <td>0</td>\n",
       "      <td>0.0</td>\n",
       "      <td>...</td>\n",
       "      <td>3a</td>\n",
       "      <td>0</td>\n",
       "      <td>0</td>\n",
       "      <td>0</td>\n",
       "      <td>8.0</td>\n",
       "      <td>1</td>\n",
       "      <td>clear cell</td>\n",
       "      <td>4.0</td>\n",
       "      <td>18</td>\n",
       "      <td>0</td>\n",
       "    </tr>\n",
       "    <tr>\n",
       "      <th>689</th>\n",
       "      <td>49</td>\n",
       "      <td>M</td>\n",
       "      <td>0</td>\n",
       "      <td>0</td>\n",
       "      <td>0</td>\n",
       "      <td>0</td>\n",
       "      <td>0</td>\n",
       "      <td>1</td>\n",
       "      <td>0</td>\n",
       "      <td>0.0</td>\n",
       "      <td>...</td>\n",
       "      <td>2a</td>\n",
       "      <td>0</td>\n",
       "      <td>0</td>\n",
       "      <td>0</td>\n",
       "      <td>10.0</td>\n",
       "      <td>1</td>\n",
       "      <td>clear cell</td>\n",
       "      <td>3.0</td>\n",
       "      <td>18</td>\n",
       "      <td>0</td>\n",
       "    </tr>\n",
       "    <tr>\n",
       "      <th>690</th>\n",
       "      <td>73</td>\n",
       "      <td>M</td>\n",
       "      <td>0</td>\n",
       "      <td>1</td>\n",
       "      <td>0</td>\n",
       "      <td>0</td>\n",
       "      <td>0</td>\n",
       "      <td>1</td>\n",
       "      <td>0</td>\n",
       "      <td>0.0</td>\n",
       "      <td>...</td>\n",
       "      <td>3b</td>\n",
       "      <td>0</td>\n",
       "      <td>0</td>\n",
       "      <td>1</td>\n",
       "      <td>7.5</td>\n",
       "      <td>2</td>\n",
       "      <td>clear cell</td>\n",
       "      <td>1.0</td>\n",
       "      <td>18</td>\n",
       "      <td>0</td>\n",
       "    </tr>\n",
       "    <tr>\n",
       "      <th>691</th>\n",
       "      <td>65</td>\n",
       "      <td>F</td>\n",
       "      <td>0</td>\n",
       "      <td>0</td>\n",
       "      <td>0</td>\n",
       "      <td>0</td>\n",
       "      <td>1</td>\n",
       "      <td>0</td>\n",
       "      <td>0</td>\n",
       "      <td>0.0</td>\n",
       "      <td>...</td>\n",
       "      <td>3a</td>\n",
       "      <td>0</td>\n",
       "      <td>0</td>\n",
       "      <td>0</td>\n",
       "      <td>10.0</td>\n",
       "      <td>1</td>\n",
       "      <td>clear cell</td>\n",
       "      <td>1.0</td>\n",
       "      <td>18</td>\n",
       "      <td>0</td>\n",
       "    </tr>\n",
       "    <tr>\n",
       "      <th>692</th>\n",
       "      <td>70</td>\n",
       "      <td>M</td>\n",
       "      <td>0</td>\n",
       "      <td>1</td>\n",
       "      <td>0</td>\n",
       "      <td>1</td>\n",
       "      <td>0</td>\n",
       "      <td>0</td>\n",
       "      <td>0</td>\n",
       "      <td>0.0</td>\n",
       "      <td>...</td>\n",
       "      <td>3a</td>\n",
       "      <td>0</td>\n",
       "      <td>0</td>\n",
       "      <td>0</td>\n",
       "      <td>4.4</td>\n",
       "      <td>1</td>\n",
       "      <td>clear cell</td>\n",
       "      <td>2.0</td>\n",
       "      <td>18</td>\n",
       "      <td>0</td>\n",
       "    </tr>\n",
       "  </tbody>\n",
       "</table>\n",
       "<p>693 rows × 22 columns</p>\n",
       "</div>"
      ],
      "text/plain": [
       "     AGE SEX  DM  HTN  CKD  INCIDENTAL  PAIN  HEMATURIA  MASS  LOW  ...   T  \\\n",
       "0     45   F   0    0    0           0     1          1     0  0.0  ...   4   \n",
       "1     47   M   0    0    0           1     0          0     0  0.0  ...  3b   \n",
       "2     58   M   0    0    0           0     0          1     0  0.0  ...  3a   \n",
       "3     22   M   0    0    0           0     1          0     0  0.0  ...  2b   \n",
       "4     42   M   0    1    0           0     1          0     0  0.0  ...  1a   \n",
       "..   ...  ..  ..  ...  ...         ...   ...        ...   ...  ...  ...  ..   \n",
       "688   64   M   0    0    0           0     1          0     0  0.0  ...  3a   \n",
       "689   49   M   0    0    0           0     0          1     0  0.0  ...  2a   \n",
       "690   73   M   0    1    0           0     0          1     0  0.0  ...  3b   \n",
       "691   65   F   0    0    0           0     1          0     0  0.0  ...  3a   \n",
       "692   70   M   0    1    0           1     0          0     0  0.0  ...  3a   \n",
       "\n",
       "     N  M  IVC INV  MAX DIA  APPROACH  HISTOPATHOLOGY  GRADE MONTHS  \\\n",
       "0    1  1        0      4.9         1      clear cell    2.0     95   \n",
       "1    0  1        1      9.0         1      clear cell    3.0     95   \n",
       "2    0  0        0      7.0         2      clear cell    2.0     95   \n",
       "3    0  0        0     10.4         1      clear cell    2.0     94   \n",
       "4    0  0        0      3.0         1      clear cell    NaN     94   \n",
       "..  .. ..      ...      ...       ...             ...    ...    ...   \n",
       "688  0  0        0      8.0         1      clear cell    4.0     18   \n",
       "689  0  0        0     10.0         1      clear cell    3.0     18   \n",
       "690  0  0        1      7.5         2      clear cell    1.0     18   \n",
       "691  0  0        0     10.0         1      clear cell    1.0     18   \n",
       "692  0  0        0      4.4         1      clear cell    2.0     18   \n",
       "\n",
       "     RECURRENCE  \n",
       "0             0  \n",
       "1             0  \n",
       "2             1  \n",
       "3             0  \n",
       "4             0  \n",
       "..          ...  \n",
       "688           0  \n",
       "689           0  \n",
       "690           0  \n",
       "691           0  \n",
       "692           0  \n",
       "\n",
       "[693 rows x 22 columns]"
      ]
     },
     "execution_count": 5,
     "metadata": {},
     "output_type": "execute_result"
    }
   ],
   "source": [
    "red_data = data.drop([0, 64], axis = 0).reset_index(drop = True)\n",
    "red_data"
   ]
  },
  {
   "cell_type": "code",
   "execution_count": 8,
   "id": "a2804052-5812-4951-af0e-242db048e105",
   "metadata": {},
   "outputs": [
    {
     "name": "stdout",
     "output_type": "stream",
     "text": [
      "AGE: int64\n",
      "SEX: object\n",
      "DM: int64\n",
      "HTN: int64\n",
      "CKD: int64\n",
      "INCIDENTAL: int64\n",
      "PAIN: int64\n",
      "HEMATURIA: int64\n",
      "MASS: int64\n",
      "LOW: float64\n",
      "FEVER: int64\n",
      "SITE: object\n",
      "T: object\n",
      "N: int64\n",
      "M: int64\n",
      "IVC INV: int64\n",
      "MAX DIA: float64\n",
      "APPROACH: int64\n",
      "HISTOPATHOLOGY: object\n",
      "GRADE: float64\n",
      "MONTHS: int64\n",
      "RECURRENCE: int64\n"
     ]
    }
   ],
   "source": [
    "for col in red_data.columns:\n",
    "    print(f\"{col}: {red_data[col].dtype}\")"
   ]
  },
  {
   "cell_type": "code",
   "execution_count": 6,
   "id": "4775d259",
   "metadata": {},
   "outputs": [
    {
     "data": {
      "text/plain": [
       "['GRADE']"
      ]
     },
     "execution_count": 6,
     "metadata": {},
     "output_type": "execute_result"
    }
   ],
   "source": [
    "missing_cols = [col for col in red_data.columns if red_data[col].isna().any()]\n",
    "missing_cols"
   ]
  },
  {
   "cell_type": "code",
   "execution_count": 7,
   "id": "add74d1f",
   "metadata": {},
   "outputs": [
    {
     "data": {
      "text/plain": [
       "GRADE\n",
       "2.0    277\n",
       "1.0    226\n",
       "3.0    123\n",
       "4.0     56\n",
       "Name: count, dtype: int64"
      ]
     },
     "execution_count": 7,
     "metadata": {},
     "output_type": "execute_result"
    }
   ],
   "source": [
    "red_data['GRADE'].value_counts()"
   ]
  },
  {
   "cell_type": "code",
   "execution_count": 9,
   "id": "3a78f0db",
   "metadata": {},
   "outputs": [],
   "source": [
    "y = red_data.pop('RECURRENCE')"
   ]
  },
  {
   "cell_type": "code",
   "execution_count": 10,
   "id": "91149548",
   "metadata": {},
   "outputs": [
    {
     "name": "stdout",
     "output_type": "stream",
     "text": [
      "['SEX', 'SITE', 'T', 'HISTOPATHOLOGY']\n"
     ]
    }
   ],
   "source": [
    "obj_cols = []\n",
    "for col in data.columns:\n",
    "    if data[col].dtype == 'object':\n",
    "        obj_cols.append(col)\n",
    "print(obj_cols)\n",
    "num_cols = [col for col in red_data.columns if col not in obj_cols]"
   ]
  },
  {
   "cell_type": "code",
   "execution_count": 11,
   "id": "9256f56e",
   "metadata": {},
   "outputs": [
    {
     "name": "stdout",
     "output_type": "stream",
     "text": [
      "SEX: 2\n",
      "SITE: 3\n",
      "T: 8\n",
      "HISTOPATHOLOGY: 2\n"
     ]
    }
   ],
   "source": [
    "for col in obj_cols:\n",
    "    print(f\"{col}: {red_data[col].nunique()}\")"
   ]
  },
  {
   "cell_type": "code",
   "execution_count": 12,
   "id": "931bbdbc",
   "metadata": {},
   "outputs": [
    {
     "data": {
      "text/plain": [
       "['AGE',\n",
       " 'DM',\n",
       " 'HTN',\n",
       " 'CKD',\n",
       " 'INCIDENTAL',\n",
       " 'PAIN',\n",
       " 'HEMATURIA',\n",
       " 'MASS',\n",
       " 'LOW',\n",
       " 'FEVER',\n",
       " 'N',\n",
       " 'M',\n",
       " 'IVC INV',\n",
       " 'MAX DIA',\n",
       " 'APPROACH',\n",
       " 'GRADE',\n",
       " 'MONTHS']"
      ]
     },
     "execution_count": 12,
     "metadata": {},
     "output_type": "execute_result"
    }
   ],
   "source": [
    "num_cols"
   ]
  },
  {
   "cell_type": "code",
   "execution_count": 13,
   "id": "9a638fbc",
   "metadata": {},
   "outputs": [
    {
     "data": {
      "text/plain": [
       "(['SEX', 'SITE', 'HISTOPATHOLOGY'], ['T'])"
      ]
     },
     "execution_count": 13,
     "metadata": {},
     "output_type": "execute_result"
    }
   ],
   "source": [
    "OH_cols = [col for col in obj_cols if red_data[col].nunique() < 5]\n",
    "ord_cols = list(set(obj_cols) - set(OH_cols))\n",
    "OH_cols, ord_cols"
   ]
  },
  {
   "cell_type": "code",
   "execution_count": 14,
   "id": "e6672590",
   "metadata": {},
   "outputs": [
    {
     "data": {
      "text/plain": [
       "True"
      ]
     },
     "execution_count": 14,
     "metadata": {},
     "output_type": "execute_result"
    }
   ],
   "source": [
    "sorted(red_data.columns) == sorted(num_cols + OH_cols + ord_cols)"
   ]
  },
  {
   "cell_type": "code",
   "execution_count": 53,
   "id": "aa7d6a77",
   "metadata": {},
   "outputs": [],
   "source": [
    "X_train, X_valid, y_train, y_valid = train_test_split(red_data, y, train_size = 0.75, test_size = 0.25, random_state = 0) # NO STRATIFY!"
   ]
  },
  {
   "cell_type": "code",
   "execution_count": 27,
   "id": "0cea2eb6",
   "metadata": {},
   "outputs": [],
   "source": [
    "# my god i forgot scaling??\n",
    "numerical_transformer = SimpleImputer(strategy = 'most_frequent')\n",
    "onehot_transformer = Pipeline(steps = [\n",
    "    ('imputer', SimpleImputer(strategy = 'most_frequent')),\n",
    "    ('onehot', OneHotEncoder()) # handle_unknown = 'ignore'))\n",
    "])\n",
    "ordinal_transformer = Pipeline(steps = [\n",
    "    ('imputer', SimpleImputer(strategy = 'most_frequent')),\n",
    "    ('ordinal', OrdinalEncoder()) # handle_unknown = 'use_encoded_value'))\n",
    "])\n",
    "preprocessor = ColumnTransformer(transformers = [\n",
    "    ('num', numerical_transformer, num_cols),\n",
    "    ('OH', onehot_transformer, OH_cols),\n",
    "    ('ord', ordinal_transformer, ord_cols),\n",
    "])\n",
    "model = RandomForestClassifier(n_estimators = 100, random_state = 0, class_weight = 'balanced')\n",
    "clf = Pipeline(steps = [\n",
    "    ('preprocessor', preprocessor),\n",
    "    # ('model', model)\n",
    "])"
   ]
  },
  {
   "cell_type": "code",
   "execution_count": 28,
   "id": "e068e281",
   "metadata": {},
   "outputs": [
    {
     "data": {
      "text/html": [
       "<style>#sk-container-id-2 {color: black;}#sk-container-id-2 pre{padding: 0;}#sk-container-id-2 div.sk-toggleable {background-color: white;}#sk-container-id-2 label.sk-toggleable__label {cursor: pointer;display: block;width: 100%;margin-bottom: 0;padding: 0.3em;box-sizing: border-box;text-align: center;}#sk-container-id-2 label.sk-toggleable__label-arrow:before {content: \"▸\";float: left;margin-right: 0.25em;color: #696969;}#sk-container-id-2 label.sk-toggleable__label-arrow:hover:before {color: black;}#sk-container-id-2 div.sk-estimator:hover label.sk-toggleable__label-arrow:before {color: black;}#sk-container-id-2 div.sk-toggleable__content {max-height: 0;max-width: 0;overflow: hidden;text-align: left;background-color: #f0f8ff;}#sk-container-id-2 div.sk-toggleable__content pre {margin: 0.2em;color: black;border-radius: 0.25em;background-color: #f0f8ff;}#sk-container-id-2 input.sk-toggleable__control:checked~div.sk-toggleable__content {max-height: 200px;max-width: 100%;overflow: auto;}#sk-container-id-2 input.sk-toggleable__control:checked~label.sk-toggleable__label-arrow:before {content: \"▾\";}#sk-container-id-2 div.sk-estimator input.sk-toggleable__control:checked~label.sk-toggleable__label {background-color: #d4ebff;}#sk-container-id-2 div.sk-label input.sk-toggleable__control:checked~label.sk-toggleable__label {background-color: #d4ebff;}#sk-container-id-2 input.sk-hidden--visually {border: 0;clip: rect(1px 1px 1px 1px);clip: rect(1px, 1px, 1px, 1px);height: 1px;margin: -1px;overflow: hidden;padding: 0;position: absolute;width: 1px;}#sk-container-id-2 div.sk-estimator {font-family: monospace;background-color: #f0f8ff;border: 1px dotted black;border-radius: 0.25em;box-sizing: border-box;margin-bottom: 0.5em;}#sk-container-id-2 div.sk-estimator:hover {background-color: #d4ebff;}#sk-container-id-2 div.sk-parallel-item::after {content: \"\";width: 100%;border-bottom: 1px solid gray;flex-grow: 1;}#sk-container-id-2 div.sk-label:hover label.sk-toggleable__label {background-color: #d4ebff;}#sk-container-id-2 div.sk-serial::before {content: \"\";position: absolute;border-left: 1px solid gray;box-sizing: border-box;top: 0;bottom: 0;left: 50%;z-index: 0;}#sk-container-id-2 div.sk-serial {display: flex;flex-direction: column;align-items: center;background-color: white;padding-right: 0.2em;padding-left: 0.2em;position: relative;}#sk-container-id-2 div.sk-item {position: relative;z-index: 1;}#sk-container-id-2 div.sk-parallel {display: flex;align-items: stretch;justify-content: center;background-color: white;position: relative;}#sk-container-id-2 div.sk-item::before, #sk-container-id-2 div.sk-parallel-item::before {content: \"\";position: absolute;border-left: 1px solid gray;box-sizing: border-box;top: 0;bottom: 0;left: 50%;z-index: -1;}#sk-container-id-2 div.sk-parallel-item {display: flex;flex-direction: column;z-index: 1;position: relative;background-color: white;}#sk-container-id-2 div.sk-parallel-item:first-child::after {align-self: flex-end;width: 50%;}#sk-container-id-2 div.sk-parallel-item:last-child::after {align-self: flex-start;width: 50%;}#sk-container-id-2 div.sk-parallel-item:only-child::after {width: 0;}#sk-container-id-2 div.sk-dashed-wrapped {border: 1px dashed gray;margin: 0 0.4em 0.5em 0.4em;box-sizing: border-box;padding-bottom: 0.4em;background-color: white;}#sk-container-id-2 div.sk-label label {font-family: monospace;font-weight: bold;display: inline-block;line-height: 1.2em;}#sk-container-id-2 div.sk-label-container {text-align: center;}#sk-container-id-2 div.sk-container {/* jupyter's `normalize.less` sets `[hidden] { display: none; }` but bootstrap.min.css set `[hidden] { display: none !important; }` so we also need the `!important` here to be able to override the default hidden behavior on the sphinx rendered scikit-learn.org. See: https://github.com/scikit-learn/scikit-learn/issues/21755 */display: inline-block !important;position: relative;}#sk-container-id-2 div.sk-text-repr-fallback {display: none;}</style><div id=\"sk-container-id-2\" class=\"sk-top-container\"><div class=\"sk-text-repr-fallback\"><pre>Pipeline(steps=[(&#x27;preprocessor&#x27;,\n",
       "                 ColumnTransformer(transformers=[(&#x27;num&#x27;,\n",
       "                                                  SimpleImputer(strategy=&#x27;most_frequent&#x27;),\n",
       "                                                  [&#x27;AGE&#x27;, &#x27;DM&#x27;, &#x27;HTN&#x27;, &#x27;CKD&#x27;,\n",
       "                                                   &#x27;INCIDENTAL&#x27;, &#x27;PAIN&#x27;,\n",
       "                                                   &#x27;HEMATURIA&#x27;, &#x27;MASS&#x27;, &#x27;LOW&#x27;,\n",
       "                                                   &#x27;FEVER&#x27;, &#x27;N&#x27;, &#x27;M&#x27;, &#x27;IVC INV&#x27;,\n",
       "                                                   &#x27;MAX DIA&#x27;, &#x27;APPROACH&#x27;,\n",
       "                                                   &#x27;GRADE&#x27;, &#x27;MONTHS&#x27;]),\n",
       "                                                 (&#x27;OH&#x27;,\n",
       "                                                  Pipeline(steps=[(&#x27;imputer&#x27;,\n",
       "                                                                   SimpleImputer(strategy=&#x27;most_frequent&#x27;)),\n",
       "                                                                  (&#x27;onehot&#x27;,\n",
       "                                                                   OneHotEncoder())]),\n",
       "                                                  [&#x27;SEX&#x27;, &#x27;SITE&#x27;,\n",
       "                                                   &#x27;HISTOPATHOLOGY&#x27;]),\n",
       "                                                 (&#x27;ord&#x27;,\n",
       "                                                  Pipeline(steps=[(&#x27;imputer&#x27;,\n",
       "                                                                   SimpleImputer(strategy=&#x27;most_frequent&#x27;)),\n",
       "                                                                  (&#x27;ordinal&#x27;,\n",
       "                                                                   OrdinalEncoder())]),\n",
       "                                                  [&#x27;T&#x27;])]))])</pre><b>In a Jupyter environment, please rerun this cell to show the HTML representation or trust the notebook. <br />On GitHub, the HTML representation is unable to render, please try loading this page with nbviewer.org.</b></div><div class=\"sk-container\" hidden><div class=\"sk-item sk-dashed-wrapped\"><div class=\"sk-label-container\"><div class=\"sk-label sk-toggleable\"><input class=\"sk-toggleable__control sk-hidden--visually\" id=\"sk-estimator-id-11\" type=\"checkbox\" ><label for=\"sk-estimator-id-11\" class=\"sk-toggleable__label sk-toggleable__label-arrow\">Pipeline</label><div class=\"sk-toggleable__content\"><pre>Pipeline(steps=[(&#x27;preprocessor&#x27;,\n",
       "                 ColumnTransformer(transformers=[(&#x27;num&#x27;,\n",
       "                                                  SimpleImputer(strategy=&#x27;most_frequent&#x27;),\n",
       "                                                  [&#x27;AGE&#x27;, &#x27;DM&#x27;, &#x27;HTN&#x27;, &#x27;CKD&#x27;,\n",
       "                                                   &#x27;INCIDENTAL&#x27;, &#x27;PAIN&#x27;,\n",
       "                                                   &#x27;HEMATURIA&#x27;, &#x27;MASS&#x27;, &#x27;LOW&#x27;,\n",
       "                                                   &#x27;FEVER&#x27;, &#x27;N&#x27;, &#x27;M&#x27;, &#x27;IVC INV&#x27;,\n",
       "                                                   &#x27;MAX DIA&#x27;, &#x27;APPROACH&#x27;,\n",
       "                                                   &#x27;GRADE&#x27;, &#x27;MONTHS&#x27;]),\n",
       "                                                 (&#x27;OH&#x27;,\n",
       "                                                  Pipeline(steps=[(&#x27;imputer&#x27;,\n",
       "                                                                   SimpleImputer(strategy=&#x27;most_frequent&#x27;)),\n",
       "                                                                  (&#x27;onehot&#x27;,\n",
       "                                                                   OneHotEncoder())]),\n",
       "                                                  [&#x27;SEX&#x27;, &#x27;SITE&#x27;,\n",
       "                                                   &#x27;HISTOPATHOLOGY&#x27;]),\n",
       "                                                 (&#x27;ord&#x27;,\n",
       "                                                  Pipeline(steps=[(&#x27;imputer&#x27;,\n",
       "                                                                   SimpleImputer(strategy=&#x27;most_frequent&#x27;)),\n",
       "                                                                  (&#x27;ordinal&#x27;,\n",
       "                                                                   OrdinalEncoder())]),\n",
       "                                                  [&#x27;T&#x27;])]))])</pre></div></div></div><div class=\"sk-serial\"><div class=\"sk-item sk-dashed-wrapped\"><div class=\"sk-label-container\"><div class=\"sk-label sk-toggleable\"><input class=\"sk-toggleable__control sk-hidden--visually\" id=\"sk-estimator-id-12\" type=\"checkbox\" ><label for=\"sk-estimator-id-12\" class=\"sk-toggleable__label sk-toggleable__label-arrow\">preprocessor: ColumnTransformer</label><div class=\"sk-toggleable__content\"><pre>ColumnTransformer(transformers=[(&#x27;num&#x27;, SimpleImputer(strategy=&#x27;most_frequent&#x27;),\n",
       "                                 [&#x27;AGE&#x27;, &#x27;DM&#x27;, &#x27;HTN&#x27;, &#x27;CKD&#x27;, &#x27;INCIDENTAL&#x27;,\n",
       "                                  &#x27;PAIN&#x27;, &#x27;HEMATURIA&#x27;, &#x27;MASS&#x27;, &#x27;LOW&#x27;, &#x27;FEVER&#x27;,\n",
       "                                  &#x27;N&#x27;, &#x27;M&#x27;, &#x27;IVC INV&#x27;, &#x27;MAX DIA&#x27;, &#x27;APPROACH&#x27;,\n",
       "                                  &#x27;GRADE&#x27;, &#x27;MONTHS&#x27;]),\n",
       "                                (&#x27;OH&#x27;,\n",
       "                                 Pipeline(steps=[(&#x27;imputer&#x27;,\n",
       "                                                  SimpleImputer(strategy=&#x27;most_frequent&#x27;)),\n",
       "                                                 (&#x27;onehot&#x27;, OneHotEncoder())]),\n",
       "                                 [&#x27;SEX&#x27;, &#x27;SITE&#x27;, &#x27;HISTOPATHOLOGY&#x27;]),\n",
       "                                (&#x27;ord&#x27;,\n",
       "                                 Pipeline(steps=[(&#x27;imputer&#x27;,\n",
       "                                                  SimpleImputer(strategy=&#x27;most_frequent&#x27;)),\n",
       "                                                 (&#x27;ordinal&#x27;,\n",
       "                                                  OrdinalEncoder())]),\n",
       "                                 [&#x27;T&#x27;])])</pre></div></div></div><div class=\"sk-parallel\"><div class=\"sk-parallel-item\"><div class=\"sk-item\"><div class=\"sk-label-container\"><div class=\"sk-label sk-toggleable\"><input class=\"sk-toggleable__control sk-hidden--visually\" id=\"sk-estimator-id-13\" type=\"checkbox\" ><label for=\"sk-estimator-id-13\" class=\"sk-toggleable__label sk-toggleable__label-arrow\">num</label><div class=\"sk-toggleable__content\"><pre>[&#x27;AGE&#x27;, &#x27;DM&#x27;, &#x27;HTN&#x27;, &#x27;CKD&#x27;, &#x27;INCIDENTAL&#x27;, &#x27;PAIN&#x27;, &#x27;HEMATURIA&#x27;, &#x27;MASS&#x27;, &#x27;LOW&#x27;, &#x27;FEVER&#x27;, &#x27;N&#x27;, &#x27;M&#x27;, &#x27;IVC INV&#x27;, &#x27;MAX DIA&#x27;, &#x27;APPROACH&#x27;, &#x27;GRADE&#x27;, &#x27;MONTHS&#x27;]</pre></div></div></div><div class=\"sk-serial\"><div class=\"sk-item\"><div class=\"sk-estimator sk-toggleable\"><input class=\"sk-toggleable__control sk-hidden--visually\" id=\"sk-estimator-id-14\" type=\"checkbox\" ><label for=\"sk-estimator-id-14\" class=\"sk-toggleable__label sk-toggleable__label-arrow\">SimpleImputer</label><div class=\"sk-toggleable__content\"><pre>SimpleImputer(strategy=&#x27;most_frequent&#x27;)</pre></div></div></div></div></div></div><div class=\"sk-parallel-item\"><div class=\"sk-item\"><div class=\"sk-label-container\"><div class=\"sk-label sk-toggleable\"><input class=\"sk-toggleable__control sk-hidden--visually\" id=\"sk-estimator-id-15\" type=\"checkbox\" ><label for=\"sk-estimator-id-15\" class=\"sk-toggleable__label sk-toggleable__label-arrow\">OH</label><div class=\"sk-toggleable__content\"><pre>[&#x27;SEX&#x27;, &#x27;SITE&#x27;, &#x27;HISTOPATHOLOGY&#x27;]</pre></div></div></div><div class=\"sk-serial\"><div class=\"sk-item\"><div class=\"sk-serial\"><div class=\"sk-item\"><div class=\"sk-estimator sk-toggleable\"><input class=\"sk-toggleable__control sk-hidden--visually\" id=\"sk-estimator-id-16\" type=\"checkbox\" ><label for=\"sk-estimator-id-16\" class=\"sk-toggleable__label sk-toggleable__label-arrow\">SimpleImputer</label><div class=\"sk-toggleable__content\"><pre>SimpleImputer(strategy=&#x27;most_frequent&#x27;)</pre></div></div></div><div class=\"sk-item\"><div class=\"sk-estimator sk-toggleable\"><input class=\"sk-toggleable__control sk-hidden--visually\" id=\"sk-estimator-id-17\" type=\"checkbox\" ><label for=\"sk-estimator-id-17\" class=\"sk-toggleable__label sk-toggleable__label-arrow\">OneHotEncoder</label><div class=\"sk-toggleable__content\"><pre>OneHotEncoder()</pre></div></div></div></div></div></div></div></div><div class=\"sk-parallel-item\"><div class=\"sk-item\"><div class=\"sk-label-container\"><div class=\"sk-label sk-toggleable\"><input class=\"sk-toggleable__control sk-hidden--visually\" id=\"sk-estimator-id-18\" type=\"checkbox\" ><label for=\"sk-estimator-id-18\" class=\"sk-toggleable__label sk-toggleable__label-arrow\">ord</label><div class=\"sk-toggleable__content\"><pre>[&#x27;T&#x27;]</pre></div></div></div><div class=\"sk-serial\"><div class=\"sk-item\"><div class=\"sk-serial\"><div class=\"sk-item\"><div class=\"sk-estimator sk-toggleable\"><input class=\"sk-toggleable__control sk-hidden--visually\" id=\"sk-estimator-id-19\" type=\"checkbox\" ><label for=\"sk-estimator-id-19\" class=\"sk-toggleable__label sk-toggleable__label-arrow\">SimpleImputer</label><div class=\"sk-toggleable__content\"><pre>SimpleImputer(strategy=&#x27;most_frequent&#x27;)</pre></div></div></div><div class=\"sk-item\"><div class=\"sk-estimator sk-toggleable\"><input class=\"sk-toggleable__control sk-hidden--visually\" id=\"sk-estimator-id-20\" type=\"checkbox\" ><label for=\"sk-estimator-id-20\" class=\"sk-toggleable__label sk-toggleable__label-arrow\">OrdinalEncoder</label><div class=\"sk-toggleable__content\"><pre>OrdinalEncoder()</pre></div></div></div></div></div></div></div></div></div></div></div></div></div></div>"
      ],
      "text/plain": [
       "Pipeline(steps=[('preprocessor',\n",
       "                 ColumnTransformer(transformers=[('num',\n",
       "                                                  SimpleImputer(strategy='most_frequent'),\n",
       "                                                  ['AGE', 'DM', 'HTN', 'CKD',\n",
       "                                                   'INCIDENTAL', 'PAIN',\n",
       "                                                   'HEMATURIA', 'MASS', 'LOW',\n",
       "                                                   'FEVER', 'N', 'M', 'IVC INV',\n",
       "                                                   'MAX DIA', 'APPROACH',\n",
       "                                                   'GRADE', 'MONTHS']),\n",
       "                                                 ('OH',\n",
       "                                                  Pipeline(steps=[('imputer',\n",
       "                                                                   SimpleImputer(strategy='most_frequent')),\n",
       "                                                                  ('onehot',\n",
       "                                                                   OneHotEncoder())]),\n",
       "                                                  ['SEX', 'SITE',\n",
       "                                                   'HISTOPATHOLOGY']),\n",
       "                                                 ('ord',\n",
       "                                                  Pipeline(steps=[('imputer',\n",
       "                                                                   SimpleImputer(strategy='most_frequent')),\n",
       "                                                                  ('ordinal',\n",
       "                                                                   OrdinalEncoder())]),\n",
       "                                                  ['T'])]))])"
      ]
     },
     "execution_count": 28,
     "metadata": {},
     "output_type": "execute_result"
    }
   ],
   "source": [
    "clf.fit(X_train, y_train)"
   ]
  },
  {
   "cell_type": "code",
   "execution_count": 31,
   "id": "e46d5482-4a07-46d3-8e9a-8a741e3029e6",
   "metadata": {},
   "outputs": [],
   "source": [
    "X_train_ = clf.transform(X_train)\n",
    "X_valid_ = clf.transform(X_valid)"
   ]
  },
  {
   "cell_type": "code",
   "execution_count": 19,
   "id": "a881f717-5c86-4076-8b58-f5228ab5198c",
   "metadata": {},
   "outputs": [
    {
     "data": {
      "text/plain": [
       "array([[60.,  0.,  0., ...,  1.,  0.,  4.],\n",
       "       [37.,  0.,  0., ...,  1.,  0.,  0.],\n",
       "       [55.,  0.,  0., ...,  1.,  0.,  3.],\n",
       "       ...,\n",
       "       [42.,  0.,  0., ...,  1.,  0.,  0.],\n",
       "       [57.,  0.,  0., ...,  1.,  0.,  4.],\n",
       "       [68.,  0.,  0., ...,  1.,  0.,  7.]])"
      ]
     },
     "execution_count": 19,
     "metadata": {},
     "output_type": "execute_result"
    }
   ],
   "source": [
    "X_train_"
   ]
  },
  {
   "cell_type": "code",
   "execution_count": 20,
   "id": "bcee4b7c-ea22-4ed8-9507-466764cd604c",
   "metadata": {},
   "outputs": [
    {
     "data": {
      "text/plain": [
       "(519, 25)"
      ]
     },
     "execution_count": 20,
     "metadata": {},
     "output_type": "execute_result"
    }
   ],
   "source": [
    "X_train_.shape"
   ]
  },
  {
   "cell_type": "code",
   "execution_count": 21,
   "id": "8d1f9a3a-6331-4c84-9ee5-3d3d52d55604",
   "metadata": {},
   "outputs": [
    {
     "data": {
      "text/plain": [
       "[(0, 60.0),\n",
       " (1, 0.0),\n",
       " (2, 0.0),\n",
       " (3, 0.0),\n",
       " (4, 1.0),\n",
       " (5, 0.0),\n",
       " (6, 0.0),\n",
       " (7, 0.0),\n",
       " (8, 0.0),\n",
       " (9, 0.0),\n",
       " (10, 0.0),\n",
       " (11, 0.0),\n",
       " (12, 0.0),\n",
       " (13, 7.1),\n",
       " (14, 2.0),\n",
       " (15, 2.0),\n",
       " (16, 55.0),\n",
       " (17, 0.0),\n",
       " (18, 1.0),\n",
       " (19, 0.0),\n",
       " (20, 1.0),\n",
       " (21, 0.0),\n",
       " (22, 1.0),\n",
       " (23, 0.0),\n",
       " (24, 4.0)]"
      ]
     },
     "execution_count": 21,
     "metadata": {},
     "output_type": "execute_result"
    }
   ],
   "source": [
    "list(enumerate(X_train_[0]))"
   ]
  },
  {
   "cell_type": "code",
   "execution_count": 22,
   "id": "03d33061-bffa-43b8-8cd1-f790182071d7",
   "metadata": {},
   "outputs": [
    {
     "data": {
      "text/plain": [
       "[(0, 'AGE'),\n",
       " (1, 'SEX'),\n",
       " (2, 'DM'),\n",
       " (3, 'HTN'),\n",
       " (4, 'CKD'),\n",
       " (5, 'INCIDENTAL'),\n",
       " (6, 'PAIN'),\n",
       " (7, 'HEMATURIA'),\n",
       " (8, 'MASS'),\n",
       " (9, 'LOW'),\n",
       " (10, 'FEVER'),\n",
       " (11, 'SITE'),\n",
       " (12, 'T'),\n",
       " (13, 'N'),\n",
       " (14, 'M'),\n",
       " (15, 'IVC INV'),\n",
       " (16, 'MAX DIA'),\n",
       " (17, 'APPROACH'),\n",
       " (18, 'HISTOPATHOLOGY'),\n",
       " (19, 'GRADE'),\n",
       " (20, 'MONTHS')]"
      ]
     },
     "execution_count": 22,
     "metadata": {},
     "output_type": "execute_result"
    }
   ],
   "source": [
    "list(enumerate(X_train.columns))"
   ]
  },
  {
   "cell_type": "code",
   "execution_count": null,
   "id": "db03076e-6294-4fed-a82a-96c13f4e865c",
   "metadata": {},
   "outputs": [],
   "source": [
    "# T is 12"
   ]
  },
  {
   "cell_type": "code",
   "execution_count": 23,
   "id": "b41d54c7",
   "metadata": {},
   "outputs": [
    {
     "name": "stdout",
     "output_type": "stream",
     "text": [
      "     AGE SEX  DM  HTN  CKD  INCIDENTAL  PAIN  HEMATURIA  MASS  LOW  ...  \\\n",
      "271   60   M   0    0    0           1     0          0     0  0.0  ...   \n",
      "380   37   M   0    0    0           1     0          0     0  0.0  ...   \n",
      "485   55   M   0    0    0           0     1          0     0  0.0  ...   \n",
      "520   35   M   0    0    0           0     0          1     0  0.0  ...   \n",
      "12    63   M   1    1    0           1     0          0     0  0.0  ...   \n",
      "..   ...  ..  ..  ...  ...         ...   ...        ...   ...  ...  ...   \n",
      "359   34   M   0    0    0           0     1          0     0  0.0  ...   \n",
      "192   34   M   0    0    0           1     0          0     0  0.0  ...   \n",
      "629   42   M   0    0    0           0     1          0     0  0.0  ...   \n",
      "559   57   F   0    0    0           0     0          0     0  1.0  ...   \n",
      "684   68   M   0    0    0           0     0          1     0  0.0  ...   \n",
      "\n",
      "      SITE   T  N  M  IVC INV  MAX DIA  APPROACH  HISTOPATHOLOGY GRADE  MONTHS  \n",
      "271   left  3a  0  0        0      7.1         2      clear cell   2.0      55  \n",
      "380  right  1a  0  0        0      3.0         2      clear cell   1.0      50  \n",
      "485  right  2b  1  0        0     19.0         1      clear cell   4.0      39  \n",
      "520   left  1a  0  0        0      4.0         2      clear cell   1.0      37  \n",
      "12   right  3b  0  1        1      7.0         1      clear cell   1.0      92  \n",
      "..     ...  .. .. ..      ...      ...       ...             ...   ...     ...  \n",
      "359   left  3a  0  0        0      5.0         2      clear cell   2.0      52  \n",
      "192  right  1b  0  0        0      5.0         3      clear cell   1.0      64  \n",
      "629  right  1a  0  0        0      2.0         2      clear cell   1.0      24  \n",
      "559  right  3a  0  1        0     13.0         2      clear cell   4.0      31  \n",
      "684   left   4  0  1        1     10.0         1      clear cell   3.0      18  \n",
      "\n",
      "[519 rows x 21 columns]\n"
     ]
    }
   ],
   "source": [
    "print(X_train)"
   ]
  },
  {
   "cell_type": "code",
   "execution_count": 25,
   "id": "9d716e28-d7a1-42d5-a769-0f79023b36fb",
   "metadata": {
    "scrolled": true
   },
   "outputs": [
    {
     "data": {
      "text/plain": [
       "\u001b[1;31mType:\u001b[0m        Pipeline\n",
       "\u001b[1;31mString form:\u001b[0m\n",
       "Pipeline(steps=[('preprocessor',\n",
       "           ColumnTransformer(transformers=[('num',\n",
       "           <...>                OrdinalEncoder())]),\n",
       "           ['T'])]))])\n",
       "\u001b[1;31mLength:\u001b[0m      1\n",
       "\u001b[1;31mFile:\u001b[0m        c:\\users\\aniru\\anaconda3\\lib\\site-packages\\sklearn\\pipeline.py\n",
       "\u001b[1;31mDocstring:\u001b[0m  \n",
       "Pipeline of transforms with a final estimator.\n",
       "\n",
       "Sequentially apply a list of transforms and a final estimator.\n",
       "Intermediate steps of the pipeline must be 'transforms', that is, they\n",
       "must implement `fit` and `transform` methods.\n",
       "The final estimator only needs to implement `fit`.\n",
       "The transformers in the pipeline can be cached using ``memory`` argument.\n",
       "\n",
       "The purpose of the pipeline is to assemble several steps that can be\n",
       "cross-validated together while setting different parameters. For this, it\n",
       "enables setting parameters of the various steps using their names and the\n",
       "parameter name separated by a `'__'`, as in the example below. A step's\n",
       "estimator may be replaced entirely by setting the parameter with its name\n",
       "to another estimator, or a transformer removed by setting it to\n",
       "`'passthrough'` or `None`.\n",
       "\n",
       "Read more in the :ref:`User Guide <pipeline>`.\n",
       "\n",
       ".. versionadded:: 0.5\n",
       "\n",
       "Parameters\n",
       "----------\n",
       "steps : list of tuple\n",
       "    List of (name, transform) tuples (implementing `fit`/`transform`) that\n",
       "    are chained in sequential order. The last transform must be an\n",
       "    estimator.\n",
       "\n",
       "memory : str or object with the joblib.Memory interface, default=None\n",
       "    Used to cache the fitted transformers of the pipeline. The last step\n",
       "    will never be cached, even if it is a transformer. By default, no\n",
       "    caching is performed. If a string is given, it is the path to the\n",
       "    caching directory. Enabling caching triggers a clone of the transformers\n",
       "    before fitting. Therefore, the transformer instance given to the\n",
       "    pipeline cannot be inspected directly. Use the attribute ``named_steps``\n",
       "    or ``steps`` to inspect estimators within the pipeline. Caching the\n",
       "    transformers is advantageous when fitting is time consuming.\n",
       "\n",
       "verbose : bool, default=False\n",
       "    If True, the time elapsed while fitting each step will be printed as it\n",
       "    is completed.\n",
       "\n",
       "Attributes\n",
       "----------\n",
       "named_steps : :class:`~sklearn.utils.Bunch`\n",
       "    Dictionary-like object, with the following attributes.\n",
       "    Read-only attribute to access any step parameter by user given name.\n",
       "    Keys are step names and values are steps parameters.\n",
       "\n",
       "classes_ : ndarray of shape (n_classes,)\n",
       "    The classes labels. Only exist if the last step of the pipeline is a\n",
       "    classifier.\n",
       "\n",
       "n_features_in_ : int\n",
       "    Number of features seen during :term:`fit`. Only defined if the\n",
       "    underlying first estimator in `steps` exposes such an attribute\n",
       "    when fit.\n",
       "\n",
       "    .. versionadded:: 0.24\n",
       "\n",
       "feature_names_in_ : ndarray of shape (`n_features_in_`,)\n",
       "    Names of features seen during :term:`fit`. Only defined if the\n",
       "    underlying estimator exposes such an attribute when fit.\n",
       "\n",
       "    .. versionadded:: 1.0\n",
       "\n",
       "See Also\n",
       "--------\n",
       "make_pipeline : Convenience function for simplified pipeline construction.\n",
       "\n",
       "Examples\n",
       "--------\n",
       ">>> from sklearn.svm import SVC\n",
       ">>> from sklearn.preprocessing import StandardScaler\n",
       ">>> from sklearn.datasets import make_classification\n",
       ">>> from sklearn.model_selection import train_test_split\n",
       ">>> from sklearn.pipeline import Pipeline\n",
       ">>> X, y = make_classification(random_state=0)\n",
       ">>> X_train, X_test, y_train, y_test = train_test_split(X, y,\n",
       "...                                                     random_state=0)\n",
       ">>> pipe = Pipeline([('scaler', StandardScaler()), ('svc', SVC())])\n",
       ">>> # The pipeline can be used as any other estimator\n",
       ">>> # and avoids leaking the test set into the train set\n",
       ">>> pipe.fit(X_train, y_train)\n",
       "Pipeline(steps=[('scaler', StandardScaler()), ('svc', SVC())])\n",
       ">>> pipe.score(X_test, y_test)\n",
       "0.88"
      ]
     },
     "metadata": {},
     "output_type": "display_data"
    }
   ],
   "source": [
    "clf?"
   ]
  },
  {
   "cell_type": "code",
   "execution_count": 35,
   "id": "c873aceb-93ee-4134-9cc8-531aebfd2009",
   "metadata": {},
   "outputs": [
    {
     "data": {
      "text/html": [
       "<style>#sk-container-id-3 {color: black;}#sk-container-id-3 pre{padding: 0;}#sk-container-id-3 div.sk-toggleable {background-color: white;}#sk-container-id-3 label.sk-toggleable__label {cursor: pointer;display: block;width: 100%;margin-bottom: 0;padding: 0.3em;box-sizing: border-box;text-align: center;}#sk-container-id-3 label.sk-toggleable__label-arrow:before {content: \"▸\";float: left;margin-right: 0.25em;color: #696969;}#sk-container-id-3 label.sk-toggleable__label-arrow:hover:before {color: black;}#sk-container-id-3 div.sk-estimator:hover label.sk-toggleable__label-arrow:before {color: black;}#sk-container-id-3 div.sk-toggleable__content {max-height: 0;max-width: 0;overflow: hidden;text-align: left;background-color: #f0f8ff;}#sk-container-id-3 div.sk-toggleable__content pre {margin: 0.2em;color: black;border-radius: 0.25em;background-color: #f0f8ff;}#sk-container-id-3 input.sk-toggleable__control:checked~div.sk-toggleable__content {max-height: 200px;max-width: 100%;overflow: auto;}#sk-container-id-3 input.sk-toggleable__control:checked~label.sk-toggleable__label-arrow:before {content: \"▾\";}#sk-container-id-3 div.sk-estimator input.sk-toggleable__control:checked~label.sk-toggleable__label {background-color: #d4ebff;}#sk-container-id-3 div.sk-label input.sk-toggleable__control:checked~label.sk-toggleable__label {background-color: #d4ebff;}#sk-container-id-3 input.sk-hidden--visually {border: 0;clip: rect(1px 1px 1px 1px);clip: rect(1px, 1px, 1px, 1px);height: 1px;margin: -1px;overflow: hidden;padding: 0;position: absolute;width: 1px;}#sk-container-id-3 div.sk-estimator {font-family: monospace;background-color: #f0f8ff;border: 1px dotted black;border-radius: 0.25em;box-sizing: border-box;margin-bottom: 0.5em;}#sk-container-id-3 div.sk-estimator:hover {background-color: #d4ebff;}#sk-container-id-3 div.sk-parallel-item::after {content: \"\";width: 100%;border-bottom: 1px solid gray;flex-grow: 1;}#sk-container-id-3 div.sk-label:hover label.sk-toggleable__label {background-color: #d4ebff;}#sk-container-id-3 div.sk-serial::before {content: \"\";position: absolute;border-left: 1px solid gray;box-sizing: border-box;top: 0;bottom: 0;left: 50%;z-index: 0;}#sk-container-id-3 div.sk-serial {display: flex;flex-direction: column;align-items: center;background-color: white;padding-right: 0.2em;padding-left: 0.2em;position: relative;}#sk-container-id-3 div.sk-item {position: relative;z-index: 1;}#sk-container-id-3 div.sk-parallel {display: flex;align-items: stretch;justify-content: center;background-color: white;position: relative;}#sk-container-id-3 div.sk-item::before, #sk-container-id-3 div.sk-parallel-item::before {content: \"\";position: absolute;border-left: 1px solid gray;box-sizing: border-box;top: 0;bottom: 0;left: 50%;z-index: -1;}#sk-container-id-3 div.sk-parallel-item {display: flex;flex-direction: column;z-index: 1;position: relative;background-color: white;}#sk-container-id-3 div.sk-parallel-item:first-child::after {align-self: flex-end;width: 50%;}#sk-container-id-3 div.sk-parallel-item:last-child::after {align-self: flex-start;width: 50%;}#sk-container-id-3 div.sk-parallel-item:only-child::after {width: 0;}#sk-container-id-3 div.sk-dashed-wrapped {border: 1px dashed gray;margin: 0 0.4em 0.5em 0.4em;box-sizing: border-box;padding-bottom: 0.4em;background-color: white;}#sk-container-id-3 div.sk-label label {font-family: monospace;font-weight: bold;display: inline-block;line-height: 1.2em;}#sk-container-id-3 div.sk-label-container {text-align: center;}#sk-container-id-3 div.sk-container {/* jupyter's `normalize.less` sets `[hidden] { display: none; }` but bootstrap.min.css set `[hidden] { display: none !important; }` so we also need the `!important` here to be able to override the default hidden behavior on the sphinx rendered scikit-learn.org. See: https://github.com/scikit-learn/scikit-learn/issues/21755 */display: inline-block !important;position: relative;}#sk-container-id-3 div.sk-text-repr-fallback {display: none;}</style><div id=\"sk-container-id-3\" class=\"sk-top-container\"><div class=\"sk-text-repr-fallback\"><pre>RandomForestClassifier(class_weight=&#x27;balanced&#x27;, random_state=0)</pre><b>In a Jupyter environment, please rerun this cell to show the HTML representation or trust the notebook. <br />On GitHub, the HTML representation is unable to render, please try loading this page with nbviewer.org.</b></div><div class=\"sk-container\" hidden><div class=\"sk-item\"><div class=\"sk-estimator sk-toggleable\"><input class=\"sk-toggleable__control sk-hidden--visually\" id=\"sk-estimator-id-21\" type=\"checkbox\" checked><label for=\"sk-estimator-id-21\" class=\"sk-toggleable__label sk-toggleable__label-arrow\">RandomForestClassifier</label><div class=\"sk-toggleable__content\"><pre>RandomForestClassifier(class_weight=&#x27;balanced&#x27;, random_state=0)</pre></div></div></div></div></div>"
      ],
      "text/plain": [
       "RandomForestClassifier(class_weight='balanced', random_state=0)"
      ]
     },
     "execution_count": 35,
     "metadata": {},
     "output_type": "execute_result"
    }
   ],
   "source": [
    "model.fit(X_train_, y_train)"
   ]
  },
  {
   "cell_type": "code",
   "execution_count": 36,
   "id": "bb6e5662-83ad-45f5-8bbc-b93e54f5a9d5",
   "metadata": {},
   "outputs": [
    {
     "name": "stdout",
     "output_type": "stream",
     "text": [
      "MAE: 0.10919540229885058\n"
     ]
    }
   ],
   "source": [
    "preds = model.predict(X_valid_)\n",
    "print(\"MAE:\", mean_absolute_error(y_valid, preds))"
   ]
  },
  {
   "cell_type": "code",
   "execution_count": 26,
   "id": "f426531e",
   "metadata": {},
   "outputs": [
    {
     "ename": "AttributeError",
     "evalue": "'ColumnTransformer' object has no attribute 'predict'",
     "output_type": "error",
     "traceback": [
      "\u001b[1;31m---------------------------------------------------------------------------\u001b[0m",
      "\u001b[1;31mAttributeError\u001b[0m                            Traceback (most recent call last)",
      "Cell \u001b[1;32mIn[26], line 1\u001b[0m\n\u001b[1;32m----> 1\u001b[0m preds \u001b[38;5;241m=\u001b[39m \u001b[43mclf\u001b[49m\u001b[38;5;241;43m.\u001b[39;49m\u001b[43mpredict\u001b[49m(X_valid)\n\u001b[0;32m      2\u001b[0m \u001b[38;5;28mprint\u001b[39m(\u001b[38;5;124m\"\u001b[39m\u001b[38;5;124mMAE:\u001b[39m\u001b[38;5;124m\"\u001b[39m, mean_absolute_error(y_valid, preds))\n",
      "File \u001b[1;32m~\\anaconda3\\lib\\site-packages\\sklearn\\utils\\_available_if.py:31\u001b[0m, in \u001b[0;36m_AvailableIfDescriptor.__get__\u001b[1;34m(self, obj, owner)\u001b[0m\n\u001b[0;32m     25\u001b[0m attr_err \u001b[38;5;241m=\u001b[39m \u001b[38;5;167;01mAttributeError\u001b[39;00m(\n\u001b[0;32m     26\u001b[0m     \u001b[38;5;124mf\u001b[39m\u001b[38;5;124m\"\u001b[39m\u001b[38;5;124mThis \u001b[39m\u001b[38;5;132;01m{\u001b[39;00m\u001b[38;5;28mrepr\u001b[39m(owner\u001b[38;5;241m.\u001b[39m\u001b[38;5;18m__name__\u001b[39m)\u001b[38;5;132;01m}\u001b[39;00m\u001b[38;5;124m has no attribute \u001b[39m\u001b[38;5;132;01m{\u001b[39;00m\u001b[38;5;28mrepr\u001b[39m(\u001b[38;5;28mself\u001b[39m\u001b[38;5;241m.\u001b[39mattribute_name)\u001b[38;5;132;01m}\u001b[39;00m\u001b[38;5;124m\"\u001b[39m\n\u001b[0;32m     27\u001b[0m )\n\u001b[0;32m     28\u001b[0m \u001b[38;5;28;01mif\u001b[39;00m obj \u001b[38;5;129;01mis\u001b[39;00m \u001b[38;5;129;01mnot\u001b[39;00m \u001b[38;5;28;01mNone\u001b[39;00m:\n\u001b[0;32m     29\u001b[0m     \u001b[38;5;66;03m# delegate only on instances, not the classes.\u001b[39;00m\n\u001b[0;32m     30\u001b[0m     \u001b[38;5;66;03m# this is to allow access to the docstrings.\u001b[39;00m\n\u001b[1;32m---> 31\u001b[0m     \u001b[38;5;28;01mif\u001b[39;00m \u001b[38;5;129;01mnot\u001b[39;00m \u001b[38;5;28;43mself\u001b[39;49m\u001b[38;5;241;43m.\u001b[39;49m\u001b[43mcheck\u001b[49m\u001b[43m(\u001b[49m\u001b[43mobj\u001b[49m\u001b[43m)\u001b[49m:\n\u001b[0;32m     32\u001b[0m         \u001b[38;5;28;01mraise\u001b[39;00m attr_err\n\u001b[0;32m     33\u001b[0m     out \u001b[38;5;241m=\u001b[39m MethodType(\u001b[38;5;28mself\u001b[39m\u001b[38;5;241m.\u001b[39mfn, obj)\n",
      "File \u001b[1;32m~\\anaconda3\\lib\\site-packages\\sklearn\\pipeline.py:44\u001b[0m, in \u001b[0;36m_final_estimator_has.<locals>.check\u001b[1;34m(self)\u001b[0m\n\u001b[0;32m     42\u001b[0m \u001b[38;5;28;01mdef\u001b[39;00m \u001b[38;5;21mcheck\u001b[39m(\u001b[38;5;28mself\u001b[39m):\n\u001b[0;32m     43\u001b[0m     \u001b[38;5;66;03m# raise original `AttributeError` if `attr` does not exist\u001b[39;00m\n\u001b[1;32m---> 44\u001b[0m     \u001b[38;5;28;43mgetattr\u001b[39;49m\u001b[43m(\u001b[49m\u001b[38;5;28;43mself\u001b[39;49m\u001b[38;5;241;43m.\u001b[39;49m\u001b[43m_final_estimator\u001b[49m\u001b[43m,\u001b[49m\u001b[43m \u001b[49m\u001b[43mattr\u001b[49m\u001b[43m)\u001b[49m\n\u001b[0;32m     45\u001b[0m     \u001b[38;5;28;01mreturn\u001b[39;00m \u001b[38;5;28;01mTrue\u001b[39;00m\n",
      "\u001b[1;31mAttributeError\u001b[0m: 'ColumnTransformer' object has no attribute 'predict'"
     ]
    }
   ],
   "source": [
    "preds = clf.predict(X_valid)\n",
    "print(\"MAE:\", mean_absolute_error(y_valid, preds))"
   ]
  },
  {
   "cell_type": "code",
   "execution_count": 38,
   "id": "f3d6df5b",
   "metadata": {},
   "outputs": [
    {
     "name": "stdout",
     "output_type": "stream",
     "text": [
      "89.08045977011494\n"
     ]
    }
   ],
   "source": [
    "print(np.mean(y_valid == preds) * 100)"
   ]
  },
  {
   "cell_type": "code",
   "execution_count": 43,
   "id": "6e2421e2-64f2-4234-ab24-bf8229448368",
   "metadata": {},
   "outputs": [
    {
     "data": {
      "text/plain": [
       "(170, 174)"
      ]
     },
     "execution_count": 43,
     "metadata": {},
     "output_type": "execute_result"
    }
   ],
   "source": [
    "np.sum(preds == 0), len(y_valid)"
   ]
  },
  {
   "cell_type": "code",
   "execution_count": 44,
   "id": "857227e5-0a74-4b92-8780-7e8144429729",
   "metadata": {},
   "outputs": [],
   "source": [
    "# most are zero again"
   ]
  },
  {
   "cell_type": "code",
   "execution_count": 45,
   "id": "0738bc16-9361-4ce8-ba89-e6b24888e13b",
   "metadata": {},
   "outputs": [
    {
     "name": "stdout",
     "output_type": "stream",
     "text": [
      "MAE: 0.0\n",
      "100.0\n"
     ]
    }
   ],
   "source": [
    "train_preds = model.predict(X_train_)\n",
    "print(\"MAE:\", mean_absolute_error(y_train, train_preds))\n",
    "print(np.mean(y_train == train_preds) * 100)"
   ]
  },
  {
   "cell_type": "code",
   "execution_count": 47,
   "id": "1e68d740-d750-464c-9d86-e58eb0e96e40",
   "metadata": {},
   "outputs": [
    {
     "data": {
      "text/plain": [
       "(453, 453, 519)"
      ]
     },
     "execution_count": 47,
     "metadata": {},
     "output_type": "execute_result"
    }
   ],
   "source": [
    "np.sum(train_preds == 0), np.sum(y_train == 0), len(y_train)"
   ]
  },
  {
   "cell_type": "code",
   "execution_count": 18,
   "id": "6513c038",
   "metadata": {},
   "outputs": [
    {
     "name": "stdout",
     "output_type": "stream",
     "text": [
      "MAE: 0.0\n",
      "100.0\n"
     ]
    }
   ],
   "source": [
    "train_preds = clf.predict(X_train)\n",
    "print(\"MAE:\", mean_absolute_error(y_train, train_preds))\n",
    "print(np.mean(y_train == train_preds) * 100)"
   ]
  },
  {
   "cell_type": "code",
   "execution_count": 48,
   "id": "6c6e5d41",
   "metadata": {},
   "outputs": [
    {
     "data": {
      "text/plain": [
       "RECURRENCE\n",
       "0    606\n",
       "1     87\n",
       "Name: count, dtype: int64"
      ]
     },
     "execution_count": 48,
     "metadata": {},
     "output_type": "execute_result"
    }
   ],
   "source": [
    "y.value_counts()"
   ]
  },
  {
   "cell_type": "code",
   "execution_count": 49,
   "id": "f66c218e",
   "metadata": {},
   "outputs": [
    {
     "name": "stdout",
     "output_type": "stream",
     "text": [
      "0.24\n"
     ]
    }
   ],
   "source": [
    "f1 = f1_score(y_valid, preds)\n",
    "print(f1)"
   ]
  },
  {
   "cell_type": "code",
   "execution_count": 50,
   "id": "ad3cf0ef",
   "metadata": {},
   "outputs": [
    {
     "name": "stdout",
     "output_type": "stream",
     "text": [
      "1.0\n"
     ]
    }
   ],
   "source": [
    "f1 = f1_score(y_train, train_preds)\n",
    "print(f1)"
   ]
  },
  {
   "cell_type": "code",
   "execution_count": 52,
   "id": "c3760bf2",
   "metadata": {},
   "outputs": [
    {
     "data": {
      "text/plain": [
       "(0.12716763005780346, 0.1206896551724138)"
      ]
     },
     "execution_count": 52,
     "metadata": {},
     "output_type": "execute_result"
    }
   ],
   "source": [
    "y_train.sum()/len(y_train), y_valid.sum()/len(y_valid)"
   ]
  },
  {
   "cell_type": "code",
   "execution_count": 54,
   "id": "134c522d-3c9a-4d19-856e-136161af867c",
   "metadata": {},
   "outputs": [],
   "source": [
    "a, b, c, d = train_test_split(red_data, y, train_size = 0.75, test_size = 0.25, random_state = 0, stratify = y)"
   ]
  },
  {
   "cell_type": "code",
   "execution_count": 55,
   "id": "3e7ee38b-29cc-47c0-95f4-e7582b13c29c",
   "metadata": {},
   "outputs": [
    {
     "data": {
      "text/plain": [
       "(0.1252408477842004, 0.12643678160919541)"
      ]
     },
     "execution_count": 55,
     "metadata": {},
     "output_type": "execute_result"
    }
   ],
   "source": [
    "c.sum()/len(c), d.sum()/len(d)"
   ]
  },
  {
   "cell_type": "code",
   "execution_count": 63,
   "id": "83fbb1ef-0ed7-4a32-af42-462ec969a801",
   "metadata": {},
   "outputs": [],
   "source": [
    "X = red_data.copy()\n",
    "X.loc[X[X.GRADE.isna() == True].index, 'GRADE'] = 2"
   ]
  },
  {
   "cell_type": "code",
   "execution_count": 66,
   "id": "48f41250-091f-40fa-a12e-d2d5efb3862d",
   "metadata": {},
   "outputs": [],
   "source": [
    "T_dict = {'1a':1, '1b':2, '2a':3, '2b':4, '3a':5, '3b':6, '3c':7, '4':8}\n",
    "X['T'] = X['T'].replace(T_dict)"
   ]
  },
  {
   "cell_type": "code",
   "execution_count": 69,
   "id": "9dd81585-6736-4c97-bd4b-b462596bed30",
   "metadata": {},
   "outputs": [],
   "source": [
    "X = pd.get_dummies(X, columns = ['SEX', 'SITE', 'HISTOPATHOLOGY', 'APPROACH'])"
   ]
  },
  {
   "cell_type": "code",
   "execution_count": 70,
   "id": "e9b0d6a9-8718-49ae-b3c2-35c4aa132131",
   "metadata": {},
   "outputs": [],
   "source": [
    "X.rename(columns = {'SITE_b/l':'SITE_BL', 'SITE_left':'SITE_LEFT', 'SITE_right':'SITE_RIGHT',\n",
    "                    'HISTOPATHOLOGY_clear cell': 'HISTOPATHOLOGY_CC', 'HISTOPATHOLOGY_papillary':'HISTOPATHOLOGY_PAP'}, inplace = True)"
   ]
  },
  {
   "cell_type": "code",
   "execution_count": 71,
   "id": "9e66e306-3d1c-436c-a080-b88de7772186",
   "metadata": {},
   "outputs": [],
   "source": [
    "for col in X.columns:\n",
    "    if X[col].dtype == 'bool':\n",
    "        X[col] = X[col].astype(np.int64)"
   ]
  },
  {
   "cell_type": "code",
   "execution_count": 73,
   "id": "674df84e-6011-41ab-89b2-ff3c3ff83337",
   "metadata": {},
   "outputs": [
    {
     "data": {
      "text/plain": [
       "['SEX_F',\n",
       " 'SEX_M',\n",
       " 'SITE_BL',\n",
       " 'SITE_LEFT',\n",
       " 'SITE_RIGHT',\n",
       " 'HISTOPATHOLOGY_CC',\n",
       " 'HISTOPATHOLOGY_PAP',\n",
       " 'APPROACH_1',\n",
       " 'APPROACH_2',\n",
       " 'APPROACH_3']"
      ]
     },
     "execution_count": 73,
     "metadata": {},
     "output_type": "execute_result"
    }
   ],
   "source": [
    "one_hot_cols = []\n",
    "for col in X.columns[-10:]:\n",
    "    one_hot_cols.append(col)\n",
    "one_hot_cols"
   ]
  },
  {
   "cell_type": "code",
   "execution_count": 75,
   "id": "d8ca27a6-8420-4340-bcf6-99cdfa42e37d",
   "metadata": {},
   "outputs": [
    {
     "data": {
      "text/plain": [
       "['DM',\n",
       " 'HTN',\n",
       " 'CKD',\n",
       " 'INCIDENTAL',\n",
       " 'PAIN',\n",
       " 'HEMATURIA',\n",
       " 'MASS',\n",
       " 'LOW',\n",
       " 'FEVER',\n",
       " 'N',\n",
       " 'M',\n",
       " 'IVC INV']"
      ]
     },
     "execution_count": 75,
     "metadata": {},
     "output_type": "execute_result"
    }
   ],
   "source": [
    "num_cont_cols = ['AGE', 'MAX DIA', 'MONTHS']\n",
    "num_ord_cols = ['T', 'GRADE']\n",
    "num_nom_cols = []\n",
    "for col in X.columns[:-10]:\n",
    "    if col not in num_cont_cols and col not in num_ord_cols:\n",
    "        num_nom_cols.append(col)\n",
    "num_nom_cols"
   ]
  },
  {
   "cell_type": "code",
   "execution_count": 90,
   "id": "4a5d9d96-361d-48c9-8534-b3f986ee52bc",
   "metadata": {},
   "outputs": [],
   "source": [
    "Xtrain, Xvalid, ytrain, yvalid = train_test_split(X, y, test_size = 0.25)"
   ]
  },
  {
   "cell_type": "code",
   "execution_count": 91,
   "id": "bda2d6f4-2800-4380-a144-ab0def1041e9",
   "metadata": {},
   "outputs": [],
   "source": [
    "a, b, c, d = Xtrain.copy(), Xvalid.copy(), ytrain.copy(), yvalid.copy()"
   ]
  },
  {
   "cell_type": "code",
   "execution_count": 92,
   "id": "8d9ce1d9-dcd1-4a46-b81b-77a0aec965dd",
   "metadata": {},
   "outputs": [],
   "source": [
    "scaler = StandardScaler()\n",
    "Xtrain[num_cont_cols] = scaler.fit_transform(Xtrain[num_cont_cols])\n",
    "Xvalid[num_cont_cols] = scaler.transform(Xvalid[num_cont_cols])"
   ]
  },
  {
   "cell_type": "code",
   "execution_count": 93,
   "id": "9d64c0ff-38d2-4bbf-99f2-03296fc18af9",
   "metadata": {},
   "outputs": [
    {
     "name": "stdout",
     "output_type": "stream",
     "text": [
      "MAE: 0.09770114942528736\n",
      "90.22988505747126\n",
      "0.1904761904761905\n",
      "Accuracy: 0.9022988505747126\n",
      "Classification Report:\n",
      "               precision    recall  f1-score   support\n",
      "\n",
      "           0       0.90      1.00      0.95       155\n",
      "           1       1.00      0.11      0.19        19\n",
      "\n",
      "    accuracy                           0.90       174\n",
      "   macro avg       0.95      0.55      0.57       174\n",
      "weighted avg       0.91      0.90      0.87       174\n",
      "\n"
     ]
    }
   ],
   "source": [
    "model1 = RandomForestClassifier(random_state = 42)\n",
    "model1.fit(Xtrain, ytrain)\n",
    "ypred = model1.predict(Xvalid)\n",
    "print(\"MAE:\", mean_absolute_error(yvalid, ypred))\n",
    "print(np.mean(yvalid == ypred) * 100)\n",
    "f1 = f1_score(yvalid, ypred)\n",
    "print(f1)\n",
    "accuracy = accuracy_score(yvalid, ypred)\n",
    "report = classification_report(yvalid, ypred)\n",
    "print(f\"Accuracy: {accuracy}\")\n",
    "print(\"Classification Report:\\n\", report)"
   ]
  },
  {
   "cell_type": "code",
   "execution_count": 94,
   "id": "4874a0bc-10f9-4018-a38d-b7c56580f188",
   "metadata": {},
   "outputs": [
    {
     "data": {
      "text/plain": [
       "2"
      ]
     },
     "execution_count": 94,
     "metadata": {},
     "output_type": "execute_result"
    }
   ],
   "source": [
    "(ypred == 1).sum()"
   ]
  },
  {
   "cell_type": "code",
   "execution_count": 101,
   "id": "66d5e621-d770-47b5-8d38-322d966aebf2",
   "metadata": {},
   "outputs": [
    {
     "name": "stdout",
     "output_type": "stream",
     "text": [
      "MAE: 0.09770114942528736\n",
      "90.22988505747126\n",
      "0.1904761904761905\n",
      "Accuracy: 0.9022988505747126\n",
      "Classification Report:\n",
      "               precision    recall  f1-score   support\n",
      "\n",
      "           0       0.90      1.00      0.95       155\n",
      "           1       1.00      0.11      0.19        19\n",
      "\n",
      "    accuracy                           0.90       174\n",
      "   macro avg       0.95      0.55      0.57       174\n",
      "weighted avg       0.91      0.90      0.87       174\n",
      "\n"
     ]
    }
   ],
   "source": [
    "model2 = RandomForestClassifier(random_state = 42)\n",
    "model2.fit(a, c)\n",
    "p = model2.predict(b)\n",
    "print(\"MAE:\", mean_absolute_error(d, p))\n",
    "print(np.mean(d == p) * 100)\n",
    "f1 = f1_score(d, p)\n",
    "print(f1)\n",
    "accuracy = accuracy_score(d, p)\n",
    "report = classification_report(d, p)\n",
    "print(f\"Accuracy: {accuracy}\")\n",
    "print(\"Classification Report:\\n\", report)"
   ]
  },
  {
   "cell_type": "code",
   "execution_count": 97,
   "id": "0c199b86-1f04-4ee7-af0a-3b5084b13b27",
   "metadata": {},
   "outputs": [
    {
     "data": {
      "text/html": [
       "<div>\n",
       "<style scoped>\n",
       "    .dataframe tbody tr th:only-of-type {\n",
       "        vertical-align: middle;\n",
       "    }\n",
       "\n",
       "    .dataframe tbody tr th {\n",
       "        vertical-align: top;\n",
       "    }\n",
       "\n",
       "    .dataframe thead th {\n",
       "        text-align: right;\n",
       "    }\n",
       "</style>\n",
       "<table border=\"1\" class=\"dataframe\">\n",
       "  <thead>\n",
       "    <tr style=\"text-align: right;\">\n",
       "      <th></th>\n",
       "      <th>AGE</th>\n",
       "      <th>DM</th>\n",
       "      <th>HTN</th>\n",
       "      <th>CKD</th>\n",
       "      <th>INCIDENTAL</th>\n",
       "      <th>PAIN</th>\n",
       "      <th>HEMATURIA</th>\n",
       "      <th>MASS</th>\n",
       "      <th>LOW</th>\n",
       "      <th>FEVER</th>\n",
       "      <th>...</th>\n",
       "      <th>SEX_F</th>\n",
       "      <th>SEX_M</th>\n",
       "      <th>SITE_BL</th>\n",
       "      <th>SITE_LEFT</th>\n",
       "      <th>SITE_RIGHT</th>\n",
       "      <th>HISTOPATHOLOGY_CC</th>\n",
       "      <th>HISTOPATHOLOGY_PAP</th>\n",
       "      <th>APPROACH_1</th>\n",
       "      <th>APPROACH_2</th>\n",
       "      <th>APPROACH_3</th>\n",
       "    </tr>\n",
       "  </thead>\n",
       "  <tbody>\n",
       "    <tr>\n",
       "      <th>0</th>\n",
       "      <td>-0.709194</td>\n",
       "      <td>0</td>\n",
       "      <td>0</td>\n",
       "      <td>0</td>\n",
       "      <td>0</td>\n",
       "      <td>1</td>\n",
       "      <td>1</td>\n",
       "      <td>0</td>\n",
       "      <td>0.0</td>\n",
       "      <td>1</td>\n",
       "      <td>...</td>\n",
       "      <td>1</td>\n",
       "      <td>0</td>\n",
       "      <td>0</td>\n",
       "      <td>0</td>\n",
       "      <td>1</td>\n",
       "      <td>1</td>\n",
       "      <td>0</td>\n",
       "      <td>1</td>\n",
       "      <td>0</td>\n",
       "      <td>0</td>\n",
       "    </tr>\n",
       "    <tr>\n",
       "      <th>1</th>\n",
       "      <td>-0.553369</td>\n",
       "      <td>0</td>\n",
       "      <td>0</td>\n",
       "      <td>0</td>\n",
       "      <td>1</td>\n",
       "      <td>0</td>\n",
       "      <td>0</td>\n",
       "      <td>0</td>\n",
       "      <td>0.0</td>\n",
       "      <td>0</td>\n",
       "      <td>...</td>\n",
       "      <td>0</td>\n",
       "      <td>1</td>\n",
       "      <td>0</td>\n",
       "      <td>0</td>\n",
       "      <td>1</td>\n",
       "      <td>1</td>\n",
       "      <td>0</td>\n",
       "      <td>1</td>\n",
       "      <td>0</td>\n",
       "      <td>0</td>\n",
       "    </tr>\n",
       "    <tr>\n",
       "      <th>2</th>\n",
       "      <td>0.303667</td>\n",
       "      <td>0</td>\n",
       "      <td>0</td>\n",
       "      <td>0</td>\n",
       "      <td>0</td>\n",
       "      <td>0</td>\n",
       "      <td>1</td>\n",
       "      <td>0</td>\n",
       "      <td>0.0</td>\n",
       "      <td>0</td>\n",
       "      <td>...</td>\n",
       "      <td>0</td>\n",
       "      <td>1</td>\n",
       "      <td>0</td>\n",
       "      <td>0</td>\n",
       "      <td>1</td>\n",
       "      <td>1</td>\n",
       "      <td>0</td>\n",
       "      <td>0</td>\n",
       "      <td>1</td>\n",
       "      <td>0</td>\n",
       "    </tr>\n",
       "    <tr>\n",
       "      <th>3</th>\n",
       "      <td>-2.501178</td>\n",
       "      <td>0</td>\n",
       "      <td>0</td>\n",
       "      <td>0</td>\n",
       "      <td>0</td>\n",
       "      <td>1</td>\n",
       "      <td>0</td>\n",
       "      <td>0</td>\n",
       "      <td>0.0</td>\n",
       "      <td>0</td>\n",
       "      <td>...</td>\n",
       "      <td>0</td>\n",
       "      <td>1</td>\n",
       "      <td>0</td>\n",
       "      <td>1</td>\n",
       "      <td>0</td>\n",
       "      <td>1</td>\n",
       "      <td>0</td>\n",
       "      <td>1</td>\n",
       "      <td>0</td>\n",
       "      <td>0</td>\n",
       "    </tr>\n",
       "    <tr>\n",
       "      <th>4</th>\n",
       "      <td>-0.942931</td>\n",
       "      <td>0</td>\n",
       "      <td>1</td>\n",
       "      <td>0</td>\n",
       "      <td>0</td>\n",
       "      <td>1</td>\n",
       "      <td>0</td>\n",
       "      <td>0</td>\n",
       "      <td>0.0</td>\n",
       "      <td>0</td>\n",
       "      <td>...</td>\n",
       "      <td>0</td>\n",
       "      <td>1</td>\n",
       "      <td>0</td>\n",
       "      <td>1</td>\n",
       "      <td>0</td>\n",
       "      <td>1</td>\n",
       "      <td>0</td>\n",
       "      <td>1</td>\n",
       "      <td>0</td>\n",
       "      <td>0</td>\n",
       "    </tr>\n",
       "    <tr>\n",
       "      <th>...</th>\n",
       "      <td>...</td>\n",
       "      <td>...</td>\n",
       "      <td>...</td>\n",
       "      <td>...</td>\n",
       "      <td>...</td>\n",
       "      <td>...</td>\n",
       "      <td>...</td>\n",
       "      <td>...</td>\n",
       "      <td>...</td>\n",
       "      <td>...</td>\n",
       "      <td>...</td>\n",
       "      <td>...</td>\n",
       "      <td>...</td>\n",
       "      <td>...</td>\n",
       "      <td>...</td>\n",
       "      <td>...</td>\n",
       "      <td>...</td>\n",
       "      <td>...</td>\n",
       "      <td>...</td>\n",
       "      <td>...</td>\n",
       "      <td>...</td>\n",
       "    </tr>\n",
       "    <tr>\n",
       "      <th>688</th>\n",
       "      <td>0.771141</td>\n",
       "      <td>0</td>\n",
       "      <td>0</td>\n",
       "      <td>0</td>\n",
       "      <td>0</td>\n",
       "      <td>1</td>\n",
       "      <td>0</td>\n",
       "      <td>0</td>\n",
       "      <td>0.0</td>\n",
       "      <td>0</td>\n",
       "      <td>...</td>\n",
       "      <td>0</td>\n",
       "      <td>1</td>\n",
       "      <td>0</td>\n",
       "      <td>0</td>\n",
       "      <td>1</td>\n",
       "      <td>1</td>\n",
       "      <td>0</td>\n",
       "      <td>1</td>\n",
       "      <td>0</td>\n",
       "      <td>0</td>\n",
       "    </tr>\n",
       "    <tr>\n",
       "      <th>689</th>\n",
       "      <td>-0.397544</td>\n",
       "      <td>0</td>\n",
       "      <td>0</td>\n",
       "      <td>0</td>\n",
       "      <td>0</td>\n",
       "      <td>0</td>\n",
       "      <td>1</td>\n",
       "      <td>0</td>\n",
       "      <td>0.0</td>\n",
       "      <td>0</td>\n",
       "      <td>...</td>\n",
       "      <td>0</td>\n",
       "      <td>1</td>\n",
       "      <td>0</td>\n",
       "      <td>0</td>\n",
       "      <td>1</td>\n",
       "      <td>1</td>\n",
       "      <td>0</td>\n",
       "      <td>1</td>\n",
       "      <td>0</td>\n",
       "      <td>0</td>\n",
       "    </tr>\n",
       "    <tr>\n",
       "      <th>690</th>\n",
       "      <td>1.472352</td>\n",
       "      <td>0</td>\n",
       "      <td>1</td>\n",
       "      <td>0</td>\n",
       "      <td>0</td>\n",
       "      <td>0</td>\n",
       "      <td>1</td>\n",
       "      <td>0</td>\n",
       "      <td>0.0</td>\n",
       "      <td>0</td>\n",
       "      <td>...</td>\n",
       "      <td>0</td>\n",
       "      <td>1</td>\n",
       "      <td>0</td>\n",
       "      <td>0</td>\n",
       "      <td>1</td>\n",
       "      <td>1</td>\n",
       "      <td>0</td>\n",
       "      <td>0</td>\n",
       "      <td>1</td>\n",
       "      <td>0</td>\n",
       "    </tr>\n",
       "    <tr>\n",
       "      <th>691</th>\n",
       "      <td>0.849054</td>\n",
       "      <td>0</td>\n",
       "      <td>0</td>\n",
       "      <td>0</td>\n",
       "      <td>0</td>\n",
       "      <td>1</td>\n",
       "      <td>0</td>\n",
       "      <td>0</td>\n",
       "      <td>0.0</td>\n",
       "      <td>0</td>\n",
       "      <td>...</td>\n",
       "      <td>1</td>\n",
       "      <td>0</td>\n",
       "      <td>0</td>\n",
       "      <td>1</td>\n",
       "      <td>0</td>\n",
       "      <td>1</td>\n",
       "      <td>0</td>\n",
       "      <td>1</td>\n",
       "      <td>0</td>\n",
       "      <td>0</td>\n",
       "    </tr>\n",
       "    <tr>\n",
       "      <th>692</th>\n",
       "      <td>1.238615</td>\n",
       "      <td>0</td>\n",
       "      <td>1</td>\n",
       "      <td>0</td>\n",
       "      <td>1</td>\n",
       "      <td>0</td>\n",
       "      <td>0</td>\n",
       "      <td>0</td>\n",
       "      <td>0.0</td>\n",
       "      <td>0</td>\n",
       "      <td>...</td>\n",
       "      <td>0</td>\n",
       "      <td>1</td>\n",
       "      <td>0</td>\n",
       "      <td>0</td>\n",
       "      <td>1</td>\n",
       "      <td>1</td>\n",
       "      <td>0</td>\n",
       "      <td>1</td>\n",
       "      <td>0</td>\n",
       "      <td>0</td>\n",
       "    </tr>\n",
       "  </tbody>\n",
       "</table>\n",
       "<p>693 rows × 27 columns</p>\n",
       "</div>"
      ],
      "text/plain": [
       "          AGE  DM  HTN  CKD  INCIDENTAL  PAIN  HEMATURIA  MASS  LOW  FEVER  \\\n",
       "0   -0.709194   0    0    0           0     1          1     0  0.0      1   \n",
       "1   -0.553369   0    0    0           1     0          0     0  0.0      0   \n",
       "2    0.303667   0    0    0           0     0          1     0  0.0      0   \n",
       "3   -2.501178   0    0    0           0     1          0     0  0.0      0   \n",
       "4   -0.942931   0    1    0           0     1          0     0  0.0      0   \n",
       "..        ...  ..  ...  ...         ...   ...        ...   ...  ...    ...   \n",
       "688  0.771141   0    0    0           0     1          0     0  0.0      0   \n",
       "689 -0.397544   0    0    0           0     0          1     0  0.0      0   \n",
       "690  1.472352   0    1    0           0     0          1     0  0.0      0   \n",
       "691  0.849054   0    0    0           0     1          0     0  0.0      0   \n",
       "692  1.238615   0    1    0           1     0          0     0  0.0      0   \n",
       "\n",
       "     ...  SEX_F  SEX_M  SITE_BL  SITE_LEFT  SITE_RIGHT  HISTOPATHOLOGY_CC  \\\n",
       "0    ...      1      0        0          0           1                  1   \n",
       "1    ...      0      1        0          0           1                  1   \n",
       "2    ...      0      1        0          0           1                  1   \n",
       "3    ...      0      1        0          1           0                  1   \n",
       "4    ...      0      1        0          1           0                  1   \n",
       "..   ...    ...    ...      ...        ...         ...                ...   \n",
       "688  ...      0      1        0          0           1                  1   \n",
       "689  ...      0      1        0          0           1                  1   \n",
       "690  ...      0      1        0          0           1                  1   \n",
       "691  ...      1      0        0          1           0                  1   \n",
       "692  ...      0      1        0          0           1                  1   \n",
       "\n",
       "     HISTOPATHOLOGY_PAP  APPROACH_1  APPROACH_2  APPROACH_3  \n",
       "0                     0           1           0           0  \n",
       "1                     0           1           0           0  \n",
       "2                     0           0           1           0  \n",
       "3                     0           1           0           0  \n",
       "4                     0           1           0           0  \n",
       "..                  ...         ...         ...         ...  \n",
       "688                   0           1           0           0  \n",
       "689                   0           1           0           0  \n",
       "690                   0           0           1           0  \n",
       "691                   0           1           0           0  \n",
       "692                   0           1           0           0  \n",
       "\n",
       "[693 rows x 27 columns]"
      ]
     },
     "execution_count": 97,
     "metadata": {},
     "output_type": "execute_result"
    }
   ],
   "source": [
    "new_scaler = StandardScaler()\n",
    "xxx = X.copy()\n",
    "xxx[num_cont_cols] = new_scaler.fit_transform(xxx[num_cont_cols])\n",
    "xxx"
   ]
  },
  {
   "cell_type": "code",
   "execution_count": 104,
   "id": "f0b9f993-3460-44e0-8550-568c8e6da773",
   "metadata": {},
   "outputs": [
    {
     "name": "stdout",
     "output_type": "stream",
     "text": [
      "Accuracy: 1.0\n",
      "Classification Report:\n",
      "               precision    recall  f1-score   support\n",
      "\n",
      "           0       1.00      1.00      1.00       606\n",
      "           1       1.00      1.00      1.00        87\n",
      "\n",
      "    accuracy                           1.00       693\n",
      "   macro avg       1.00      1.00      1.00       693\n",
      "weighted avg       1.00      1.00      1.00       693\n",
      "\n"
     ]
    }
   ],
   "source": [
    "model3 = RandomForestClassifier(random_state = 42)\n",
    "model3.fit(xxx, y)\n",
    "xxxpred = model3.predict(xxx)\n",
    "accuracy = accuracy_score(y, xxxpred)\n",
    "report = classification_report(y, xxxpred)\n",
    "print(f\"Accuracy: {accuracy}\")\n",
    "print(\"Classification Report:\\n\", report)"
   ]
  },
  {
   "cell_type": "code",
   "execution_count": null,
   "id": "7824ac10-df6e-418d-af0f-6101d62cef5e",
   "metadata": {},
   "outputs": [],
   "source": []
  }
 ],
 "metadata": {
  "kernelspec": {
   "display_name": "Python 3 (ipykernel)",
   "language": "python",
   "name": "python3"
  },
  "language_info": {
   "codemirror_mode": {
    "name": "ipython",
    "version": 3
   },
   "file_extension": ".py",
   "mimetype": "text/x-python",
   "name": "python",
   "nbconvert_exporter": "python",
   "pygments_lexer": "ipython3",
   "version": "3.9.18"
  }
 },
 "nbformat": 4,
 "nbformat_minor": 5
}
