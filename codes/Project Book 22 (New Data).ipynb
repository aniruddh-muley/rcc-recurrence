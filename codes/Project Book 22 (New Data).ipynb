{
 "cells": [
  {
   "cell_type": "code",
   "execution_count": 1,
   "id": "8d1d8b0d-4ba1-4bbd-b4e5-fea2850d64d8",
   "metadata": {},
   "outputs": [
    {
     "name": "stdout",
     "output_type": "stream",
     "text": [
      "Hello world!\n"
     ]
    }
   ],
   "source": [
    "print(\"Hello world!\")"
   ]
  },
  {
   "cell_type": "code",
   "execution_count": 32,
   "id": "80b50ff5-33f0-4075-9245-cfd44b506031",
   "metadata": {},
   "outputs": [],
   "source": [
    "import re\n",
    "import pandas as pd\n",
    "from sklearn.feature_selection import mutual_info_classif\n",
    "import matplotlib.pyplot as plt\n",
    "import numpy as np\n",
    "import seaborn as sns\n",
    "from sklearn.preprocessing import StandardScaler, MinMaxScaler\n",
    "from sklearn.impute import SimpleImputer\n",
    "from sklearn.utils import resample\n",
    "from sklearn.pipeline import Pipeline\n",
    "# from sklearn.compose import make_column_transformer\n",
    "from sklearn.datasets import make_classification\n",
    "import time\n",
    "from sklearn.model_selection import GridSearchCV, train_test_split\n",
    "from tabulate import tabulate\n",
    "from sklearn.ensemble import RandomForestClassifier as RFC\n",
    "from sklearn.metrics import classification_report, confusion_matrix, f1_score\n",
    "from scipy.stats import pointbiserialr, spearmanr\n",
    "import itertools\n",
    "import winsound\n",
    "from xgboost import XGBClassifier as XC\n",
    "from sklearn.svm import SVC"
   ]
  },
  {
   "cell_type": "code",
   "execution_count": 14,
   "id": "ddaf2f8e-67d8-44a5-801d-0099d573de82",
   "metadata": {},
   "outputs": [
    {
     "name": "stderr",
     "output_type": "stream",
     "text": [
      "C:\\Users\\aniru\\AppData\\Local\\Temp\\ipykernel_37328\\1645656198.py:1: DtypeWarning: Columns (32,117,118,120,121,138,152,161,295,296,298,323,327,328,329,330,331,332,333,334,335,336,337,338,339,340,341,343,344,352,353,354,355,356,357,358,359,360,361,362,363,364,365,366,368,369,370,371,377,378,379,380,381,382,383,384,385,386,387,388,389,390,391,393,394) have mixed types. Specify dtype option on import or set low_memory=False.\n",
      "  vcqi_master = pd.read_csv(r\"C:\\Aniruddh\\Python\\Jupyter\\RCC\\CSV FILES\\foundation\\vcqi_master.csv\", index_col = 0)\n"
     ]
    },
    {
     "data": {
      "text/html": [
       "<div>\n",
       "<style scoped>\n",
       "    .dataframe tbody tr th:only-of-type {\n",
       "        vertical-align: middle;\n",
       "    }\n",
       "\n",
       "    .dataframe tbody tr th {\n",
       "        vertical-align: top;\n",
       "    }\n",
       "\n",
       "    .dataframe thead th {\n",
       "        text-align: right;\n",
       "    }\n",
       "</style>\n",
       "<table border=\"1\" class=\"dataframe\">\n",
       "  <thead>\n",
       "    <tr style=\"text-align: right;\">\n",
       "      <th></th>\n",
       "      <th>PROC NAME</th>\n",
       "      <th>CENTER CODE</th>\n",
       "      <th>REC PROGRESS</th>\n",
       "      <th>CREATED DATE</th>\n",
       "      <th>GENDER</th>\n",
       "      <th>DATE OF BIRTH</th>\n",
       "      <th>AGE AT SURGERY</th>\n",
       "      <th>MARITAL STATUS</th>\n",
       "      <th>RACE</th>\n",
       "      <th>EDUCATION</th>\n",
       "      <th>...</th>\n",
       "      <th>Unnamed: 392</th>\n",
       "      <th>Unnamed: 393</th>\n",
       "      <th>Unnamed: 394</th>\n",
       "      <th>Unnamed: 395</th>\n",
       "      <th>Unnamed: 396</th>\n",
       "      <th>Unnamed: 397</th>\n",
       "      <th>Unnamed: 398</th>\n",
       "      <th>Unnamed: 399</th>\n",
       "      <th>Unnamed: 400</th>\n",
       "      <th>Unnamed: 401</th>\n",
       "    </tr>\n",
       "    <tr>\n",
       "      <th>PATIENT NUMBER</th>\n",
       "      <th></th>\n",
       "      <th></th>\n",
       "      <th></th>\n",
       "      <th></th>\n",
       "      <th></th>\n",
       "      <th></th>\n",
       "      <th></th>\n",
       "      <th></th>\n",
       "      <th></th>\n",
       "      <th></th>\n",
       "      <th></th>\n",
       "      <th></th>\n",
       "      <th></th>\n",
       "      <th></th>\n",
       "      <th></th>\n",
       "      <th></th>\n",
       "      <th></th>\n",
       "      <th></th>\n",
       "      <th></th>\n",
       "      <th></th>\n",
       "      <th></th>\n",
       "    </tr>\n",
       "  </thead>\n",
       "  <tbody>\n",
       "    <tr>\n",
       "      <th>10PAT000000</th>\n",
       "      <td>Partial Nephrectomy</td>\n",
       "      <td>U5WT3NOY</td>\n",
       "      <td>Follow-up2</td>\n",
       "      <td>4/29/2015</td>\n",
       "      <td>Male</td>\n",
       "      <td>NaN</td>\n",
       "      <td>75.0</td>\n",
       "      <td>Married</td>\n",
       "      <td>White/Caucasian</td>\n",
       "      <td>Not Provided</td>\n",
       "      <td>...</td>\n",
       "      <td>NaN</td>\n",
       "      <td>NaN</td>\n",
       "      <td>NaN</td>\n",
       "      <td>NaN</td>\n",
       "      <td>NaN</td>\n",
       "      <td>NaN</td>\n",
       "      <td>NaN</td>\n",
       "      <td>NaN</td>\n",
       "      <td>NaN</td>\n",
       "      <td>NaN</td>\n",
       "    </tr>\n",
       "    <tr>\n",
       "      <th>10PAT000001</th>\n",
       "      <td>Partial Nephrectomy</td>\n",
       "      <td>U5WT3NOY</td>\n",
       "      <td>Follow-up3</td>\n",
       "      <td>5/25/2015</td>\n",
       "      <td>Male</td>\n",
       "      <td>NaN</td>\n",
       "      <td>71.0</td>\n",
       "      <td>Married</td>\n",
       "      <td>White/Caucasian</td>\n",
       "      <td>Not Provided</td>\n",
       "      <td>...</td>\n",
       "      <td>NaN</td>\n",
       "      <td>NaN</td>\n",
       "      <td>NaN</td>\n",
       "      <td>NaN</td>\n",
       "      <td>NaN</td>\n",
       "      <td>NaN</td>\n",
       "      <td>NaN</td>\n",
       "      <td>NaN</td>\n",
       "      <td>NaN</td>\n",
       "      <td>NaN</td>\n",
       "    </tr>\n",
       "    <tr>\n",
       "      <th>10PAT000002</th>\n",
       "      <td>Partial Nephrectomy</td>\n",
       "      <td>U5WT3NOY</td>\n",
       "      <td>Follow-up1</td>\n",
       "      <td>6/17/2015</td>\n",
       "      <td>Female</td>\n",
       "      <td>NaN</td>\n",
       "      <td>47.0</td>\n",
       "      <td>Married</td>\n",
       "      <td>Mongoloid/Asian</td>\n",
       "      <td>Not Provided</td>\n",
       "      <td>...</td>\n",
       "      <td>NaN</td>\n",
       "      <td>NaN</td>\n",
       "      <td>NaN</td>\n",
       "      <td>NaN</td>\n",
       "      <td>NaN</td>\n",
       "      <td>NaN</td>\n",
       "      <td>NaN</td>\n",
       "      <td>NaN</td>\n",
       "      <td>NaN</td>\n",
       "      <td>NaN</td>\n",
       "    </tr>\n",
       "    <tr>\n",
       "      <th>10PAT000003</th>\n",
       "      <td>Partial Nephrectomy</td>\n",
       "      <td>U5WT3NOY</td>\n",
       "      <td>Pathology completed</td>\n",
       "      <td>6/17/2015</td>\n",
       "      <td>Male</td>\n",
       "      <td>NaN</td>\n",
       "      <td>62.0</td>\n",
       "      <td>Married</td>\n",
       "      <td>White/Caucasian</td>\n",
       "      <td>Not Provided</td>\n",
       "      <td>...</td>\n",
       "      <td>NaN</td>\n",
       "      <td>NaN</td>\n",
       "      <td>NaN</td>\n",
       "      <td>NaN</td>\n",
       "      <td>NaN</td>\n",
       "      <td>NaN</td>\n",
       "      <td>NaN</td>\n",
       "      <td>NaN</td>\n",
       "      <td>NaN</td>\n",
       "      <td>NaN</td>\n",
       "    </tr>\n",
       "    <tr>\n",
       "      <th>10PAT000004</th>\n",
       "      <td>Partial Nephrectomy</td>\n",
       "      <td>U5WT3NOY</td>\n",
       "      <td>Follow-up1</td>\n",
       "      <td>6/22/2015</td>\n",
       "      <td>Male</td>\n",
       "      <td>NaN</td>\n",
       "      <td>43.0</td>\n",
       "      <td>Married</td>\n",
       "      <td>Mongoloid/Asian</td>\n",
       "      <td>Not Provided</td>\n",
       "      <td>...</td>\n",
       "      <td>NaN</td>\n",
       "      <td>NaN</td>\n",
       "      <td>NaN</td>\n",
       "      <td>NaN</td>\n",
       "      <td>NaN</td>\n",
       "      <td>NaN</td>\n",
       "      <td>NaN</td>\n",
       "      <td>NaN</td>\n",
       "      <td>NaN</td>\n",
       "      <td>NaN</td>\n",
       "    </tr>\n",
       "    <tr>\n",
       "      <th>...</th>\n",
       "      <td>...</td>\n",
       "      <td>...</td>\n",
       "      <td>...</td>\n",
       "      <td>...</td>\n",
       "      <td>...</td>\n",
       "      <td>...</td>\n",
       "      <td>...</td>\n",
       "      <td>...</td>\n",
       "      <td>...</td>\n",
       "      <td>...</td>\n",
       "      <td>...</td>\n",
       "      <td>...</td>\n",
       "      <td>...</td>\n",
       "      <td>...</td>\n",
       "      <td>...</td>\n",
       "      <td>...</td>\n",
       "      <td>...</td>\n",
       "      <td>...</td>\n",
       "      <td>...</td>\n",
       "      <td>...</td>\n",
       "      <td>...</td>\n",
       "    </tr>\n",
       "    <tr>\n",
       "      <th>9I021</th>\n",
       "      <td>Partial Nephrectomy</td>\n",
       "      <td>3QWOG020</td>\n",
       "      <td>Follow-up completed</td>\n",
       "      <td>3/18/2016</td>\n",
       "      <td>Female</td>\n",
       "      <td>NaN</td>\n",
       "      <td>58.0</td>\n",
       "      <td>NaN</td>\n",
       "      <td>NaN</td>\n",
       "      <td>NaN</td>\n",
       "      <td>...</td>\n",
       "      <td>NaN</td>\n",
       "      <td>NaN</td>\n",
       "      <td>NaN</td>\n",
       "      <td>NaN</td>\n",
       "      <td>NaN</td>\n",
       "      <td>NaN</td>\n",
       "      <td>NaN</td>\n",
       "      <td>NaN</td>\n",
       "      <td>NaN</td>\n",
       "      <td>NaN</td>\n",
       "    </tr>\n",
       "    <tr>\n",
       "      <th>9I022</th>\n",
       "      <td>Partial Nephrectomy</td>\n",
       "      <td>3QWOG020</td>\n",
       "      <td>Follow-up completed</td>\n",
       "      <td>3/18/2016</td>\n",
       "      <td>Male</td>\n",
       "      <td>NaN</td>\n",
       "      <td>64.0</td>\n",
       "      <td>NaN</td>\n",
       "      <td>NaN</td>\n",
       "      <td>NaN</td>\n",
       "      <td>...</td>\n",
       "      <td>NaN</td>\n",
       "      <td>NaN</td>\n",
       "      <td>NaN</td>\n",
       "      <td>NaN</td>\n",
       "      <td>NaN</td>\n",
       "      <td>NaN</td>\n",
       "      <td>NaN</td>\n",
       "      <td>NaN</td>\n",
       "      <td>NaN</td>\n",
       "      <td>NaN</td>\n",
       "    </tr>\n",
       "    <tr>\n",
       "      <th>9I023</th>\n",
       "      <td>Partial Nephrectomy</td>\n",
       "      <td>3QWOG020</td>\n",
       "      <td>Follow-up completed</td>\n",
       "      <td>3/18/2016</td>\n",
       "      <td>Male</td>\n",
       "      <td>NaN</td>\n",
       "      <td>54.0</td>\n",
       "      <td>NaN</td>\n",
       "      <td>NaN</td>\n",
       "      <td>NaN</td>\n",
       "      <td>...</td>\n",
       "      <td>NaN</td>\n",
       "      <td>NaN</td>\n",
       "      <td>NaN</td>\n",
       "      <td>NaN</td>\n",
       "      <td>NaN</td>\n",
       "      <td>NaN</td>\n",
       "      <td>NaN</td>\n",
       "      <td>NaN</td>\n",
       "      <td>NaN</td>\n",
       "      <td>NaN</td>\n",
       "    </tr>\n",
       "    <tr>\n",
       "      <th>9I024</th>\n",
       "      <td>Partial Nephrectomy</td>\n",
       "      <td>3QWOG020</td>\n",
       "      <td>Follow-up completed</td>\n",
       "      <td>3/18/2016</td>\n",
       "      <td>Female</td>\n",
       "      <td>NaN</td>\n",
       "      <td>37.0</td>\n",
       "      <td>NaN</td>\n",
       "      <td>NaN</td>\n",
       "      <td>NaN</td>\n",
       "      <td>...</td>\n",
       "      <td>NaN</td>\n",
       "      <td>NaN</td>\n",
       "      <td>NaN</td>\n",
       "      <td>NaN</td>\n",
       "      <td>NaN</td>\n",
       "      <td>NaN</td>\n",
       "      <td>NaN</td>\n",
       "      <td>NaN</td>\n",
       "      <td>NaN</td>\n",
       "      <td>NaN</td>\n",
       "    </tr>\n",
       "    <tr>\n",
       "      <th>9I025</th>\n",
       "      <td>Partial Nephrectomy</td>\n",
       "      <td>3QWOG020</td>\n",
       "      <td>Follow-up completed</td>\n",
       "      <td>3/18/2016</td>\n",
       "      <td>Female</td>\n",
       "      <td>NaN</td>\n",
       "      <td>55.0</td>\n",
       "      <td>NaN</td>\n",
       "      <td>NaN</td>\n",
       "      <td>NaN</td>\n",
       "      <td>...</td>\n",
       "      <td>NaN</td>\n",
       "      <td>NaN</td>\n",
       "      <td>NaN</td>\n",
       "      <td>NaN</td>\n",
       "      <td>NaN</td>\n",
       "      <td>NaN</td>\n",
       "      <td>NaN</td>\n",
       "      <td>NaN</td>\n",
       "      <td>NaN</td>\n",
       "      <td>NaN</td>\n",
       "    </tr>\n",
       "  </tbody>\n",
       "</table>\n",
       "<p>3791 rows × 401 columns</p>\n",
       "</div>"
      ],
      "text/plain": [
       "                          PROC NAME CENTER CODE         REC PROGRESS  \\\n",
       "PATIENT NUMBER                                                         \n",
       "10PAT000000     Partial Nephrectomy    U5WT3NOY           Follow-up2   \n",
       "10PAT000001     Partial Nephrectomy    U5WT3NOY           Follow-up3   \n",
       "10PAT000002     Partial Nephrectomy    U5WT3NOY           Follow-up1   \n",
       "10PAT000003     Partial Nephrectomy    U5WT3NOY  Pathology completed   \n",
       "10PAT000004     Partial Nephrectomy    U5WT3NOY           Follow-up1   \n",
       "...                             ...         ...                  ...   \n",
       "9I021           Partial Nephrectomy    3QWOG020  Follow-up completed   \n",
       "9I022           Partial Nephrectomy    3QWOG020  Follow-up completed   \n",
       "9I023           Partial Nephrectomy    3QWOG020  Follow-up completed   \n",
       "9I024           Partial Nephrectomy    3QWOG020  Follow-up completed   \n",
       "9I025           Partial Nephrectomy    3QWOG020  Follow-up completed   \n",
       "\n",
       "               CREATED DATE  GENDER  DATE OF BIRTH  AGE AT SURGERY  \\\n",
       "PATIENT NUMBER                                                       \n",
       "10PAT000000       4/29/2015    Male            NaN            75.0   \n",
       "10PAT000001       5/25/2015    Male            NaN            71.0   \n",
       "10PAT000002       6/17/2015  Female            NaN            47.0   \n",
       "10PAT000003       6/17/2015    Male            NaN            62.0   \n",
       "10PAT000004       6/22/2015    Male            NaN            43.0   \n",
       "...                     ...     ...            ...             ...   \n",
       "9I021             3/18/2016  Female            NaN            58.0   \n",
       "9I022             3/18/2016    Male            NaN            64.0   \n",
       "9I023             3/18/2016    Male            NaN            54.0   \n",
       "9I024             3/18/2016  Female            NaN            37.0   \n",
       "9I025             3/18/2016  Female            NaN            55.0   \n",
       "\n",
       "               MARITAL STATUS             RACE     EDUCATION  ...  \\\n",
       "PATIENT NUMBER                                                ...   \n",
       "10PAT000000           Married  White/Caucasian  Not Provided  ...   \n",
       "10PAT000001           Married  White/Caucasian  Not Provided  ...   \n",
       "10PAT000002           Married  Mongoloid/Asian  Not Provided  ...   \n",
       "10PAT000003           Married  White/Caucasian  Not Provided  ...   \n",
       "10PAT000004           Married  Mongoloid/Asian  Not Provided  ...   \n",
       "...                       ...              ...           ...  ...   \n",
       "9I021                     NaN              NaN           NaN  ...   \n",
       "9I022                     NaN              NaN           NaN  ...   \n",
       "9I023                     NaN              NaN           NaN  ...   \n",
       "9I024                     NaN              NaN           NaN  ...   \n",
       "9I025                     NaN              NaN           NaN  ...   \n",
       "\n",
       "                Unnamed: 392  Unnamed: 393  Unnamed: 394  Unnamed: 395  \\\n",
       "PATIENT NUMBER                                                           \n",
       "10PAT000000              NaN           NaN           NaN           NaN   \n",
       "10PAT000001              NaN           NaN           NaN           NaN   \n",
       "10PAT000002              NaN           NaN           NaN           NaN   \n",
       "10PAT000003              NaN           NaN           NaN           NaN   \n",
       "10PAT000004              NaN           NaN           NaN           NaN   \n",
       "...                      ...           ...           ...           ...   \n",
       "9I021                    NaN           NaN           NaN           NaN   \n",
       "9I022                    NaN           NaN           NaN           NaN   \n",
       "9I023                    NaN           NaN           NaN           NaN   \n",
       "9I024                    NaN           NaN           NaN           NaN   \n",
       "9I025                    NaN           NaN           NaN           NaN   \n",
       "\n",
       "               Unnamed: 396  Unnamed: 397  Unnamed: 398 Unnamed: 399  \\\n",
       "PATIENT NUMBER                                                         \n",
       "10PAT000000             NaN           NaN           NaN          NaN   \n",
       "10PAT000001             NaN           NaN           NaN          NaN   \n",
       "10PAT000002             NaN           NaN           NaN          NaN   \n",
       "10PAT000003             NaN           NaN           NaN          NaN   \n",
       "10PAT000004             NaN           NaN           NaN          NaN   \n",
       "...                     ...           ...           ...          ...   \n",
       "9I021                   NaN           NaN           NaN          NaN   \n",
       "9I022                   NaN           NaN           NaN          NaN   \n",
       "9I023                   NaN           NaN           NaN          NaN   \n",
       "9I024                   NaN           NaN           NaN          NaN   \n",
       "9I025                   NaN           NaN           NaN          NaN   \n",
       "\n",
       "               Unnamed: 400 Unnamed: 401  \n",
       "PATIENT NUMBER                            \n",
       "10PAT000000             NaN          NaN  \n",
       "10PAT000001             NaN          NaN  \n",
       "10PAT000002             NaN          NaN  \n",
       "10PAT000003             NaN          NaN  \n",
       "10PAT000004             NaN          NaN  \n",
       "...                     ...          ...  \n",
       "9I021                   NaN          NaN  \n",
       "9I022                   NaN          NaN  \n",
       "9I023                   NaN          NaN  \n",
       "9I024                   NaN          NaN  \n",
       "9I025                   NaN          NaN  \n",
       "\n",
       "[3791 rows x 401 columns]"
      ]
     },
     "execution_count": 14,
     "metadata": {},
     "output_type": "execute_result"
    }
   ],
   "source": [
    "vcqi_master = pd.read_csv(r\"C:\\Aniruddh\\Python\\Jupyter\\RCC\\CSV FILES\\foundation\\vcqi_master.csv\", index_col = 0)\n",
    "vcqi_master"
   ]
  },
  {
   "cell_type": "code",
   "execution_count": 15,
   "id": "c7f5be86-18cb-42cb-a091-0a6e63372438",
   "metadata": {},
   "outputs": [
    {
     "data": {
      "text/html": [
       "<div>\n",
       "<style scoped>\n",
       "    .dataframe tbody tr th:only-of-type {\n",
       "        vertical-align: middle;\n",
       "    }\n",
       "\n",
       "    .dataframe tbody tr th {\n",
       "        vertical-align: top;\n",
       "    }\n",
       "\n",
       "    .dataframe thead th {\n",
       "        text-align: right;\n",
       "    }\n",
       "</style>\n",
       "<table border=\"1\" class=\"dataframe\">\n",
       "  <thead>\n",
       "    <tr style=\"text-align: right;\">\n",
       "      <th></th>\n",
       "      <th>GENDER</th>\n",
       "      <th>DATE OF BIRTH</th>\n",
       "      <th>AGE AT SURGERY</th>\n",
       "      <th>CLINICAL SIZE (mm)</th>\n",
       "      <th>BILATERALITY OF TUMOR</th>\n",
       "      <th>SIDE OF TUMOR</th>\n",
       "      <th>SIDE OF SURGERY</th>\n",
       "      <th>CT</th>\n",
       "      <th>CN</th>\n",
       "      <th>CM</th>\n",
       "      <th>...</th>\n",
       "      <th>FUHRMAN GRADING</th>\n",
       "      <th>PT</th>\n",
       "      <th>PN</th>\n",
       "      <th>DATE OF RECURRENCE</th>\n",
       "      <th>LAST FOLLOW UP DURATION</th>\n",
       "      <th>TIME TO RECURRENCE</th>\n",
       "      <th>LAST FOLLOW UP STATUS</th>\n",
       "      <th>LAST FOLLOW UP RECURRENCE</th>\n",
       "      <th>LAST TREATMENT OF RECURRENCE</th>\n",
       "      <th>RECURRENCE(s)</th>\n",
       "    </tr>\n",
       "    <tr>\n",
       "      <th>PATIENT NUMBER</th>\n",
       "      <th></th>\n",
       "      <th></th>\n",
       "      <th></th>\n",
       "      <th></th>\n",
       "      <th></th>\n",
       "      <th></th>\n",
       "      <th></th>\n",
       "      <th></th>\n",
       "      <th></th>\n",
       "      <th></th>\n",
       "      <th></th>\n",
       "      <th></th>\n",
       "      <th></th>\n",
       "      <th></th>\n",
       "      <th></th>\n",
       "      <th></th>\n",
       "      <th></th>\n",
       "      <th></th>\n",
       "      <th></th>\n",
       "      <th></th>\n",
       "      <th></th>\n",
       "    </tr>\n",
       "  </thead>\n",
       "  <tbody>\n",
       "    <tr>\n",
       "      <th>10PAT000000</th>\n",
       "      <td>Male</td>\n",
       "      <td>NaN</td>\n",
       "      <td>75.0</td>\n",
       "      <td>45.0</td>\n",
       "      <td>No</td>\n",
       "      <td>Left</td>\n",
       "      <td>Left</td>\n",
       "      <td>T1a</td>\n",
       "      <td>N0</td>\n",
       "      <td>Not Applicable</td>\n",
       "      <td>...</td>\n",
       "      <td>NaN</td>\n",
       "      <td>Benign</td>\n",
       "      <td>Nx</td>\n",
       "      <td>NaN</td>\n",
       "      <td>9.4</td>\n",
       "      <td>NaN</td>\n",
       "      <td>Alive and disease free</td>\n",
       "      <td>NaN</td>\n",
       "      <td>NaN</td>\n",
       "      <td>(FUP1 : None),(FUP2 : None)</td>\n",
       "    </tr>\n",
       "    <tr>\n",
       "      <th>10PAT000001</th>\n",
       "      <td>Male</td>\n",
       "      <td>NaN</td>\n",
       "      <td>71.0</td>\n",
       "      <td>40.0</td>\n",
       "      <td>No</td>\n",
       "      <td>Right</td>\n",
       "      <td>Right</td>\n",
       "      <td>T1a</td>\n",
       "      <td>N0</td>\n",
       "      <td>M0</td>\n",
       "      <td>...</td>\n",
       "      <td>3.0</td>\n",
       "      <td>T1a</td>\n",
       "      <td>Nx</td>\n",
       "      <td>NaN</td>\n",
       "      <td>58.8</td>\n",
       "      <td>NaN</td>\n",
       "      <td>Alive and disease free</td>\n",
       "      <td>NaN</td>\n",
       "      <td>NaN</td>\n",
       "      <td>(FUP1 : None),(FUP2 : None),(FUP3 : None)</td>\n",
       "    </tr>\n",
       "    <tr>\n",
       "      <th>10PAT000002</th>\n",
       "      <td>Female</td>\n",
       "      <td>NaN</td>\n",
       "      <td>47.0</td>\n",
       "      <td>50.0</td>\n",
       "      <td>No</td>\n",
       "      <td>Left</td>\n",
       "      <td>Left</td>\n",
       "      <td>T1a</td>\n",
       "      <td>Nx</td>\n",
       "      <td>M0</td>\n",
       "      <td>...</td>\n",
       "      <td>1.0</td>\n",
       "      <td>T1a</td>\n",
       "      <td>Nx</td>\n",
       "      <td>NaN</td>\n",
       "      <td>4.9</td>\n",
       "      <td>NaN</td>\n",
       "      <td>Alive and disease free</td>\n",
       "      <td>NaN</td>\n",
       "      <td>NaN</td>\n",
       "      <td>(FUP1 : None)</td>\n",
       "    </tr>\n",
       "    <tr>\n",
       "      <th>10PAT000003</th>\n",
       "      <td>Male</td>\n",
       "      <td>NaN</td>\n",
       "      <td>62.0</td>\n",
       "      <td>50.0</td>\n",
       "      <td>No</td>\n",
       "      <td>Right</td>\n",
       "      <td>Right</td>\n",
       "      <td>T1b</td>\n",
       "      <td>N0</td>\n",
       "      <td>M0</td>\n",
       "      <td>...</td>\n",
       "      <td>2.0</td>\n",
       "      <td>T3a</td>\n",
       "      <td>Nx</td>\n",
       "      <td>NaN</td>\n",
       "      <td>NaN</td>\n",
       "      <td>NaN</td>\n",
       "      <td>NaN</td>\n",
       "      <td>NaN</td>\n",
       "      <td>NaN</td>\n",
       "      <td>NaN</td>\n",
       "    </tr>\n",
       "    <tr>\n",
       "      <th>10PAT000004</th>\n",
       "      <td>Male</td>\n",
       "      <td>NaN</td>\n",
       "      <td>43.0</td>\n",
       "      <td>30.0</td>\n",
       "      <td>No</td>\n",
       "      <td>Left</td>\n",
       "      <td>Left</td>\n",
       "      <td>T1a</td>\n",
       "      <td>N0</td>\n",
       "      <td>M0</td>\n",
       "      <td>...</td>\n",
       "      <td>2.0</td>\n",
       "      <td>T1a</td>\n",
       "      <td>Nx</td>\n",
       "      <td>NaN</td>\n",
       "      <td>4.1</td>\n",
       "      <td>NaN</td>\n",
       "      <td>Alive and disease free</td>\n",
       "      <td>NaN</td>\n",
       "      <td>NaN</td>\n",
       "      <td>(FUP1 : None)</td>\n",
       "    </tr>\n",
       "    <tr>\n",
       "      <th>...</th>\n",
       "      <td>...</td>\n",
       "      <td>...</td>\n",
       "      <td>...</td>\n",
       "      <td>...</td>\n",
       "      <td>...</td>\n",
       "      <td>...</td>\n",
       "      <td>...</td>\n",
       "      <td>...</td>\n",
       "      <td>...</td>\n",
       "      <td>...</td>\n",
       "      <td>...</td>\n",
       "      <td>...</td>\n",
       "      <td>...</td>\n",
       "      <td>...</td>\n",
       "      <td>...</td>\n",
       "      <td>...</td>\n",
       "      <td>...</td>\n",
       "      <td>...</td>\n",
       "      <td>...</td>\n",
       "      <td>...</td>\n",
       "      <td>...</td>\n",
       "    </tr>\n",
       "    <tr>\n",
       "      <th>9I021</th>\n",
       "      <td>Female</td>\n",
       "      <td>NaN</td>\n",
       "      <td>58.0</td>\n",
       "      <td>35.0</td>\n",
       "      <td>NaN</td>\n",
       "      <td>NaN</td>\n",
       "      <td>Left</td>\n",
       "      <td>T1a</td>\n",
       "      <td>N0</td>\n",
       "      <td>M0</td>\n",
       "      <td>...</td>\n",
       "      <td>2.0</td>\n",
       "      <td>T1a</td>\n",
       "      <td>Nx</td>\n",
       "      <td>NaN</td>\n",
       "      <td>1.0</td>\n",
       "      <td>NaN</td>\n",
       "      <td>Alive and disease free</td>\n",
       "      <td>Absent</td>\n",
       "      <td>NaN</td>\n",
       "      <td>(FUP1 : NULL),(FUP2 : NULL),(FUP3 : NULL),(FUP...</td>\n",
       "    </tr>\n",
       "    <tr>\n",
       "      <th>9I022</th>\n",
       "      <td>Male</td>\n",
       "      <td>NaN</td>\n",
       "      <td>64.0</td>\n",
       "      <td>50.0</td>\n",
       "      <td>NaN</td>\n",
       "      <td>NaN</td>\n",
       "      <td>Left</td>\n",
       "      <td>T1b</td>\n",
       "      <td>N0</td>\n",
       "      <td>M0</td>\n",
       "      <td>...</td>\n",
       "      <td>3.0</td>\n",
       "      <td>T1b</td>\n",
       "      <td>Nx</td>\n",
       "      <td>NaN</td>\n",
       "      <td>1.0</td>\n",
       "      <td>NaN</td>\n",
       "      <td>Alive and disease free</td>\n",
       "      <td>Absent</td>\n",
       "      <td>NaN</td>\n",
       "      <td>(FUP1 : NULL),(FUP2 : NULL),(FUP3 : NULL),(FUP...</td>\n",
       "    </tr>\n",
       "    <tr>\n",
       "      <th>9I023</th>\n",
       "      <td>Male</td>\n",
       "      <td>NaN</td>\n",
       "      <td>54.0</td>\n",
       "      <td>50.0</td>\n",
       "      <td>NaN</td>\n",
       "      <td>NaN</td>\n",
       "      <td>Right</td>\n",
       "      <td>T1b</td>\n",
       "      <td>N0</td>\n",
       "      <td>M0</td>\n",
       "      <td>...</td>\n",
       "      <td>2.0</td>\n",
       "      <td>T1b</td>\n",
       "      <td>Nx</td>\n",
       "      <td>NaN</td>\n",
       "      <td>1.0</td>\n",
       "      <td>NaN</td>\n",
       "      <td>Alive and disease free</td>\n",
       "      <td>Absent</td>\n",
       "      <td>NaN</td>\n",
       "      <td>(FUP1 : NULL),(FUP2 : NULL),(FUP3 : NULL),(FUP...</td>\n",
       "    </tr>\n",
       "    <tr>\n",
       "      <th>9I024</th>\n",
       "      <td>Female</td>\n",
       "      <td>NaN</td>\n",
       "      <td>37.0</td>\n",
       "      <td>37.0</td>\n",
       "      <td>NaN</td>\n",
       "      <td>NaN</td>\n",
       "      <td>Left</td>\n",
       "      <td>T1a</td>\n",
       "      <td>N0</td>\n",
       "      <td>M0</td>\n",
       "      <td>...</td>\n",
       "      <td>2.0</td>\n",
       "      <td>T1b</td>\n",
       "      <td>Nx</td>\n",
       "      <td>NaN</td>\n",
       "      <td>1.0</td>\n",
       "      <td>NaN</td>\n",
       "      <td>Alive and disease free</td>\n",
       "      <td>Absent</td>\n",
       "      <td>NaN</td>\n",
       "      <td>(FUP1 : NULL),(FUP2 : NULL),(FUP3 : NULL),(FUP...</td>\n",
       "    </tr>\n",
       "    <tr>\n",
       "      <th>9I025</th>\n",
       "      <td>Female</td>\n",
       "      <td>NaN</td>\n",
       "      <td>55.0</td>\n",
       "      <td>32.0</td>\n",
       "      <td>NaN</td>\n",
       "      <td>NaN</td>\n",
       "      <td>Right</td>\n",
       "      <td>T1a</td>\n",
       "      <td>N0</td>\n",
       "      <td>M0</td>\n",
       "      <td>...</td>\n",
       "      <td>3.0</td>\n",
       "      <td>T1a</td>\n",
       "      <td>Nx</td>\n",
       "      <td>NaN</td>\n",
       "      <td>1.0</td>\n",
       "      <td>NaN</td>\n",
       "      <td>Alive and disease free</td>\n",
       "      <td>Absent</td>\n",
       "      <td>NaN</td>\n",
       "      <td>(FUP1 : NULL),(FUP2 : NULL),(FUP3 : NULL),(FUP...</td>\n",
       "    </tr>\n",
       "  </tbody>\n",
       "</table>\n",
       "<p>3791 rows × 31 columns</p>\n",
       "</div>"
      ],
      "text/plain": [
       "                GENDER  DATE OF BIRTH  AGE AT SURGERY  CLINICAL SIZE (mm)  \\\n",
       "PATIENT NUMBER                                                              \n",
       "10PAT000000       Male            NaN            75.0                45.0   \n",
       "10PAT000001       Male            NaN            71.0                40.0   \n",
       "10PAT000002     Female            NaN            47.0                50.0   \n",
       "10PAT000003       Male            NaN            62.0                50.0   \n",
       "10PAT000004       Male            NaN            43.0                30.0   \n",
       "...                ...            ...             ...                 ...   \n",
       "9I021           Female            NaN            58.0                35.0   \n",
       "9I022             Male            NaN            64.0                50.0   \n",
       "9I023             Male            NaN            54.0                50.0   \n",
       "9I024           Female            NaN            37.0                37.0   \n",
       "9I025           Female            NaN            55.0                32.0   \n",
       "\n",
       "               BILATERALITY OF TUMOR SIDE OF TUMOR SIDE OF SURGERY   CT  CN  \\\n",
       "PATIENT NUMBER                                                                \n",
       "10PAT000000                       No          Left            Left  T1a  N0   \n",
       "10PAT000001                       No         Right           Right  T1a  N0   \n",
       "10PAT000002                       No          Left            Left  T1a  Nx   \n",
       "10PAT000003                       No         Right           Right  T1b  N0   \n",
       "10PAT000004                       No          Left            Left  T1a  N0   \n",
       "...                              ...           ...             ...  ...  ..   \n",
       "9I021                            NaN           NaN            Left  T1a  N0   \n",
       "9I022                            NaN           NaN            Left  T1b  N0   \n",
       "9I023                            NaN           NaN           Right  T1b  N0   \n",
       "9I024                            NaN           NaN            Left  T1a  N0   \n",
       "9I025                            NaN           NaN           Right  T1a  N0   \n",
       "\n",
       "                            CM  ... FUHRMAN GRADING      PT  PN  \\\n",
       "PATIENT NUMBER                  ...                               \n",
       "10PAT000000     Not Applicable  ...             NaN  Benign  Nx   \n",
       "10PAT000001                 M0  ...             3.0     T1a  Nx   \n",
       "10PAT000002                 M0  ...             1.0     T1a  Nx   \n",
       "10PAT000003                 M0  ...             2.0     T3a  Nx   \n",
       "10PAT000004                 M0  ...             2.0     T1a  Nx   \n",
       "...                        ...  ...             ...     ...  ..   \n",
       "9I021                       M0  ...             2.0     T1a  Nx   \n",
       "9I022                       M0  ...             3.0     T1b  Nx   \n",
       "9I023                       M0  ...             2.0     T1b  Nx   \n",
       "9I024                       M0  ...             2.0     T1b  Nx   \n",
       "9I025                       M0  ...             3.0     T1a  Nx   \n",
       "\n",
       "                DATE OF RECURRENCE  LAST FOLLOW UP DURATION  \\\n",
       "PATIENT NUMBER                                                \n",
       "10PAT000000                    NaN                      9.4   \n",
       "10PAT000001                    NaN                     58.8   \n",
       "10PAT000002                    NaN                      4.9   \n",
       "10PAT000003                    NaN                      NaN   \n",
       "10PAT000004                    NaN                      4.1   \n",
       "...                            ...                      ...   \n",
       "9I021                          NaN                      1.0   \n",
       "9I022                          NaN                      1.0   \n",
       "9I023                          NaN                      1.0   \n",
       "9I024                          NaN                      1.0   \n",
       "9I025                          NaN                      1.0   \n",
       "\n",
       "                TIME TO RECURRENCE   LAST FOLLOW UP STATUS  \\\n",
       "PATIENT NUMBER                                               \n",
       "10PAT000000                    NaN  Alive and disease free   \n",
       "10PAT000001                    NaN  Alive and disease free   \n",
       "10PAT000002                    NaN  Alive and disease free   \n",
       "10PAT000003                    NaN                     NaN   \n",
       "10PAT000004                    NaN  Alive and disease free   \n",
       "...                            ...                     ...   \n",
       "9I021                          NaN  Alive and disease free   \n",
       "9I022                          NaN  Alive and disease free   \n",
       "9I023                          NaN  Alive and disease free   \n",
       "9I024                          NaN  Alive and disease free   \n",
       "9I025                          NaN  Alive and disease free   \n",
       "\n",
       "               LAST FOLLOW UP RECURRENCE LAST TREATMENT OF RECURRENCE  \\\n",
       "PATIENT NUMBER                                                          \n",
       "10PAT000000                          NaN                          NaN   \n",
       "10PAT000001                          NaN                          NaN   \n",
       "10PAT000002                          NaN                          NaN   \n",
       "10PAT000003                          NaN                          NaN   \n",
       "10PAT000004                          NaN                          NaN   \n",
       "...                                  ...                          ...   \n",
       "9I021                             Absent                          NaN   \n",
       "9I022                             Absent                          NaN   \n",
       "9I023                             Absent                          NaN   \n",
       "9I024                             Absent                          NaN   \n",
       "9I025                             Absent                          NaN   \n",
       "\n",
       "                                                    RECURRENCE(s)  \n",
       "PATIENT NUMBER                                                     \n",
       "10PAT000000                           (FUP1 : None),(FUP2 : None)  \n",
       "10PAT000001             (FUP1 : None),(FUP2 : None),(FUP3 : None)  \n",
       "10PAT000002                                         (FUP1 : None)  \n",
       "10PAT000003                                                   NaN  \n",
       "10PAT000004                                         (FUP1 : None)  \n",
       "...                                                           ...  \n",
       "9I021           (FUP1 : NULL),(FUP2 : NULL),(FUP3 : NULL),(FUP...  \n",
       "9I022           (FUP1 : NULL),(FUP2 : NULL),(FUP3 : NULL),(FUP...  \n",
       "9I023           (FUP1 : NULL),(FUP2 : NULL),(FUP3 : NULL),(FUP...  \n",
       "9I024           (FUP1 : NULL),(FUP2 : NULL),(FUP3 : NULL),(FUP...  \n",
       "9I025           (FUP1 : NULL),(FUP2 : NULL),(FUP3 : NULL),(FUP...  \n",
       "\n",
       "[3791 rows x 31 columns]"
      ]
     },
     "execution_count": 15,
     "metadata": {},
     "output_type": "execute_result"
    }
   ],
   "source": [
    "features = ['GENDER', 'DATE OF BIRTH', 'AGE AT SURGERY', 'CLINICAL SIZE (mm)', 'BILATERALITY OF TUMOR', 'SIDE OF TUMOR',\n",
    "            'SIDE OF SURGERY', 'CT', 'CN', 'CM', 'RADIUS (maximal diameter in cm)', 'DATE OF SURGERY', 'ROBOTICS ARMS',\n",
    "            'PATHOLOGICAL TUMOR SIZE', 'MIN THICKNESS MARGIN', 'MAX THICKNESS MARGIN', 'PATHOLOGY', 'HYSTOTYPE MALIGNANAT',\n",
    "            'HYSTOTYPE MALIGNANAT YES', 'HYSTOTYPE BENIGN', 'HYSTOTYPE BENIGN YES', 'FUHRMAN GRADING', 'PT', 'PN',\n",
    "            'DATE OF RECURRENCE', 'LAST FOLLOW UP DURATION', 'TIME TO RECURRENCE', 'LAST FOLLOW UP STATUS', \n",
    "            'LAST FOLLOW UP RECURRENCE', 'LAST TREATMENT OF RECURRENCE', 'RECURRENCE(s)']\n",
    "vcqi1 = vcqi_master[features]\n",
    "vcqi1"
   ]
  },
  {
   "cell_type": "code",
   "execution_count": 16,
   "id": "d8c49c59-4195-4c0b-a623-162d34cea5c7",
   "metadata": {},
   "outputs": [],
   "source": [
    "vcqi1 = vcqi1.rename({'HYSTOTYPE MALIGNANAT':'HISTOTYPE MALIGNANT', 'HYSTOTYPE MALIGNANAT YES':'HISTOTYPE MALIGNANT YES',\n",
    "              'HYSTOTYPE BENIGN':'HISTOTYPE BENIGN', 'HYSTOTYPE BENIGN YES':'HISTOTYPE BENIGN YES',\n",
    "              'CLINICAL SIZE (mm)':'CLINICAL SIZE (MM)', 'RADIUS (maximal diameter in cm)':'RADIUS (MAXIMAL DIAMETER IN CM)', \n",
    "              'RECURRENCE(s)':'RECURRENCE(S)'}, axis = 'columns')"
   ]
  },
  {
   "cell_type": "code",
   "execution_count": 17,
   "id": "31a2a533-e2ef-4410-9fe9-0f5e9739af5d",
   "metadata": {},
   "outputs": [],
   "source": [
    "vcqi1.reset_index(drop = True, inplace = True)"
   ]
  },
  {
   "cell_type": "code",
   "execution_count": 1,
   "id": "171a1ec8-4404-4502-a448-3cf16f824afa",
   "metadata": {},
   "outputs": [],
   "source": [
    "# GENDER (GREEN)\n",
    "# DATE OF BIRTH (DROP)\n",
    "# AGE AT SURGERY (GREEN)\n",
    "# CLINICAL SIZE (MM)\n",
    "# BILATERALITY OF TUMOR (GREEN)\n",
    "# SIDE OF TUMOR (GREEN)\n",
    "# SIDE OF SURGERY (SHOULD IT INFORM RECURRENCE RATE?)\n",
    "# CT (GREEN)\n",
    "# CN (GREEN)\n",
    "# CM (GREEN)\n",
    "# RADIUS (MAXIMAL DIAMETER IN CM) (DROP?)\n",
    "# DATE OF SURGERY (DROP?)\n",
    "# ROBOTICS ARMS (DROP?)\n",
    "# PATHOLOGICAL TUMOR SIZE (??)\n",
    "# MIN THICKNESS MARGIN (DROP?)\n",
    "# MAX THICKNESS MARGIN (DROP?)\n",
    "# PATHOLOGY (ANY HELPFUL?)\n",
    "# HISTOTYPE MALIGNANT (NOT LOOKING USEFUL)\n",
    "# HISTOTYPE MALIGNANT YES (MATCHES THE OLD ONE, BUT THERE WAS BARELY ANY VARIATION THE LAST TIME)\n",
    "# HISTOTYPE BENIGN (ALL THIS ONLY MAKES SENSE ONCE I GET THE DOC)\n",
    "# HISTOTYPE BENIGN YES (SIMILAR TO HIST MAL YES)\n",
    "# FUHRMAN GRADING (GREEN)\n",
    "# PT (WHAT'S THIS?)\n",
    "# PN (SAME LABELS AS CN)\n",
    "# DATE OF RECURRENCE (TARGET?? GREEN??)\n",
    "# LAST FOLLOW UP DURATION (NO IDEA, AGAIN)\n",
    "# TIME TO RECURRENCE (??)\n",
    "# LAST FOLLOW UP STATUS (MORTALITY, BIN)\n",
    "# LAST FOLLOW UP RECURRENCE\n",
    "# LAST TREATMENT OF RECURRENCE\n",
    "# RECURRENCE(S)"
   ]
  },
  {
   "cell_type": "code",
   "execution_count": 21,
   "id": "d55482b7-e5ca-48d2-9f0a-eea66eef1b7c",
   "metadata": {},
   "outputs": [
    {
     "data": {
      "text/plain": [
       "AGE AT SURGERY\n",
       "61.0    134\n",
       "64.0    123\n",
       "65.0    118\n",
       "67.0    116\n",
       "62.0    116\n",
       "       ... \n",
       "20.0      1\n",
       "19.0      1\n",
       "17.0      1\n",
       "21.0      1\n",
       "88.0      1\n",
       "Name: count, Length: 74, dtype: int64"
      ]
     },
     "execution_count": 21,
     "metadata": {},
     "output_type": "execute_result"
    }
   ],
   "source": [
    "vcqi1['AGE AT SURGERY'].value_counts()"
   ]
  },
  {
   "cell_type": "code",
   "execution_count": 23,
   "id": "47381a78-93d0-467d-947e-03f9c54b20c1",
   "metadata": {},
   "outputs": [],
   "source": [
    "# GREEN COLUMNS\n",
    "# GENDER\n",
    "# AGE AT SURGERY\n",
    "# SIDE OF TUMOR\n",
    "# CT OR PT?\n",
    "# CN OR PN?\n",
    "# CM\n",
    "# CLINICAL SIZE OR PATHOLOGICAL TUMOR SIZE?\n",
    "# BILATERALITY OF TUMOR, SIDE OF TUMOR OR SIDE OF SURGERY?\n",
    "# FUHRMAN GRADING\n",
    "# TIME TO RECURRENCE?"
   ]
  },
  {
   "cell_type": "code",
   "execution_count": 24,
   "id": "775a549c-557e-49a4-92d4-ea4ba5dad821",
   "metadata": {},
   "outputs": [],
   "source": [
    "# GENDER (GREEN)-----------------------------------------------------------------------------------------------------------------------------------------"
   ]
  },
  {
   "cell_type": "code",
   "execution_count": 25,
   "id": "740069ba-440b-458e-80d5-1cb7b16408e9",
   "metadata": {},
   "outputs": [
    {
     "data": {
      "text/plain": [
       "2766    NaN\n",
       "2793    NaN\n",
       "2823    NaN\n",
       "Name: GENDER, dtype: object"
      ]
     },
     "execution_count": 25,
     "metadata": {},
     "output_type": "execute_result"
    }
   ],
   "source": [
    "vcqi1.loc[vcqi1['GENDER'].isna(), 'GENDER']"
   ]
  },
  {
   "cell_type": "code",
   "execution_count": 26,
   "id": "83760865-18f8-4546-9ff6-28913cd6a7d0",
   "metadata": {},
   "outputs": [
    {
     "data": {
      "text/plain": [
       "GENDER\n",
       "Male      2449\n",
       "Female    1339\n",
       "Name: count, dtype: int64"
      ]
     },
     "execution_count": 26,
     "metadata": {},
     "output_type": "execute_result"
    }
   ],
   "source": [
    "vcqi1['GENDER'].value_counts()"
   ]
  },
  {
   "cell_type": "code",
   "execution_count": 27,
   "id": "c2cc1753-6ea2-4558-bfbf-29f1100fe5a0",
   "metadata": {},
   "outputs": [],
   "source": [
    "# DATE OF BIRTH (DROP)-----------------------------------------------------------------------------------------------------------------------------------"
   ]
  },
  {
   "cell_type": "code",
   "execution_count": 28,
   "id": "d21f1787-599e-45c3-9cc9-45303ed756df",
   "metadata": {},
   "outputs": [
    {
     "data": {
      "text/plain": [
       "1362"
      ]
     },
     "execution_count": 28,
     "metadata": {},
     "output_type": "execute_result"
    }
   ],
   "source": [
    "vcqi1['DATE OF BIRTH'].isna().sum()"
   ]
  },
  {
   "cell_type": "code",
   "execution_count": 29,
   "id": "51a913ed-6bb4-4108-a711-6c0f8ef4bcd0",
   "metadata": {},
   "outputs": [
    {
     "data": {
      "text/plain": [
       "(77, 1921.0, 1998.0)"
      ]
     },
     "execution_count": 29,
     "metadata": {},
     "output_type": "execute_result"
    }
   ],
   "source": [
    "vcqi1['DATE OF BIRTH'].nunique(), vcqi1['DATE OF BIRTH'].min(), vcqi1['DATE OF BIRTH'].max()"
   ]
  },
  {
   "cell_type": "code",
   "execution_count": 115,
   "id": "ad5bfa48-98bd-466b-82b3-69eadd5e1999",
   "metadata": {},
   "outputs": [],
   "source": [
    "# AGE AT SURGERY (GREEN)---------------------------------------------------------------------------------------------------------------------------------"
   ]
  },
  {
   "cell_type": "code",
   "execution_count": 17,
   "id": "aa08251b-86c7-421c-8198-7de7d8c9efd3",
   "metadata": {},
   "outputs": [
    {
     "data": {
      "text/plain": [
       "1"
      ]
     },
     "execution_count": 17,
     "metadata": {},
     "output_type": "execute_result"
    }
   ],
   "source": [
    "vcqi1['AGE AT SURGERY'].isna().sum()"
   ]
  },
  {
   "cell_type": "code",
   "execution_count": 18,
   "id": "cb156ba7-1085-46f9-9c9d-62f8b7f24907",
   "metadata": {},
   "outputs": [
    {
     "data": {
      "text/plain": [
       "AGE AT SURGERY\n",
       "61.0    134\n",
       "64.0    123\n",
       "65.0    118\n",
       "67.0    116\n",
       "62.0    116\n",
       "       ... \n",
       "20.0      1\n",
       "19.0      1\n",
       "17.0      1\n",
       "21.0      1\n",
       "88.0      1\n",
       "Name: count, Length: 74, dtype: int64"
      ]
     },
     "execution_count": 18,
     "metadata": {},
     "output_type": "execute_result"
    }
   ],
   "source": [
    "vcqi1['AGE AT SURGERY'].value_counts()"
   ]
  },
  {
   "cell_type": "code",
   "execution_count": 116,
   "id": "6d1b1984-2c57-4987-b8c4-d6f5b0880eaf",
   "metadata": {},
   "outputs": [],
   "source": [
    "# CLINICAL SIZE (MM)\n",
    "# RADIUS (MAXIMAL DIAMETER IN CM)\n",
    "# MIN THICKNESS MARGIN\n",
    "# MAX THICKNESS MARGIN\n",
    "# PATHOLOGICAL TUMOR SIZE--------------------------------------------------------------------------------------------------------------------------------"
   ]
  },
  {
   "cell_type": "code",
   "execution_count": 20,
   "id": "29ba329c-6d74-4fb4-8d1e-c9eefc503b86",
   "metadata": {},
   "outputs": [
    {
     "data": {
      "text/plain": [
       "CLINICAL SIZE (MM)\n",
       "30.0     202\n",
       "25.0     183\n",
       "20.0     182\n",
       "35.0     175\n",
       "40.0     173\n",
       "        ... \n",
       "72.0       1\n",
       "24.8       1\n",
       "112.0      1\n",
       "10.5       1\n",
       "97.0       1\n",
       "Name: count, Length: 125, dtype: int64"
      ]
     },
     "execution_count": 20,
     "metadata": {},
     "output_type": "execute_result"
    }
   ],
   "source": [
    "vcqi1['CLINICAL SIZE (MM)'].value_counts()"
   ]
  },
  {
   "cell_type": "code",
   "execution_count": 21,
   "id": "b0e67a90-7858-4167-ac7a-99a5d2d31de7",
   "metadata": {},
   "outputs": [
    {
     "data": {
      "text/plain": [
       "0       4 but <7\n",
       "1            =<4\n",
       "2       4 but <7\n",
       "3       4 but <7\n",
       "4            =<4\n",
       "          ...   \n",
       "3786         =<4\n",
       "3787    4 but <7\n",
       "3788    4 but <7\n",
       "3789         =<4\n",
       "3790         =<4\n",
       "Name: RADIUS (MAXIMAL DIAMETER IN CM), Length: 3791, dtype: object"
      ]
     },
     "execution_count": 21,
     "metadata": {},
     "output_type": "execute_result"
    }
   ],
   "source": [
    "vcqi1['RADIUS (MAXIMAL DIAMETER IN CM)']"
   ]
  },
  {
   "cell_type": "code",
   "execution_count": 22,
   "id": "53722a55-3557-4f49-83c0-d08ad77cf704",
   "metadata": {},
   "outputs": [
    {
     "data": {
      "text/plain": [
       "RADIUS (MAXIMAL DIAMETER IN CM)\n",
       "=<4         2354\n",
       "4 but <7     916\n",
       "=>7          119\n",
       "Name: count, dtype: int64"
      ]
     },
     "execution_count": 22,
     "metadata": {},
     "output_type": "execute_result"
    }
   ],
   "source": [
    "vcqi1['RADIUS (MAXIMAL DIAMETER IN CM)'].value_counts()"
   ]
  },
  {
   "cell_type": "code",
   "execution_count": 23,
   "id": "2b75435c-4a7a-4857-bf79-a867b7e077db",
   "metadata": {},
   "outputs": [
    {
     "data": {
      "text/plain": [
       "0       NaN\n",
       "1       NaN\n",
       "2       0.7\n",
       "3       0.4\n",
       "4       1.0\n",
       "       ... \n",
       "3786    0.5\n",
       "3787    0.1\n",
       "3788    0.1\n",
       "3789    0.1\n",
       "3790    0.5\n",
       "Name: MIN THICKNESS MARGIN, Length: 3791, dtype: float64"
      ]
     },
     "execution_count": 23,
     "metadata": {},
     "output_type": "execute_result"
    }
   ],
   "source": [
    "vcqi1['MIN THICKNESS MARGIN']"
   ]
  },
  {
   "cell_type": "code",
   "execution_count": 24,
   "id": "9390cb39-baa1-4e41-84a0-a354fb874f04",
   "metadata": {},
   "outputs": [
    {
     "data": {
      "text/plain": [
       "3077"
      ]
     },
     "execution_count": 24,
     "metadata": {},
     "output_type": "execute_result"
    }
   ],
   "source": [
    "vcqi1['MAX THICKNESS MARGIN'].isna().sum()"
   ]
  },
  {
   "cell_type": "code",
   "execution_count": 25,
   "id": "2d6774e7-ae32-4dd0-b0ce-b39c67697b4f",
   "metadata": {},
   "outputs": [
    {
     "data": {
      "text/plain": [
       "PATHOLOGICAL TUMOR SIZE\n",
       "3.5     171\n",
       "3.0     159\n",
       "2.5     147\n",
       "2.0     133\n",
       "4.0     126\n",
       "       ... \n",
       "54.0      1\n",
       "10.8      1\n",
       "7.4       1\n",
       "10.5      1\n",
       "0.2       1\n",
       "Name: count, Length: 157, dtype: int64"
      ]
     },
     "execution_count": 25,
     "metadata": {},
     "output_type": "execute_result"
    }
   ],
   "source": [
    "vcqi1['PATHOLOGICAL TUMOR SIZE'].value_counts()"
   ]
  },
  {
   "cell_type": "code",
   "execution_count": 27,
   "id": "0163137a-b991-4869-a0f7-57379e227c41",
   "metadata": {},
   "outputs": [
    {
     "data": {
      "text/plain": [
       "157"
      ]
     },
     "execution_count": 27,
     "metadata": {},
     "output_type": "execute_result"
    }
   ],
   "source": [
    "vcqi1['PATHOLOGICAL TUMOR SIZE'].nunique()"
   ]
  },
  {
   "cell_type": "code",
   "execution_count": 33,
   "id": "a35d8f39-a1ea-4e67-b52d-35361d9deeef",
   "metadata": {},
   "outputs": [
    {
     "data": {
      "image/png": "[encoded data removed]",
      "text/plain": [
       "<Figure size 1000x800 with 2 Axes>"
      ]
     },
     "metadata": {},
     "output_type": "display_data"
    }
   ],
   "source": [
    "# Assuming df is your DataFrame and 'target' is the binary target column\n",
    "temp_df = vcqi1[['CLINICAL SIZE (MM)', 'PATHOLOGICAL TUMOR SIZE']]\n",
    "correlation_matrix = temp_df.corr(method='pearson')\n",
    "# correlation_with_target = correlation_matrix['RECURRENCE'].sort_values(ascending=False)\n",
    "\n",
    "# Plotting a heatmap\n",
    "plt.figure(figsize=(10, 8))\n",
    "sns.heatmap(correlation_matrix, cmap='coolwarm', annot=True, fmt=\".2f\", linewidths=0.5)\n",
    "plt.title('Point-Biserial Correlation Matrix')\n",
    "plt.show()\n",
    "\n",
    "# # Display correlation with the target\n",
    "# print(correlation_with_target)"
   ]
  },
  {
   "cell_type": "code",
   "execution_count": 28,
   "id": "995f5074-7000-43cc-846e-22e51779a265",
   "metadata": {
    "collapsed": true,
    "jupyter": {
     "outputs_hidden": true
    }
   },
   "outputs": [
    {
     "name": "stdout",
     "output_type": "stream",
     "text": [
      "158 158\n"
     ]
    },
    {
     "data": {
      "text/plain": [
       "[nan,\n",
       " 0.0,\n",
       " 0.13,\n",
       " 0.2,\n",
       " 0.4,\n",
       " 0.5,\n",
       " 0.65,\n",
       " 0.7,\n",
       " 0.8,\n",
       " 0.9,\n",
       " 1.0,\n",
       " 1.1,\n",
       " 1.2,\n",
       " 1.3,\n",
       " 1.4,\n",
       " 1.5,\n",
       " 1.6,\n",
       " 1.7,\n",
       " 1.8,\n",
       " 1.9,\n",
       " 2.0,\n",
       " 2.1,\n",
       " 2.2,\n",
       " 2.3,\n",
       " 2.4,\n",
       " 2.5,\n",
       " 2.6,\n",
       " 2.7,\n",
       " 2.8,\n",
       " 2.9,\n",
       " 3.0,\n",
       " 3.1,\n",
       " 3.2,\n",
       " 3.3,\n",
       " 3.4,\n",
       " 3.5,\n",
       " 3.6,\n",
       " 3.7,\n",
       " 3.8,\n",
       " 3.9,\n",
       " 4.0,\n",
       " 4.1,\n",
       " 4.2,\n",
       " 4.3,\n",
       " 4.4,\n",
       " 4.5,\n",
       " 4.6,\n",
       " 4.7,\n",
       " 4.8,\n",
       " 4.9,\n",
       " 5.0,\n",
       " 5.1,\n",
       " 5.2,\n",
       " 5.3,\n",
       " 5.4,\n",
       " 5.5,\n",
       " 5.6,\n",
       " 5.7,\n",
       " 5.8,\n",
       " 5.9,\n",
       " 6.0,\n",
       " 6.1,\n",
       " 6.2,\n",
       " 6.3,\n",
       " 6.4,\n",
       " 6.5,\n",
       " 6.6,\n",
       " 6.7,\n",
       " 6.8,\n",
       " 7.0,\n",
       " 7.2,\n",
       " 7.3,\n",
       " 7.4,\n",
       " 7.5,\n",
       " 7.7,\n",
       " 8.0,\n",
       " 8.1,\n",
       " 8.2,\n",
       " 8.3,\n",
       " 8.5,\n",
       " 9.0,\n",
       " 9.5,\n",
       " 10.0,\n",
       " 10.5,\n",
       " 10.8,\n",
       " 11.0,\n",
       " 11.5,\n",
       " 12.0,\n",
       " 12.5,\n",
       " 13.0,\n",
       " 14.0,\n",
       " 15.0,\n",
       " 16.0,\n",
       " 17.0,\n",
       " 18.0,\n",
       " 19.0,\n",
       " 20.0,\n",
       " 21.0,\n",
       " 22.0,\n",
       " 23.0,\n",
       " 24.0,\n",
       " 25.0,\n",
       " 26.0,\n",
       " 27.0,\n",
       " 28.0,\n",
       " 29.0,\n",
       " 30.0,\n",
       " 31.0,\n",
       " 32.0,\n",
       " 33.0,\n",
       " 34.0,\n",
       " 35.0,\n",
       " 36.0,\n",
       " 37.0,\n",
       " 38.0,\n",
       " 39.0,\n",
       " 40.0,\n",
       " 41.0,\n",
       " 42.0,\n",
       " 43.0,\n",
       " 44.0,\n",
       " 45.0,\n",
       " 46.0,\n",
       " 47.0,\n",
       " 48.0,\n",
       " 49.0,\n",
       " 50.0,\n",
       " 51.0,\n",
       " 52.0,\n",
       " 53.0,\n",
       " 54.0,\n",
       " 55.0,\n",
       " 56.0,\n",
       " 57.0,\n",
       " 58.0,\n",
       " 60.0,\n",
       " 61.0,\n",
       " 63.0,\n",
       " 64.0,\n",
       " 65.0,\n",
       " 67.0,\n",
       " 68.0,\n",
       " 69.0,\n",
       " 70.0,\n",
       " 72.0,\n",
       " 73.0,\n",
       " 74.0,\n",
       " 75.0,\n",
       " 76.0,\n",
       " 77.0,\n",
       " 80.0,\n",
       " 85.0,\n",
       " 95.0,\n",
       " 100.0,\n",
       " 105.0,\n",
       " 110.0,\n",
       " 111.0,\n",
       " 115.0]"
      ]
     },
     "execution_count": 28,
     "metadata": {},
     "output_type": "execute_result"
    }
   ],
   "source": [
    "pat_sorted = sorted(vcqi1['PATHOLOGICAL TUMOR SIZE'].unique())\n",
    "print(len(pat_sorted), len(vcqi1['PATHOLOGICAL TUMOR SIZE'].unique()))\n",
    "pat_sorted"
   ]
  },
  {
   "cell_type": "code",
   "execution_count": 29,
   "id": "ef86be40-c69c-4462-80ba-f1727217249a",
   "metadata": {},
   "outputs": [
    {
     "data": {
      "text/plain": [
       "125"
      ]
     },
     "execution_count": 29,
     "metadata": {},
     "output_type": "execute_result"
    }
   ],
   "source": [
    "vcqi1['CLINICAL SIZE (MM)'].nunique()"
   ]
  },
  {
   "cell_type": "code",
   "execution_count": 30,
   "id": "afbe279c-d01b-42ea-9bb0-150c6eb4746e",
   "metadata": {
    "collapsed": true,
    "jupyter": {
     "outputs_hidden": true
    }
   },
   "outputs": [
    {
     "name": "stdout",
     "output_type": "stream",
     "text": [
      "126 126\n"
     ]
    },
    {
     "data": {
      "text/plain": [
       "[nan,\n",
       " 1.5,\n",
       " 1.7,\n",
       " 2.0,\n",
       " 2.8,\n",
       " 3.0,\n",
       " 3.1,\n",
       " 3.5,\n",
       " 3.6,\n",
       " 3.9,\n",
       " 4.5,\n",
       " 4.9,\n",
       " 5.0,\n",
       " 5.5,\n",
       " 6.3,\n",
       " 7.0,\n",
       " 7.3,\n",
       " 7.7,\n",
       " 8.0,\n",
       " 9.0,\n",
       " 9.2,\n",
       " 9.8,\n",
       " 10.0,\n",
       " 10.5,\n",
       " 11.0,\n",
       " 12.0,\n",
       " 13.0,\n",
       " 14.0,\n",
       " 15.0,\n",
       " 16.0,\n",
       " 17.0,\n",
       " 18.0,\n",
       " 19.0,\n",
       " 20.0,\n",
       " 20.2,\n",
       " 21.0,\n",
       " 22.0,\n",
       " 23.0,\n",
       " 23.5,\n",
       " 24.0,\n",
       " 24.8,\n",
       " 25.0,\n",
       " 25.4,\n",
       " 26.0,\n",
       " 27.0,\n",
       " 27.5,\n",
       " 28.0,\n",
       " 29.0,\n",
       " 30.0,\n",
       " 31.0,\n",
       " 32.0,\n",
       " 33.0,\n",
       " 34.0,\n",
       " 35.0,\n",
       " 36.0,\n",
       " 37.0,\n",
       " 38.0,\n",
       " 39.0,\n",
       " 40.0,\n",
       " 41.0,\n",
       " 42.0,\n",
       " 43.0,\n",
       " 43.7,\n",
       " 44.0,\n",
       " 45.0,\n",
       " 46.0,\n",
       " 47.0,\n",
       " 48.0,\n",
       " 49.0,\n",
       " 50.0,\n",
       " 51.0,\n",
       " 52.0,\n",
       " 53.0,\n",
       " 54.0,\n",
       " 54.1,\n",
       " 55.0,\n",
       " 56.0,\n",
       " 57.0,\n",
       " 58.0,\n",
       " 59.0,\n",
       " 60.0,\n",
       " 61.0,\n",
       " 62.0,\n",
       " 63.0,\n",
       " 64.0,\n",
       " 65.0,\n",
       " 65.6,\n",
       " 66.0,\n",
       " 67.0,\n",
       " 68.0,\n",
       " 69.0,\n",
       " 70.0,\n",
       " 71.0,\n",
       " 72.0,\n",
       " 73.0,\n",
       " 74.0,\n",
       " 75.0,\n",
       " 76.0,\n",
       " 77.0,\n",
       " 78.0,\n",
       " 79.0,\n",
       " 80.0,\n",
       " 81.0,\n",
       " 82.0,\n",
       " 83.0,\n",
       " 84.0,\n",
       " 85.0,\n",
       " 90.0,\n",
       " 92.0,\n",
       " 94.0,\n",
       " 95.0,\n",
       " 97.0,\n",
       " 98.0,\n",
       " 100.0,\n",
       " 104.0,\n",
       " 105.0,\n",
       " 107.0,\n",
       " 110.0,\n",
       " 112.0,\n",
       " 113.0,\n",
       " 117.0,\n",
       " 125.0,\n",
       " 135.0,\n",
       " 140.0,\n",
       " 160.0,\n",
       " 400.0]"
      ]
     },
     "execution_count": 30,
     "metadata": {},
     "output_type": "execute_result"
    }
   ],
   "source": [
    "# clin_sorted = sorted(vcqi1['CLINICAL SIZE (MM)'].unique())\n",
    "clin_sorted = sorted(vcqi1['CLINICAL SIZE (MM)'].unique(), key=lambda x: float('-inf') if pd.isna(x) else x)\n",
    "print(len(clin_sorted), len(vcqi1['CLINICAL SIZE (MM)'].unique()))\n",
    "clin_sorted"
   ]
  },
  {
   "cell_type": "code",
   "execution_count": 31,
   "id": "8a06e013-86fa-47d5-8a64-9861cdfa6c76",
   "metadata": {},
   "outputs": [
    {
     "data": {
      "text/plain": [
       "CLINICAL SIZE (MM)\n",
       "30.0     202\n",
       "25.0     183\n",
       "20.0     182\n",
       "35.0     175\n",
       "40.0     173\n",
       "        ... \n",
       "72.0       1\n",
       "24.8       1\n",
       "112.0      1\n",
       "10.5       1\n",
       "97.0       1\n",
       "Name: count, Length: 125, dtype: int64"
      ]
     },
     "execution_count": 31,
     "metadata": {},
     "output_type": "execute_result"
    }
   ],
   "source": [
    "vcqi1['CLINICAL SIZE (MM)'].value_counts()"
   ]
  },
  {
   "cell_type": "code",
   "execution_count": 32,
   "id": "8cdd4c22-2a9d-488a-b68d-bd7eb2e67f7a",
   "metadata": {},
   "outputs": [
    {
     "data": {
      "text/plain": [
       "472"
      ]
     },
     "execution_count": 32,
     "metadata": {},
     "output_type": "execute_result"
    }
   ],
   "source": [
    "vcqi1['PATHOLOGICAL TUMOR SIZE'].isna().sum()"
   ]
  },
  {
   "cell_type": "code",
   "execution_count": 117,
   "id": "2a096991-caf9-4ca7-8908-faa6f041ecf4",
   "metadata": {},
   "outputs": [],
   "source": [
    "# BILATERALITY OF TUMOR (GREEN) AND SIDE OF TUMOR (GREEN)------------------------------------------------------------------------------------------------"
   ]
  },
  {
   "cell_type": "code",
   "execution_count": 34,
   "id": "18909cb2-ae76-4d2a-abf5-14fa2406d5b5",
   "metadata": {},
   "outputs": [
    {
     "data": {
      "text/plain": [
       "BILATERALITY OF TUMOR\n",
       "No     2359\n",
       "Yes     116\n",
       "Name: count, dtype: int64"
      ]
     },
     "execution_count": 34,
     "metadata": {},
     "output_type": "execute_result"
    }
   ],
   "source": [
    "vcqi1['BILATERALITY OF TUMOR'].value_counts()"
   ]
  },
  {
   "cell_type": "code",
   "execution_count": 35,
   "id": "a752f403-6865-43a0-8c1a-587a37dfe64b",
   "metadata": {},
   "outputs": [
    {
     "data": {
      "text/plain": [
       "SIDE OF TUMOR\n",
       "Right        1357\n",
       "Left         1277\n",
       "Bilateral      91\n",
       "Name: count, dtype: int64"
      ]
     },
     "execution_count": 35,
     "metadata": {},
     "output_type": "execute_result"
    }
   ],
   "source": [
    "vcqi1['SIDE OF TUMOR'].value_counts()"
   ]
  },
  {
   "cell_type": "code",
   "execution_count": 37,
   "id": "aa131ac2-02b9-4049-b22c-e40058414a4b",
   "metadata": {},
   "outputs": [
    {
     "data": {
      "text/plain": [
       "BILATERALITY OF TUMOR  SIDE OF TUMOR\n",
       "Yes                    Right            16\n",
       "                       Left             12\n",
       "Name: count, dtype: int64"
      ]
     },
     "execution_count": 37,
     "metadata": {},
     "output_type": "execute_result"
    }
   ],
   "source": [
    "vcqi1.loc[(vcqi1['BILATERALITY OF TUMOR'] == 'Yes') & (vcqi1['SIDE OF TUMOR'] != 'Bilateral'), ['BILATERALITY OF TUMOR', 'SIDE OF TUMOR']].value_counts()\n",
    "# ?????"
   ]
  },
  {
   "cell_type": "code",
   "execution_count": 118,
   "id": "278c53bb-3418-4a63-ad79-868cea26e523",
   "metadata": {},
   "outputs": [],
   "source": [
    "# SIDE OF SURGERY----------------------------------------------------------------------------------------------------------------------------------------"
   ]
  },
  {
   "cell_type": "code",
   "execution_count": 39,
   "id": "30ffb32b-0baa-4af1-8b31-21716a69ebd4",
   "metadata": {},
   "outputs": [
    {
     "data": {
      "text/plain": [
       "SIDE OF SURGERY\n",
       "Right        1929\n",
       "Left         1839\n",
       "Bilateral       3\n",
       "Name: count, dtype: int64"
      ]
     },
     "execution_count": 39,
     "metadata": {},
     "output_type": "execute_result"
    }
   ],
   "source": [
    "vcqi1['SIDE OF SURGERY'].value_counts()"
   ]
  },
  {
   "cell_type": "code",
   "execution_count": 40,
   "id": "1e2825db-372f-4303-aa8d-d65324565da2",
   "metadata": {},
   "outputs": [
    {
     "data": {
      "text/plain": [
       "20"
      ]
     },
     "execution_count": 40,
     "metadata": {},
     "output_type": "execute_result"
    }
   ],
   "source": [
    "vcqi1['SIDE OF SURGERY'].isna().sum()"
   ]
  },
  {
   "cell_type": "code",
   "execution_count": 119,
   "id": "7b311215-2661-4842-a42d-7da9558688a4",
   "metadata": {},
   "outputs": [],
   "source": [
    "# CT (GREEN)---------------------------------------------------------------------------------------------------------------------------------------------"
   ]
  },
  {
   "cell_type": "code",
   "execution_count": 43,
   "id": "e8801ca2-76d2-4033-9770-4786aba3c331",
   "metadata": {},
   "outputs": [
    {
     "data": {
      "text/plain": [
       "CT\n",
       "T1a    2281\n",
       "T1b     838\n",
       "T2a      99\n",
       "T3a      17\n",
       "T2b      12\n",
       "T3b       1\n",
       "Name: count, dtype: int64"
      ]
     },
     "execution_count": 43,
     "metadata": {},
     "output_type": "execute_result"
    }
   ],
   "source": [
    "vcqi1['CT'].value_counts()"
   ]
  },
  {
   "cell_type": "code",
   "execution_count": 22,
   "id": "b34de896-78e4-406a-9294-945d060b7b22",
   "metadata": {},
   "outputs": [
    {
     "data": {
      "text/plain": [
       "GENDER                                3\n",
       "DATE OF BIRTH                      1362\n",
       "AGE AT SURGERY                        1\n",
       "CLINICAL SIZE (MM)                  265\n",
       "BILATERALITY OF TUMOR              1316\n",
       "SIDE OF TUMOR                      1066\n",
       "SIDE OF SURGERY                      20\n",
       "CT                                  543\n",
       "CN                                  854\n",
       "CM                                  902\n",
       "RADIUS (MAXIMAL DIAMETER IN CM)     402\n",
       "DATE OF SURGERY                       0\n",
       "ROBOTICS ARMS                       470\n",
       "PATHOLOGICAL TUMOR SIZE             472\n",
       "MIN THICKNESS MARGIN               2115\n",
       "MAX THICKNESS MARGIN               3077\n",
       "PATHOLOGY                           167\n",
       "HISTOTYPE MALIGNANT                  91\n",
       "HISTOTYPE MALIGNANT YES             861\n",
       "HISTOTYPE BENIGN                    141\n",
       "HISTOTYPE BENIGN YES               3087\n",
       "FUHRMAN GRADING                    1103\n",
       "PT                                  544\n",
       "PN                                 1123\n",
       "DATE OF RECURRENCE                 3749\n",
       "LAST FOLLOW UP DURATION            1668\n",
       "TIME TO RECURRENCE                 3553\n",
       "LAST FOLLOW UP STATUS              2040\n",
       "LAST FOLLOW UP RECURRENCE          2676\n",
       "LAST TREATMENT OF RECURRENCE       3766\n",
       "RECURRENCE(S)                       687\n",
       "dtype: int64"
      ]
     },
     "execution_count": 22,
     "metadata": {},
     "output_type": "execute_result"
    }
   ],
   "source": [
    "vcqi1.isna().sum(axis = 0)"
   ]
  },
  {
   "cell_type": "code",
   "execution_count": 35,
   "id": "07e1c8a2-2a21-480a-811a-01afd8734ce7",
   "metadata": {},
   "outputs": [
    {
     "data": {
      "text/plain": [
       "54"
      ]
     },
     "execution_count": 35,
     "metadata": {},
     "output_type": "execute_result"
    }
   ],
   "source": [
    "vcqi1['RECURRENCE(S)'].nunique()"
   ]
  },
  {
   "cell_type": "code",
   "execution_count": 30,
   "id": "740f0d61-f210-4647-9da0-eb78e37d5746",
   "metadata": {},
   "outputs": [],
   "source": [
    "drop_cols = ['DATE OF BIRTH', 'RADIUS (MAXIMAL DIAMETER IN CM)', 'RADIUS (MAXIMAL DIAMETER IN CM)', 'MIN THICKNESS MARGIN', 'MAX THICKNESS MARGIN']"
   ]
  },
  {
   "cell_type": "code",
   "execution_count": 44,
   "id": "4b634b62-b03b-43bd-b472-76e7761a56fe",
   "metadata": {},
   "outputs": [
    {
     "data": {
      "text/plain": [
       "543"
      ]
     },
     "execution_count": 44,
     "metadata": {},
     "output_type": "execute_result"
    }
   ],
   "source": [
    "vcqi1['CT'].isna().sum()"
   ]
  },
  {
   "cell_type": "code",
   "execution_count": 120,
   "id": "059c4e48-6b80-4ec4-8d54-2ae98fa858fe",
   "metadata": {},
   "outputs": [],
   "source": [
    "# CN (GREEN)---------------------------------------------------------------------------------------------------------------------------------------------"
   ]
  },
  {
   "cell_type": "code",
   "execution_count": 46,
   "id": "914aa5bf-d822-49a9-a524-ca19f6aae2d6",
   "metadata": {},
   "outputs": [
    {
     "data": {
      "text/plain": [
       "CN\n",
       "N0    2084\n",
       "Nx     838\n",
       "N+      15\n",
       "Name: count, dtype: int64"
      ]
     },
     "execution_count": 46,
     "metadata": {},
     "output_type": "execute_result"
    }
   ],
   "source": [
    "vcqi1['CN'].value_counts()"
   ]
  },
  {
   "cell_type": "code",
   "execution_count": 47,
   "id": "a8e2ab03-b351-4db8-b7d6-f0e410a135a5",
   "metadata": {},
   "outputs": [
    {
     "data": {
      "text/plain": [
       "854"
      ]
     },
     "execution_count": 47,
     "metadata": {},
     "output_type": "execute_result"
    }
   ],
   "source": [
    "vcqi1['CN'].isna().sum()"
   ]
  },
  {
   "cell_type": "code",
   "execution_count": 121,
   "id": "25ed8950-b22b-4337-a056-efb02bce32be",
   "metadata": {},
   "outputs": [],
   "source": [
    "# CM (GREEN)---------------------------------------------------------------------------------------------------------------------------------------------"
   ]
  },
  {
   "cell_type": "code",
   "execution_count": 49,
   "id": "0fe2beca-f2a4-4e6b-ba79-6ad8f6f4876f",
   "metadata": {},
   "outputs": [
    {
     "data": {
      "text/plain": [
       "CM\n",
       "M0                2065\n",
       "Not Applicable     776\n",
       "M+                  48\n",
       "Name: count, dtype: int64"
      ]
     },
     "execution_count": 49,
     "metadata": {},
     "output_type": "execute_result"
    }
   ],
   "source": [
    "vcqi1['CM'].value_counts()"
   ]
  },
  {
   "cell_type": "code",
   "execution_count": 50,
   "id": "f4975260-e95f-4cc1-8302-67325127071e",
   "metadata": {},
   "outputs": [
    {
     "data": {
      "text/plain": [
       "902"
      ]
     },
     "execution_count": 50,
     "metadata": {},
     "output_type": "execute_result"
    }
   ],
   "source": [
    "vcqi1['CM'].isna().sum()"
   ]
  },
  {
   "cell_type": "code",
   "execution_count": 122,
   "id": "4fa89c39-f642-49f3-839c-455d33106f44",
   "metadata": {},
   "outputs": [],
   "source": [
    "# DATE OF SURGERY----------------------------------------------------------------------------------------------------------------------------------------"
   ]
  },
  {
   "cell_type": "code",
   "execution_count": 52,
   "id": "ed7e2542-6fe1-4048-8b88-81fabfa0d15d",
   "metadata": {},
   "outputs": [
    {
     "data": {
      "text/plain": [
       "DATE OF SURGERY\n",
       "8/28/2013     7\n",
       "12/4/2014     7\n",
       "9/22/2011     6\n",
       "5/6/2015      6\n",
       "6/2/2015      6\n",
       "             ..\n",
       "3/7/2012      1\n",
       "1/20/2012     1\n",
       "12/29/2011    1\n",
       "11/17/2011    1\n",
       "7/13/2013     1\n",
       "Name: count, Length: 2110, dtype: int64"
      ]
     },
     "execution_count": 52,
     "metadata": {},
     "output_type": "execute_result"
    }
   ],
   "source": [
    "vcqi1['DATE OF SURGERY'].value_counts()"
   ]
  },
  {
   "cell_type": "code",
   "execution_count": 53,
   "id": "80e5a31d-9a25-4c92-84fe-137ddb1df46a",
   "metadata": {},
   "outputs": [
    {
     "data": {
      "text/plain": [
       "0"
      ]
     },
     "execution_count": 53,
     "metadata": {},
     "output_type": "execute_result"
    }
   ],
   "source": [
    "vcqi1['DATE OF SURGERY'].isna().sum()"
   ]
  },
  {
   "cell_type": "code",
   "execution_count": 123,
   "id": "b400d32d-f435-424e-b144-579dc9e6e8dc",
   "metadata": {},
   "outputs": [],
   "source": [
    "# ROBOTICS ARMS------------------------------------------------------------------------------------------------------------------------------------------"
   ]
  },
  {
   "cell_type": "code",
   "execution_count": 55,
   "id": "100f7dbd-8c97-4339-9dd0-a746f83d23cd",
   "metadata": {},
   "outputs": [
    {
     "data": {
      "text/plain": [
       "ROBOTICS ARMS\n",
       "3-arms    1788\n",
       "4-arms    1532\n",
       "1            1\n",
       "Name: count, dtype: int64"
      ]
     },
     "execution_count": 55,
     "metadata": {},
     "output_type": "execute_result"
    }
   ],
   "source": [
    "vcqi1['ROBOTICS ARMS'].value_counts()"
   ]
  },
  {
   "cell_type": "code",
   "execution_count": 56,
   "id": "b8d1dd40-ceb6-4968-b688-99d6440f5fbc",
   "metadata": {},
   "outputs": [
    {
     "data": {
      "text/plain": [
       "470"
      ]
     },
     "execution_count": 56,
     "metadata": {},
     "output_type": "execute_result"
    }
   ],
   "source": [
    "vcqi1['ROBOTICS ARMS'].isna().sum()"
   ]
  },
  {
   "cell_type": "code",
   "execution_count": 124,
   "id": "b0717c66-9cb9-493f-859d-0b3295367239",
   "metadata": {},
   "outputs": [],
   "source": [
    "# PATHOLOGY----------------------------------------------------------------------------------------------------------------------------------------------"
   ]
  },
  {
   "cell_type": "code",
   "execution_count": 58,
   "id": "0500309c-1df6-4be7-a63a-8e39d1cda4f8",
   "metadata": {},
   "outputs": [
    {
     "data": {
      "text/plain": [
       "PATHOLOGY\n",
       "Malign    2919\n",
       "Benign     705\n",
       "Name: count, dtype: int64"
      ]
     },
     "execution_count": 58,
     "metadata": {},
     "output_type": "execute_result"
    }
   ],
   "source": [
    "vcqi1['PATHOLOGY'].value_counts()"
   ]
  },
  {
   "cell_type": "code",
   "execution_count": 59,
   "id": "1ee80094-9c32-4f91-9418-86bd9849a33f",
   "metadata": {},
   "outputs": [
    {
     "data": {
      "text/plain": [
       "167"
      ]
     },
     "execution_count": 59,
     "metadata": {},
     "output_type": "execute_result"
    }
   ],
   "source": [
    "vcqi1['PATHOLOGY'].isna().sum()"
   ]
  },
  {
   "cell_type": "code",
   "execution_count": 125,
   "id": "e6f4186a-230b-4b14-b6b6-11767b449a60",
   "metadata": {},
   "outputs": [],
   "source": [
    "# HISTOTYPE MALIGNANT------------------------------------------------------------------------------------------------------------------------------------"
   ]
  },
  {
   "cell_type": "code",
   "execution_count": 61,
   "id": "26c4053c-75ae-4aed-9ee9-e1d538e67f48",
   "metadata": {},
   "outputs": [
    {
     "data": {
      "text/plain": [
       "HISTOTYPE MALIGNANT\n",
       "Yes    2930\n",
       "No      770\n",
       "Name: count, dtype: int64"
      ]
     },
     "execution_count": 61,
     "metadata": {},
     "output_type": "execute_result"
    }
   ],
   "source": [
    "vcqi1['HISTOTYPE MALIGNANT'].value_counts()"
   ]
  },
  {
   "cell_type": "code",
   "execution_count": 63,
   "id": "7edf22fd-960b-40a3-915a-0ff8f735b96f",
   "metadata": {},
   "outputs": [
    {
     "data": {
      "text/plain": [
       "91"
      ]
     },
     "execution_count": 63,
     "metadata": {},
     "output_type": "execute_result"
    }
   ],
   "source": [
    "vcqi1['HISTOTYPE MALIGNANT'].isna().sum()"
   ]
  },
  {
   "cell_type": "code",
   "execution_count": 126,
   "id": "e3dd5dd3-116e-477a-bf12-791f41a3a256",
   "metadata": {},
   "outputs": [],
   "source": [
    "# HISTOTYPE MALIGNANT YES--------------------------------------------------------------------------------------------------------------------------------"
   ]
  },
  {
   "cell_type": "code",
   "execution_count": 65,
   "id": "d59c1ad5-dd9d-4431-bff2-662dd306352e",
   "metadata": {},
   "outputs": [
    {
     "data": {
      "text/plain": [
       "HISTOTYPE MALIGNANT YES\n",
       "Clear cell renal cell carcinoma                 2069\n",
       "Papillary renal cell carcinoma                   531\n",
       "Chromophobe renal cell carcinoma                 238\n",
       "Renal cell carcinoma unclassified                 78\n",
       "Metastatic tumors                                  4\n",
       "Mucinous tubular and spindle cell carcinoma        3\n",
       "Multilocular clear cell renal cell carcinoma       3\n",
       "Xp11 translocation carcinomas                      2\n",
       "Carcinoma of the collecting ducts of Bellini       2\n",
       "Name: count, dtype: int64"
      ]
     },
     "execution_count": 65,
     "metadata": {},
     "output_type": "execute_result"
    }
   ],
   "source": [
    "vcqi1['HISTOTYPE MALIGNANT YES'].value_counts()"
   ]
  },
  {
   "cell_type": "code",
   "execution_count": 66,
   "id": "99b85509-d685-4aff-85bd-767a83966722",
   "metadata": {},
   "outputs": [
    {
     "data": {
      "text/plain": [
       "861"
      ]
     },
     "execution_count": 66,
     "metadata": {},
     "output_type": "execute_result"
    }
   ],
   "source": [
    "vcqi1['HISTOTYPE MALIGNANT YES'].isna().sum()"
   ]
  },
  {
   "cell_type": "code",
   "execution_count": 127,
   "id": "164a219a-bed9-4fca-990c-63f2668b1651",
   "metadata": {},
   "outputs": [],
   "source": [
    "# HISTOTYPE BENIGN---------------------------------------------------------------------------------------------------------------------------------------"
   ]
  },
  {
   "cell_type": "code",
   "execution_count": 68,
   "id": "0a632176-327f-4f15-9e43-726184a156ef",
   "metadata": {},
   "outputs": [
    {
     "data": {
      "text/plain": [
       "HISTOTYPE BENIGN\n",
       "No     2946\n",
       "Yes     704\n",
       "Name: count, dtype: int64"
      ]
     },
     "execution_count": 68,
     "metadata": {},
     "output_type": "execute_result"
    }
   ],
   "source": [
    "vcqi1['HISTOTYPE BENIGN'].value_counts()"
   ]
  },
  {
   "cell_type": "code",
   "execution_count": 69,
   "id": "7dd42346-8037-43a5-862c-e86f30151c0f",
   "metadata": {},
   "outputs": [
    {
     "data": {
      "text/plain": [
       "141"
      ]
     },
     "execution_count": 69,
     "metadata": {},
     "output_type": "execute_result"
    }
   ],
   "source": [
    "vcqi1['HISTOTYPE BENIGN'].isna().sum()"
   ]
  },
  {
   "cell_type": "code",
   "execution_count": 128,
   "id": "6b6db8e2-639f-41ee-a64d-d95f33c0ab2b",
   "metadata": {},
   "outputs": [],
   "source": [
    "# HISTOTYPE BENIGN YES-----------------------------------------------------------------------------------------------------------------------------------"
   ]
  },
  {
   "cell_type": "code",
   "execution_count": 71,
   "id": "aecfba23-5439-4750-9e2c-6de340b1064f",
   "metadata": {},
   "outputs": [
    {
     "data": {
      "text/plain": [
       "HISTOTYPE BENIGN YES\n",
       "Oncocytoma                            323\n",
       "Angiomyolipoma                        212\n",
       "Benign Cyst                            76\n",
       "Other                                  68\n",
       "Xanthogranulomatous Pyelonephritis     10\n",
       "Papillary Adenoma                       6\n",
       "Metanephric Adenoma                     6\n",
       "Mixed Epithelial and Stromal Tumor      3\n",
       "Name: count, dtype: int64"
      ]
     },
     "execution_count": 71,
     "metadata": {},
     "output_type": "execute_result"
    }
   ],
   "source": [
    "vcqi1['HISTOTYPE BENIGN YES'].value_counts()"
   ]
  },
  {
   "cell_type": "code",
   "execution_count": 72,
   "id": "a04067b3-3a86-4a86-8d10-1cba5224281f",
   "metadata": {},
   "outputs": [
    {
     "data": {
      "text/plain": [
       "3087"
      ]
     },
     "execution_count": 72,
     "metadata": {},
     "output_type": "execute_result"
    }
   ],
   "source": [
    "vcqi1['HISTOTYPE BENIGN YES'].isna().sum()"
   ]
  },
  {
   "cell_type": "code",
   "execution_count": 129,
   "id": "c5e55841-5e73-4a68-86b7-51295a0675f0",
   "metadata": {},
   "outputs": [],
   "source": [
    "# FUHRMAN GRADING (GREEN)--------------------------------------------------------------------------------------------------------------------------------"
   ]
  },
  {
   "cell_type": "code",
   "execution_count": 75,
   "id": "5be3a534-7807-4868-baa1-f5640572f95f",
   "metadata": {},
   "outputs": [
    {
     "data": {
      "text/plain": [
       "FUHRMAN GRADING\n",
       "2.0    1601\n",
       "3.0     663\n",
       "1.0     373\n",
       "4.0      51\n",
       "Name: count, dtype: int64"
      ]
     },
     "execution_count": 75,
     "metadata": {},
     "output_type": "execute_result"
    }
   ],
   "source": [
    "vcqi1['FUHRMAN GRADING'].value_counts()"
   ]
  },
  {
   "cell_type": "code",
   "execution_count": 76,
   "id": "b9eadeb2-4677-40f8-ad5a-d7a7df2d26aa",
   "metadata": {},
   "outputs": [
    {
     "data": {
      "text/plain": [
       "1103"
      ]
     },
     "execution_count": 76,
     "metadata": {},
     "output_type": "execute_result"
    }
   ],
   "source": [
    "vcqi1['FUHRMAN GRADING'].isna().sum()"
   ]
  },
  {
   "cell_type": "code",
   "execution_count": 130,
   "id": "2e6f18fa-e0b3-4864-946c-158ded0e3967",
   "metadata": {},
   "outputs": [],
   "source": [
    "# PT-----------------------------------------------------------------------------------------------------------------------------------------------------"
   ]
  },
  {
   "cell_type": "code",
   "execution_count": 78,
   "id": "668fcc04-887c-4237-a4cf-6a77fae38ec2",
   "metadata": {},
   "outputs": [
    {
     "data": {
      "text/plain": [
       "PT\n",
       "T1a       2073\n",
       "T1b        630\n",
       "Benign     348\n",
       "T2b         85\n",
       "T3a         55\n",
       "T2a         53\n",
       "T2           2\n",
       "T4           1\n",
       "Name: count, dtype: int64"
      ]
     },
     "execution_count": 78,
     "metadata": {},
     "output_type": "execute_result"
    }
   ],
   "source": [
    "vcqi1['PT'].value_counts()"
   ]
  },
  {
   "cell_type": "code",
   "execution_count": 79,
   "id": "a6f67156-ede4-4603-b879-5dc4613d2773",
   "metadata": {},
   "outputs": [
    {
     "data": {
      "text/plain": [
       "CT\n",
       "T1a    2281\n",
       "T1b     838\n",
       "T2a      99\n",
       "T3a      17\n",
       "T2b      12\n",
       "T3b       1\n",
       "Name: count, dtype: int64"
      ]
     },
     "execution_count": 79,
     "metadata": {},
     "output_type": "execute_result"
    }
   ],
   "source": [
    "vcqi1['CT'].value_counts()"
   ]
  },
  {
   "cell_type": "code",
   "execution_count": 80,
   "id": "93c9a5b4-b9d8-4614-8553-9a72b5425f48",
   "metadata": {},
   "outputs": [
    {
     "data": {
      "text/plain": [
       "544"
      ]
     },
     "execution_count": 80,
     "metadata": {},
     "output_type": "execute_result"
    }
   ],
   "source": [
    "vcqi1['PT'].isna().sum()"
   ]
  },
  {
   "cell_type": "code",
   "execution_count": 81,
   "id": "2608d31b-eb65-4c33-bc62-320699b82cd5",
   "metadata": {},
   "outputs": [
    {
     "data": {
      "text/plain": [
       "543"
      ]
     },
     "execution_count": 81,
     "metadata": {},
     "output_type": "execute_result"
    }
   ],
   "source": [
    "vcqi1['CT'].isna().sum()"
   ]
  },
  {
   "cell_type": "code",
   "execution_count": 131,
   "id": "7fba0e9a-abf9-4885-8ff5-78dbe9e9c2c9",
   "metadata": {},
   "outputs": [],
   "source": [
    "# PN-----------------------------------------------------------------------------------------------------------------------------------------------------"
   ]
  },
  {
   "cell_type": "code",
   "execution_count": 83,
   "id": "4d0f84b1-be60-4959-bc25-eeaf5325d0c7",
   "metadata": {},
   "outputs": [
    {
     "data": {
      "text/plain": [
       "PN\n",
       "Nx    2386\n",
       "N0     276\n",
       "N+       6\n",
       "Name: count, dtype: int64"
      ]
     },
     "execution_count": 83,
     "metadata": {},
     "output_type": "execute_result"
    }
   ],
   "source": [
    "vcqi1['PN'].value_counts()"
   ]
  },
  {
   "cell_type": "code",
   "execution_count": 84,
   "id": "7eddacab-83a7-46a6-967d-e0482cbd8352",
   "metadata": {},
   "outputs": [
    {
     "data": {
      "text/plain": [
       "CN\n",
       "N0    2084\n",
       "Nx     838\n",
       "N+      15\n",
       "Name: count, dtype: int64"
      ]
     },
     "execution_count": 84,
     "metadata": {},
     "output_type": "execute_result"
    }
   ],
   "source": [
    "vcqi1['CN'].value_counts()"
   ]
  },
  {
   "cell_type": "code",
   "execution_count": 85,
   "id": "92e5e75f-8f9b-4d2a-9e1b-eca1f6148c18",
   "metadata": {},
   "outputs": [
    {
     "data": {
      "text/plain": [
       "1123"
      ]
     },
     "execution_count": 85,
     "metadata": {},
     "output_type": "execute_result"
    }
   ],
   "source": [
    "vcqi1['PN'].isna().sum()"
   ]
  },
  {
   "cell_type": "code",
   "execution_count": 87,
   "id": "4fcb06b4-1b65-41bf-b733-afa151870843",
   "metadata": {},
   "outputs": [
    {
     "data": {
      "text/plain": [
       "854"
      ]
     },
     "execution_count": 87,
     "metadata": {},
     "output_type": "execute_result"
    }
   ],
   "source": [
    "vcqi1['CN'].isna().sum()"
   ]
  },
  {
   "cell_type": "code",
   "execution_count": 132,
   "id": "4ba348d8-5460-4cb9-9da2-1803d573732d",
   "metadata": {},
   "outputs": [],
   "source": [
    "# DATE OF RECURRENCE-------------------------------------------------------------------------------------------------------------------------------------"
   ]
  },
  {
   "cell_type": "code",
   "execution_count": 90,
   "id": "843a28fa-68ec-496d-8ab4-a11ad5014c88",
   "metadata": {},
   "outputs": [
    {
     "data": {
      "text/plain": [
       "DATE OF RECURRENCE\n",
       "12/1/2017     1\n",
       "1/7/2015      1\n",
       "4/22/2016     1\n",
       "12/22/2015    1\n",
       "12/18/2015    1\n",
       "4/22/2015     1\n",
       "3/25/2015     1\n",
       "3/11/2015     1\n",
       "2/15/2017     1\n",
       "5/18/2016     1\n",
       "1/28/2015     1\n",
       "3/3/2020      1\n",
       "4/9/2018      1\n",
       "1/8/2018      1\n",
       "12/3/2015     1\n",
       "5/12/2016     1\n",
       "11/8/2017     1\n",
       "10/5/2016     1\n",
       "11/10/2017    1\n",
       "7/24/2017     1\n",
       "9/28/2016     1\n",
       "2/12/2015     1\n",
       "3/24/2015     1\n",
       "6/29/2015     1\n",
       "9/25/2019     1\n",
       "7/5/2017      1\n",
       "10/20/2018    1\n",
       "10/12/2018    1\n",
       "1/15/2019     1\n",
       "5/13/2019     1\n",
       "11/17/2016    1\n",
       "9/22/2018     1\n",
       "4/25/2017     1\n",
       "8/29/2016     1\n",
       "1/12/2017     1\n",
       "2/2/2017      1\n",
       "1/18/2018     1\n",
       "7/21/2017     1\n",
       "7/2/2018      1\n",
       "1/11/2017     1\n",
       "1/9/2019      1\n",
       "8/2/2017      1\n",
       "Name: count, dtype: int64"
      ]
     },
     "execution_count": 90,
     "metadata": {},
     "output_type": "execute_result"
    }
   ],
   "source": [
    "vcqi1['DATE OF RECURRENCE'].value_counts()"
   ]
  },
  {
   "cell_type": "code",
   "execution_count": 91,
   "id": "9e65fc52-06fe-4790-8aa2-b9fb3eb8d805",
   "metadata": {},
   "outputs": [
    {
     "data": {
      "text/plain": [
       "3749"
      ]
     },
     "execution_count": 91,
     "metadata": {},
     "output_type": "execute_result"
    }
   ],
   "source": [
    "vcqi1['DATE OF RECURRENCE'].isna().sum()"
   ]
  },
  {
   "cell_type": "code",
   "execution_count": 92,
   "id": "cecea6a9-c907-4b91-a619-3ed523172298",
   "metadata": {},
   "outputs": [
    {
     "data": {
      "text/plain": [
       "42"
      ]
     },
     "execution_count": 92,
     "metadata": {},
     "output_type": "execute_result"
    }
   ],
   "source": [
    "vcqi1['DATE OF RECURRENCE'].notna().sum()"
   ]
  },
  {
   "cell_type": "code",
   "execution_count": 133,
   "id": "69011b1b-313e-4599-9ef3-6797926fac41",
   "metadata": {},
   "outputs": [],
   "source": [
    "# LAST FOLLOW UP DURATION--------------------------------------------------------------------------------------------------------------------------------"
   ]
  },
  {
   "cell_type": "code",
   "execution_count": 94,
   "id": "1259a392-7d6e-4e24-adef-f560e2342f27",
   "metadata": {},
   "outputs": [
    {
     "data": {
      "text/plain": [
       "LAST FOLLOW UP DURATION\n",
       " 3.0     189\n",
       " 1.0     128\n",
       " 0.0     117\n",
       " 12.0     61\n",
       " 6.0      53\n",
       "        ... \n",
       " 29.7      1\n",
       " 52.3      1\n",
       " 36.9      1\n",
       " 52.4      1\n",
       "-4.2       1\n",
       "Name: count, Length: 401, dtype: int64"
      ]
     },
     "execution_count": 94,
     "metadata": {},
     "output_type": "execute_result"
    }
   ],
   "source": [
    "vcqi1['LAST FOLLOW UP DURATION'].value_counts()"
   ]
  },
  {
   "cell_type": "code",
   "execution_count": 95,
   "id": "2888ad89-69f8-46c6-94f5-040733d6ecd6",
   "metadata": {},
   "outputs": [
    {
     "data": {
      "text/plain": [
       "1668"
      ]
     },
     "execution_count": 95,
     "metadata": {},
     "output_type": "execute_result"
    }
   ],
   "source": [
    "vcqi1['LAST FOLLOW UP DURATION'].isna().sum()"
   ]
  },
  {
   "cell_type": "code",
   "execution_count": 134,
   "id": "3a203db2-cdee-403f-be74-3b1b2540c167",
   "metadata": {},
   "outputs": [],
   "source": [
    "# TIME TO RECURRENCE-------------------------------------------------------------------------------------------------------------------------------------"
   ]
  },
  {
   "cell_type": "code",
   "execution_count": 97,
   "id": "2debc114-ba8a-4205-a555-31af4cd7691a",
   "metadata": {},
   "outputs": [
    {
     "data": {
      "text/plain": [
       "TIME TO RECURRENCE\n",
       "0.0           177\n",
       "1.0             3\n",
       "3.3             2\n",
       "0.7             2\n",
       "0.9             2\n",
       "0.6             2\n",
       "6.2             1\n",
       "0.6             1\n",
       "3.5             1\n",
       "6.7             1\n",
       "3.2             1\n",
       "7.2             1\n",
       "7.1             1\n",
       "1.6             1\n",
       "0.2             1\n",
       "2.3             1\n",
       "6.2             1\n",
       "0.1             1\n",
       "19.1            1\n",
       "38.5            1\n",
       "34.5            1\n",
       "16.8            1\n",
       "0.8             1\n",
       "4.8             1\n",
       "1.1             1\n",
       "24.0            1\n",
       "36.0            1\n",
       "1.3             1\n",
       "11.9            1\n",
       "15.5            1\n",
       "23/11/2010      1\n",
       "6.8             1\n",
       "2.8             1\n",
       "2.5             1\n",
       "1               1\n",
       "0.2             1\n",
       "19/1/2007       1\n",
       "2/11/2009       1\n",
       "21/8/2008       1\n",
       "2/6/2009        1\n",
       "30/3/2009       1\n",
       "19/1/2010       1\n",
       "9/2/2011        1\n",
       "0.7             1\n",
       "10/8/2011       1\n",
       "22/11/2011      1\n",
       "17/01/2012      1\n",
       "26/12/2013      1\n",
       "19/12/2012      1\n",
       "14/08/2014      1\n",
       "2/26/2015       1\n",
       "15.2            1\n",
       "3.7             1\n",
       "7               1\n",
       "7.3             1\n",
       "8.0             1\n",
       "Name: count, dtype: int64"
      ]
     },
     "execution_count": 97,
     "metadata": {},
     "output_type": "execute_result"
    }
   ],
   "source": [
    "vcqi1['TIME TO RECURRENCE'].value_counts()"
   ]
  },
  {
   "cell_type": "code",
   "execution_count": 98,
   "id": "e38a5641-74d4-489f-8dac-0b6c3a787a74",
   "metadata": {},
   "outputs": [
    {
     "data": {
      "text/plain": [
       "61"
      ]
     },
     "execution_count": 98,
     "metadata": {},
     "output_type": "execute_result"
    }
   ],
   "source": [
    "vcqi1['TIME TO RECURRENCE'].notna().sum() - max(vcqi1['TIME TO RECURRENCE'].value_counts())"
   ]
  },
  {
   "cell_type": "code",
   "execution_count": 135,
   "id": "82223329-9800-47da-9a2b-ca27d08a3054",
   "metadata": {},
   "outputs": [],
   "source": [
    "# LAST FOLLOW UP STATUS----------------------------------------------------------------------------------------------------------------------------------"
   ]
  },
  {
   "cell_type": "code",
   "execution_count": 101,
   "id": "27a43170-2369-4505-a200-d11a97a9418d",
   "metadata": {},
   "outputs": [
    {
     "data": {
      "text/plain": [
       "LAST FOLLOW UP STATUS\n",
       "Alive and disease free         1693\n",
       "Alive with local recurrance      19\n",
       "Alive with systemic disease      17\n",
       "Death of other causes            17\n",
       "Death of renal cancer             5\n",
       "Name: count, dtype: int64"
      ]
     },
     "execution_count": 101,
     "metadata": {},
     "output_type": "execute_result"
    }
   ],
   "source": [
    "vcqi1['LAST FOLLOW UP STATUS'].value_counts()"
   ]
  },
  {
   "cell_type": "code",
   "execution_count": 102,
   "id": "728f0680-e532-4db4-9339-fb834384f896",
   "metadata": {},
   "outputs": [
    {
     "data": {
      "text/plain": [
       "2040"
      ]
     },
     "execution_count": 102,
     "metadata": {},
     "output_type": "execute_result"
    }
   ],
   "source": [
    "vcqi1['LAST FOLLOW UP STATUS'].isna().sum()"
   ]
  },
  {
   "cell_type": "code",
   "execution_count": 136,
   "id": "0a431f35-db0f-4e5c-bd37-f6eafdc8cde2",
   "metadata": {},
   "outputs": [],
   "source": [
    "# LAST FOLLOW UP RECURRENCE------------------------------------------------------------------------------------------------------------------------------"
   ]
  },
  {
   "cell_type": "code",
   "execution_count": 104,
   "id": "74d33813-d0e0-4814-9b30-6945ca138c48",
   "metadata": {},
   "outputs": [
    {
     "data": {
      "text/plain": [
       "LAST FOLLOW UP RECURRENCE\n",
       "Absent     1064\n",
       "Distant      30\n",
       "Local        17\n",
       "Nodes         4\n",
       "Name: count, dtype: int64"
      ]
     },
     "execution_count": 104,
     "metadata": {},
     "output_type": "execute_result"
    }
   ],
   "source": [
    "vcqi1['LAST FOLLOW UP RECURRENCE'].value_counts()"
   ]
  },
  {
   "cell_type": "code",
   "execution_count": 105,
   "id": "be91a8ad-83c8-4173-aeae-0b48ea4be7db",
   "metadata": {},
   "outputs": [
    {
     "data": {
      "text/plain": [
       "2676"
      ]
     },
     "execution_count": 105,
     "metadata": {},
     "output_type": "execute_result"
    }
   ],
   "source": [
    "vcqi1['LAST FOLLOW UP RECURRENCE'].isna().sum()"
   ]
  },
  {
   "cell_type": "code",
   "execution_count": 137,
   "id": "88b5f377-4c5b-44f6-9ede-99168e6aeb6a",
   "metadata": {},
   "outputs": [],
   "source": [
    "# LAST TREATMENT OF RECURRENCE---------------------------------------------------------------------------------------------------------------------------"
   ]
  },
  {
   "cell_type": "code",
   "execution_count": 107,
   "id": "8c050f17-72f2-4065-9586-29dee80d9128",
   "metadata": {},
   "outputs": [
    {
     "data": {
      "text/plain": [
       "LAST TREATMENT OF RECURRENCE\n",
       "Medical Therapy    14\n",
       "RT                  6\n",
       "Surgery             5\n",
       "Name: count, dtype: int64"
      ]
     },
     "execution_count": 107,
     "metadata": {},
     "output_type": "execute_result"
    }
   ],
   "source": [
    "vcqi1['LAST TREATMENT OF RECURRENCE'].value_counts()"
   ]
  },
  {
   "cell_type": "code",
   "execution_count": 108,
   "id": "6441b559-7079-43a2-9829-fa201d807895",
   "metadata": {},
   "outputs": [
    {
     "data": {
      "text/plain": [
       "25"
      ]
     },
     "execution_count": 108,
     "metadata": {},
     "output_type": "execute_result"
    }
   ],
   "source": [
    "vcqi1['LAST TREATMENT OF RECURRENCE'].notna().sum()"
   ]
  },
  {
   "cell_type": "code",
   "execution_count": 138,
   "id": "be2ed4ae-9125-42c2-8016-16be0c2a3ea5",
   "metadata": {},
   "outputs": [],
   "source": [
    "# RECURRENCE(S)------------------------------------------------------------------------------------------------------------------------------------------"
   ]
  },
  {
   "cell_type": "code",
   "execution_count": 110,
   "id": "b9520a7d-d18e-4875-b19f-8a405d088540",
   "metadata": {
    "collapsed": true,
    "jupyter": {
     "outputs_hidden": true
    }
   },
   "outputs": [
    {
     "data": {
      "text/plain": [
       "RECURRENCE(S)\n",
       "(FUP1 : NULL),(FUP2 : NULL),(FUP3 : NULL),(FUP4 : NULL),(FUP5 : NULL)                                               1115\n",
       "(FUP1 : NULL),(FUP2 : NULL),(FUP3 : NULL),(FUP4 : ),(FUP5 : )                                                        556\n",
       "(FUP1 : None)                                                                                                        305\n",
       "(FUP1 : None),(FUP2 : NULL),(FUP3 : NULL),(FUP4 : ),(FUP5 : )                                                        289\n",
       "(FUP1 : None),(FUP2 : Absent),(FUP3 : Absent),(FUP4 : 1.0),(FUP5 : 1.0)                                              156\n",
       "(FUP1 : None),(FUP2 : Absent),(FUP3 : NULL),(FUP4 : ),(FUP5 : )                                                      126\n",
       "(FUP1 : None),(FUP2 : None)                                                                                          110\n",
       "(FUP1 : None),(FUP2 : Absent),(FUP3 : Absent),(FUP4 : ),(FUP5 : )                                                     88\n",
       "(FUP1 : None),(FUP2 : NULL),(FUP3 : NULL),(FUP4 : NULL),(FUP5 : NULL)                                                 81\n",
       "(FUP1 : None),(FUP2 : None),(FUP3 : None)                                                                             64\n",
       "(FUP1 : None),(FUP2 : Absent),(FUP3 : Absent),(FUP4 : 1.0),(FUP5 : )                                                  51\n",
       "(FUP1 : None),(FUP2 : None),(FUP3 : None),(FUP4 : None)                                                               45\n",
       "(FUP1 : None),(FUP2 : Absent),(FUP3 : NULL),(FUP4 : NULL),(FUP5 : NULL)                                               22\n",
       "(FUP1 : None),(FUP2 : None),(FUP3 : None),(FUP4 : None),(FUP5 : None)                                                 12\n",
       "(FUP1 : Distant)                                                                                                      10\n",
       "(FUP1 : None),(FUP2 : None),(FUP3 : None),(FUP4 : None),(FUP5 : None),(FUP6 : None)                                    7\n",
       "(FUP1 : None),(FUP2 : Absent),(FUP3 : Absent),(FUP4 : 1.0),(FUP5 : -)                                                  7\n",
       "(FUP1 : None),(FUP2 : Absent),(FUP3 : Absent),(FUP4 : 1.0),(FUP5 : NULL)                                               5\n",
       "(FUP1 : None),(FUP2 : NULL),(FUP3 : Absent),(FUP4 : ),(FUP5 : )                                                        5\n",
       "(FUP1 : None),(FUP2 : Absent),(FUP3 : Absent),(FUP4 : NULL),(FUP5 : NULL)                                              4\n",
       "(FUP1 : None),(FUP2 : NULL),(FUP3 : NULL),(FUP4 : 1.0),(FUP5 : )                                                       3\n",
       "(FUP1 : None),(FUP2 : Absent),(FUP3 : Absent),(FUP4 : NULL),(FUP5 : -)                                                 3\n",
       "(FUP1 : Distant),(FUP2 : None),(FUP3 : None)                                                                           3\n",
       "(FUP1 : Nodes)                                                                                                         3\n",
       "(FUP1 : Distant),(FUP2 : None),(FUP3 : None),(FUP4 : None)                                                             3\n",
       "(FUP1 : NULL),(FUP2 : Absent),(FUP3 : NULL),(FUP4 : NULL),(FUP5 : NULL)                                                2\n",
       "(FUP1 : )                                                                                                              2\n",
       "(FUP1 : Local)                                                                                                         1\n",
       "(FUP1 : ),(FUP2 : None)                                                                                                1\n",
       "(FUP1 : None),(FUP2 : NULL),(FUP3 : NULL),(FUP4 : 1.0),(FUP5 : NULL)                                                   1\n",
       "(FUP1 : NULL),(FUP2 : Absent),(FUP3 : NULL),(FUP4 : 1.0),(FUP5 : NULL)                                                 1\n",
       "(FUP1 : None),(FUP2 : Absent),(FUP3 : NULL),(FUP4 : 1.0),(FUP5 : NULL)                                                 1\n",
       "(FUP1 : Nodes),(FUP2 : None)                                                                                           1\n",
       "(FUP1 : Distant),(FUP2 : Distant),(FUP3 : Distant)                                                                     1\n",
       "(FUP1 : Nodes),(FUP2 : None),(FUP3 : None),(FUP4 : None)                                                               1\n",
       "(FUP1 : None),(FUP2 : None),(FUP3 : None),(FUP4 : Distant),(FUP5 : None)                                               1\n",
       "(FUP1 : None),(FUP2 : None),(FUP3 : None),(FUP4 : None),(FUP5 : None),(FUP6 : None),(FUP7 : None),(FUP8 : None)        1\n",
       "(FUP1 : None),(FUP2 : None),(FUP3 : None),(FUP4 : None),(FUP5 : None),(FUP6 : None),(FUP7 : Local),(FUP8 : None)       1\n",
       "(FUP1 : Local),(FUP2 : None),(FUP3 : Distant),(FUP4 : Distant)                                                         1\n",
       "(FUP1 : Distant),(FUP2 : None),(FUP3 : None),(FUP4 : None),(FUP5 : None),(FUP6 : None)                                 1\n",
       "(FUP1 : None),(FUP2 : None),(FUP3 : Local),(FUP4 : None)                                                               1\n",
       "(FUP1 : None),(FUP2 : Absent),(FUP3 : Distant),(FUP4 : NULL),(FUP5 : NULL)                                             1\n",
       "(FUP1 : None),(FUP2 : Local)                                                                                           1\n",
       "(FUP1 : Local),(FUP2 : None),(FUP3 : None)                                                                             1\n",
       "(FUP1 : Distant),(FUP2 : NULL),(FUP3 : NULL),(FUP4 : ),(FUP5 : )                                                       1\n",
       "(FUP1 : None),(FUP2 : NULL),(FUP3 : Local),(FUP4 : 1.0),(FUP5 : )                                                      1\n",
       "(FUP1 : NULL),(FUP2 : Absent),(FUP3 : NULL),(FUP4 : ),(FUP5 : )                                                        1\n",
       "(FUP1 : NULL),(FUP2 : Absent),(FUP3 : Absent),(FUP4 : ),(FUP5 : )                                                      1\n",
       "(FUP1 : Local),(FUP2 : Absent),(FUP3 : NULL),(FUP4 : ),(FUP5 : )                                                       1\n",
       "(FUP1 : NULL),(FUP2 : NULL),(FUP3 : Absent),(FUP4 : ),(FUP5 : )                                                        1\n",
       "(FUP1 : None),(FUP2 : None),(FUP3 : Distant)                                                                           1\n",
       "(FUP1 : None),(FUP2 : None),(FUP3 : None),(FUP4 : Distant)                                                             1\n",
       "(FUP1 : None),(FUP2 : NULL),(FUP3 : NULL),(FUP4 : ),(FUP5 : NULL)                                                      1\n",
       "(FUP1 : None),(FUP2 : Absent),(FUP3 : NULL),(FUP4 : ),(FUP5 : NULL)                                                    1\n",
       "Name: count, dtype: int64"
      ]
     },
     "execution_count": 110,
     "metadata": {},
     "output_type": "execute_result"
    }
   ],
   "source": [
    "vcqi1['RECURRENCE(S)'].value_counts()"
   ]
  },
  {
   "cell_type": "code",
   "execution_count": 111,
   "id": "aa848fb6-9e4c-463f-a8ac-fdb69da5c7bd",
   "metadata": {},
   "outputs": [
    {
     "data": {
      "text/plain": [
       "687"
      ]
     },
     "execution_count": 111,
     "metadata": {},
     "output_type": "execute_result"
    }
   ],
   "source": [
    "vcqi1['RECURRENCE(S)'].isna().sum()"
   ]
  },
  {
   "cell_type": "code",
   "execution_count": 112,
   "id": "af9dc4ec-cc74-4b62-ade9-4f654b6d2270",
   "metadata": {},
   "outputs": [],
   "source": [
    "# IGNORE THE CELLS BEYOND THIS POINT---------------------------------------------------------------------------------------------------------------------"
   ]
  },
  {
   "cell_type": "code",
   "execution_count": 222,
   "id": "8391fece-b5ed-4107-b4d2-7cd1ad818338",
   "metadata": {},
   "outputs": [
    {
     "data": {
      "text/plain": [
       "dtype('O')"
      ]
     },
     "execution_count": 222,
     "metadata": {},
     "output_type": "execute_result"
    }
   ],
   "source": [
    "vcqi1['DATE OF SURGERY'].dtype"
   ]
  },
  {
   "cell_type": "code",
   "execution_count": 241,
   "id": "e4a47005-d2b1-4c1f-8578-d429ed07e81c",
   "metadata": {},
   "outputs": [],
   "source": [
    "vcqi1['DATE OF SURGERY'] = pd.to_datetime(vcqi1['DATE OF SURGERY'], format='%m/%d/%Y')\n",
    "vcqi1['DATE OF RECURRENCE'] = pd.to_datetime(vcqi1['DATE OF RECURRENCE'], format='%m/%d/%Y', errors='coerce')"
   ]
  },
  {
   "cell_type": "code",
   "execution_count": 250,
   "id": "a555c995-f389-416c-88e7-af8dd82aeecc",
   "metadata": {},
   "outputs": [],
   "source": [
    "# Calculate the time difference\n",
    "vcqi1['RECURRENCE TIME (CUSTOM)'] = (vcqi1['DATE OF RECURRENCE'] - vcqi1['DATE OF SURGERY']).dt.days\n",
    "\n",
    "# Convert days to months\n",
    "vcqi1['RECURRENCE TIME (CUSTOM)'] = vcqi1['RECURRENCE TIME (CUSTOM)'] / 30.4375  # Approximate number of days in a month\n",
    "\n",
    "# Round to 2 decimal places\n",
    "vcqi1['RECURRENCE TIME (CUSTOM)'] = vcqi1['RECURRENCE TIME (CUSTOM)'].round(1)"
   ]
  },
  {
   "cell_type": "code",
   "execution_count": 235,
   "id": "e8da544b-98b7-40d7-a789-bfca727dfae7",
   "metadata": {},
   "outputs": [],
   "source": [
    "vcqi1.drop(vcqi1.index[vcqi1['DATE OF SURGERY'] == '0010-10-31 00:00:00.0'], inplace = True)"
   ]
  },
  {
   "cell_type": "code",
   "execution_count": 236,
   "id": "260e7efe-2daa-4507-b74a-e343540d9de8",
   "metadata": {},
   "outputs": [
    {
     "name": "stdout",
     "output_type": "stream",
     "text": [
      "[]\n"
     ]
    }
   ],
   "source": [
    "pattern = r'\\d{1,2}/\\d{1,2}/\\d{4}'\n",
    "filtered_strings = [s for s in vcqi1['DATE OF SURGERY'] if re.match(pattern, s)]\n",
    "unfiltered_strings = list(set(vcqi1['DATE OF SURGERY']) - set(filtered_strings))\n",
    "print(unfiltered_strings)"
   ]
  },
  {
   "cell_type": "code",
   "execution_count": 238,
   "id": "3cc280b2-baa8-4fe4-9216-ff0bcad37c8d",
   "metadata": {
    "collapsed": true,
    "jupyter": {
     "outputs_hidden": true
    }
   },
   "outputs": [
    {
     "name": "stdout",
     "output_type": "stream",
     "text": [
      "Indices of non-string elements: [0, 1, 2, 3, 4, 5, 6, 7, 8, 9, 10, 11, 12, 13, 14, 15, 16, 17, 18, 19, 20, 21, 22, 23, 24, 25, 26, 27, 28, 29, 30, 31, 32, 33, 34, 35, 36, 37, 38, 39, 40, 41, 42, 43, 45, 46, 47, 48, 49, 50, 52, 53, 54, 55, 56, 57, 59, 60, 61, 62, 63, 64, 65, 66, 67, 68, 69, 70, 71, 72, 73, 74, 75, 76, 77, 78, 79, 80, 81, 82, 83, 84, 85, 86, 87, 88, 89, 90, 91, 92, 93, 94, 95, 96, 97, 98, 99, 100, 101, 102, 103, 104, 105, 106, 107, 108, 109, 110, 111, 112, 113, 114, 115, 116, 117, 118, 119, 120, 121, 122, 123, 124, 125, 126, 127, 128, 129, 130, 131, 132, 133, 134, 135, 136, 137, 138, 139, 140, 141, 142, 143, 144, 145, 146, 147, 149, 150, 151, 152, 153, 154, 155, 156, 157, 158, 159, 160, 161, 162, 163, 164, 165, 166, 167, 168, 169, 170, 171, 172, 173, 174, 175, 176, 177, 178, 179, 180, 181, 182, 183, 184, 185, 186, 187, 188, 189, 192, 193, 194, 195, 196, 198, 199, 200, 201, 202, 203, 204, 205, 206, 207, 208, 209, 210, 211, 212, 213, 214, 215, 216, 217, 218, 219, 220, 221, 222, 223, 224, 225, 226, 227, 228, 229, 230, 231, 232, 233, 234, 235, 236, 237, 238, 239, 240, 241, 242, 243, 244, 245, 246, 247, 248, 249, 250, 251, 252, 253, 254, 255, 256, 257, 258, 259, 260, 261, 262, 263, 264, 265, 266, 267, 268, 269, 270, 271, 272, 273, 274, 275, 276, 277, 278, 279, 280, 281, 282, 283, 284, 285, 286, 287, 288, 289, 290, 291, 292, 293, 294, 295, 296, 297, 298, 299, 300, 301, 302, 303, 304, 305, 306, 307, 308, 309, 310, 311, 312, 313, 314, 315, 316, 317, 318, 319, 320, 321, 322, 323, 324, 325, 326, 327, 328, 329, 330, 331, 332, 333, 334, 335, 336, 337, 338, 339, 340, 341, 342, 343, 344, 345, 346, 347, 348, 349, 350, 351, 352, 353, 354, 355, 356, 357, 358, 359, 360, 361, 362, 363, 364, 365, 366, 367, 368, 369, 370, 371, 372, 373, 374, 375, 376, 377, 378, 379, 380, 381, 382, 383, 384, 385, 386, 387, 388, 389, 390, 391, 392, 393, 394, 395, 396, 397, 398, 399, 400, 401, 402, 403, 404, 405, 406, 407, 408, 409, 410, 411, 412, 413, 414, 415, 416, 417, 418, 419, 420, 421, 422, 423, 424, 425, 426, 427, 428, 429, 430, 431, 432, 433, 434, 435, 436, 437, 438, 439, 440, 441, 442, 443, 444, 445, 446, 447, 448, 449, 450, 451, 452, 453, 454, 455, 456, 457, 458, 459, 460, 461, 462, 463, 464, 465, 466, 467, 468, 469, 470, 471, 472, 473, 474, 475, 476, 477, 478, 479, 480, 481, 482, 483, 484, 485, 486, 487, 488, 489, 490, 491, 492, 493, 494, 495, 496, 497, 498, 499, 500, 501, 502, 503, 504, 505, 507, 508, 509, 510, 511, 512, 513, 514, 515, 516, 517, 518, 519, 520, 521, 522, 523, 524, 525, 526, 527, 528, 529, 530, 531, 532, 533, 534, 535, 536, 537, 538, 539, 540, 541, 542, 543, 544, 545, 546, 547, 548, 549, 550, 551, 552, 553, 554, 555, 556, 557, 558, 559, 560, 561, 562, 563, 564, 565, 566, 567, 568, 569, 570, 571, 572, 573, 574, 575, 576, 577, 578, 579, 580, 581, 582, 583, 584, 585, 586, 587, 588, 589, 590, 591, 592, 593, 594, 595, 596, 597, 598, 599, 600, 601, 602, 603, 604, 605, 606, 607, 608, 609, 610, 611, 612, 613, 614, 615, 616, 617, 618, 619, 620, 621, 622, 623, 624, 625, 626, 627, 628, 629, 630, 631, 632, 633, 634, 635, 636, 637, 638, 639, 640, 641, 642, 643, 644, 645, 646, 647, 648, 649, 650, 651, 652, 653, 654, 655, 656, 657, 658, 659, 660, 661, 662, 663, 664, 665, 666, 667, 668, 669, 670, 671, 672, 673, 674, 675, 676, 677, 678, 679, 680, 681, 682, 683, 684, 685, 686, 687, 688, 689, 690, 691, 692, 693, 694, 695, 696, 697, 698, 699, 700, 701, 702, 703, 704, 705, 706, 707, 708, 709, 710, 711, 712, 713, 714, 715, 716, 717, 718, 719, 720, 721, 722, 723, 724, 725, 726, 727, 728, 729, 730, 731, 732, 733, 734, 735, 736, 737, 738, 739, 740, 741, 742, 743, 744, 745, 746, 747, 748, 749, 750, 751, 752, 753, 754, 755, 756, 757, 758, 759, 760, 761, 762, 763, 764, 765, 766, 767, 768, 769, 770, 771, 772, 773, 774, 775, 776, 777, 778, 779, 780, 781, 782, 783, 784, 785, 786, 787, 788, 789, 790, 791, 792, 793, 794, 795, 796, 797, 798, 799, 800, 801, 802, 803, 804, 805, 806, 807, 808, 809, 810, 811, 812, 813, 814, 815, 816, 817, 818, 819, 820, 821, 822, 823, 824, 825, 826, 827, 828, 829, 830, 831, 832, 833, 834, 835, 836, 837, 838, 839, 840, 841, 842, 843, 844, 845, 846, 847, 848, 849, 850, 851, 852, 853, 854, 855, 856, 857, 858, 859, 860, 861, 862, 863, 864, 865, 866, 867, 868, 869, 870, 871, 872, 873, 874, 875, 876, 877, 878, 879, 880, 881, 882, 883, 884, 885, 886, 887, 888, 889, 890, 891, 892, 893, 894, 895, 896, 897, 898, 899, 900, 901, 902, 903, 904, 905, 906, 907, 908, 909, 910, 911, 912, 913, 914, 915, 916, 917, 918, 919, 920, 921, 922, 923, 924, 925, 926, 927, 928, 929, 930, 931, 932, 933, 934, 935, 936, 937, 938, 939, 940, 941, 942, 943, 944, 945, 946, 947, 948, 949, 950, 951, 952, 953, 954, 955, 956, 957, 958, 959, 960, 961, 962, 963, 964, 965, 966, 967, 968, 969, 970, 971, 972, 973, 974, 975, 976, 977, 978, 979, 980, 981, 982, 983, 984, 985, 986, 987, 988, 989, 990, 991, 992, 993, 994, 995, 996, 997, 998, 999, 1000, 1001, 1002, 1003, 1004, 1005, 1006, 1008, 1009, 1010, 1011, 1012, 1013, 1014, 1015, 1016, 1018, 1019, 1020, 1021, 1022, 1023, 1024, 1025, 1026, 1027, 1028, 1029, 1030, 1031, 1032, 1033, 1034, 1035, 1036, 1037, 1038, 1039, 1040, 1041, 1042, 1043, 1044, 1045, 1046, 1047, 1048, 1049, 1050, 1051, 1052, 1053, 1054, 1055, 1056, 1057, 1058, 1059, 1060, 1061, 1062, 1063, 1064, 1065, 1066, 1067, 1068, 1069, 1070, 1071, 1072, 1073, 1074, 1075, 1076, 1077, 1078, 1079, 1080, 1081, 1082, 1083, 1084, 1085, 1086, 1087, 1088, 1089, 1090, 1091, 1092, 1093, 1094, 1095, 1096, 1097, 1098, 1099, 1100, 1102, 1103, 1104, 1105, 1106, 1107, 1108, 1109, 1110, 1111, 1112, 1113, 1114, 1115, 1116, 1117, 1118, 1119, 1120, 1121, 1122, 1123, 1124, 1125, 1126, 1127, 1128, 1129, 1130, 1131, 1132, 1133, 1134, 1135, 1136, 1137, 1138, 1139, 1140, 1141, 1142, 1143, 1144, 1145, 1146, 1147, 1148, 1149, 1150, 1151, 1152, 1153, 1154, 1155, 1156, 1157, 1158, 1159, 1160, 1161, 1162, 1163, 1164, 1165, 1166, 1167, 1168, 1169, 1170, 1171, 1172, 1173, 1174, 1175, 1176, 1177, 1178, 1179, 1180, 1181, 1182, 1183, 1184, 1185, 1186, 1187, 1188, 1189, 1190, 1191, 1192, 1193, 1194, 1195, 1196, 1197, 1198, 1199, 1200, 1201, 1202, 1203, 1204, 1205, 1206, 1207, 1208, 1209, 1210, 1211, 1212, 1213, 1214, 1215, 1216, 1217, 1218, 1219, 1220, 1221, 1222, 1223, 1224, 1225, 1226, 1227, 1228, 1229, 1230, 1231, 1232, 1233, 1234, 1235, 1236, 1237, 1238, 1239, 1240, 1241, 1242, 1243, 1244, 1245, 1246, 1247, 1248, 1249, 1250, 1251, 1252, 1253, 1254, 1255, 1256, 1257, 1258, 1259, 1260, 1261, 1262, 1263, 1264, 1265, 1266, 1267, 1268, 1269, 1270, 1271, 1272, 1273, 1274, 1275, 1276, 1277, 1278, 1279, 1280, 1281, 1282, 1283, 1284, 1285, 1286, 1287, 1288, 1289, 1290, 1291, 1292, 1293, 1294, 1295, 1296, 1297, 1298, 1299, 1300, 1301, 1302, 1303, 1304, 1305, 1306, 1307, 1308, 1309, 1310, 1311, 1312, 1313, 1314, 1315, 1316, 1317, 1318, 1319, 1320, 1321, 1322, 1323, 1324, 1325, 1326, 1327, 1328, 1329, 1330, 1331, 1332, 1333, 1334, 1335, 1336, 1337, 1338, 1339, 1340, 1341, 1342, 1343, 1344, 1345, 1346, 1347, 1348, 1349, 1350, 1351, 1352, 1353, 1354, 1355, 1356, 1357, 1358, 1359, 1360, 1361, 1362, 1363, 1364, 1365, 1366, 1367, 1368, 1369, 1370, 1371, 1372, 1373, 1374, 1375, 1376, 1377, 1378, 1379, 1380, 1381, 1382, 1383, 1384, 1385, 1386, 1387, 1388, 1389, 1390, 1391, 1392, 1393, 1394, 1395, 1396, 1397, 1398, 1399, 1400, 1401, 1402, 1403, 1404, 1405, 1406, 1407, 1408, 1409, 1410, 1411, 1412, 1413, 1414, 1415, 1416, 1417, 1418, 1419, 1420, 1421, 1422, 1423, 1424, 1425, 1426, 1427, 1428, 1429, 1430, 1431, 1432, 1433, 1434, 1435, 1436, 1437, 1438, 1439, 1440, 1441, 1442, 1443, 1444, 1445, 1446, 1447, 1448, 1449, 1450, 1451, 1452, 1453, 1454, 1455, 1456, 1457, 1458, 1459, 1460, 1461, 1462, 1463, 1464, 1465, 1466, 1467, 1468, 1469, 1470, 1471, 1472, 1473, 1474, 1475, 1476, 1477, 1478, 1479, 1480, 1481, 1482, 1483, 1484, 1485, 1486, 1487, 1488, 1489, 1490, 1491, 1492, 1493, 1494, 1495, 1496, 1497, 1498, 1499, 1500, 1501, 1502, 1503, 1504, 1505, 1506, 1507, 1508, 1509, 1510, 1511, 1512, 1513, 1514, 1515, 1516, 1517, 1518, 1519, 1520, 1521, 1522, 1523, 1524, 1525, 1526, 1527, 1528, 1529, 1530, 1531, 1532, 1533, 1534, 1535, 1536, 1537, 1538, 1539, 1540, 1541, 1542, 1543, 1544, 1545, 1546, 1547, 1548, 1549, 1550, 1551, 1552, 1553, 1555, 1556, 1558, 1559, 1560, 1561, 1562, 1563, 1564, 1565, 1566, 1567, 1570, 1571, 1572, 1573, 1574, 1576, 1577, 1578, 1579, 1581, 1582, 1583, 1584, 1585, 1586, 1587, 1588, 1589, 1590, 1591, 1592, 1593, 1594, 1595, 1596, 1597, 1598, 1599, 1600, 1601, 1602, 1604, 1605, 1606, 1607, 1608, 1609, 1610, 1611, 1612, 1613, 1614, 1615, 1616, 1617, 1618, 1619, 1620, 1621, 1622, 1623, 1624, 1625, 1626, 1627, 1628, 1629, 1630, 1631, 1632, 1633, 1634, 1635, 1636, 1637, 1638, 1639, 1640, 1641, 1642, 1643, 1644, 1645, 1646, 1647, 1648, 1649, 1650, 1651, 1652, 1653, 1654, 1655, 1656, 1657, 1658, 1659, 1660, 1661, 1662, 1663, 1664, 1665, 1666, 1667, 1668, 1669, 1670, 1671, 1672, 1673, 1674, 1675, 1676, 1677, 1678, 1679, 1680, 1681, 1682, 1683, 1684, 1685, 1686, 1687, 1688, 1689, 1690, 1691, 1692, 1693, 1694, 1695, 1696, 1697, 1698, 1699, 1700, 1701, 1702, 1703, 1704, 1705, 1706, 1707, 1708, 1709, 1710, 1711, 1712, 1713, 1714, 1715, 1716, 1717, 1718, 1719, 1721, 1722, 1723, 1724, 1725, 1726, 1727, 1728, 1729, 1730, 1731, 1732, 1733, 1734, 1735, 1736, 1737, 1738, 1739, 1740, 1741, 1742, 1743, 1744, 1745, 1746, 1747, 1748, 1749, 1750, 1751, 1752, 1753, 1754, 1755, 1756, 1757, 1758, 1759, 1760, 1761, 1762, 1763, 1764, 1765, 1766, 1767, 1768, 1769, 1770, 1771, 1772, 1773, 1774, 1775, 1776, 1777, 1778, 1779, 1780, 1781, 1782, 1783, 1784, 1785, 1786, 1787, 1788, 1789, 1790, 1791, 1792, 1793, 1794, 1795, 1796, 1797, 1798, 1799, 1800, 1801, 1802, 1803, 1804, 1805, 1806, 1807, 1808, 1809, 1810, 1811, 1812, 1813, 1814, 1815, 1816, 1817, 1818, 1819, 1820, 1821, 1822, 1823, 1824, 1825, 1826, 1827, 1828, 1829, 1830, 1831, 1832, 1833, 1834, 1835, 1836, 1837, 1838, 1839, 1840, 1841, 1842, 1843, 1844, 1845, 1846, 1847, 1848, 1849, 1850, 1851, 1852, 1853, 1854, 1855, 1856, 1857, 1858, 1859, 1860, 1861, 1862, 1863, 1864, 1865, 1866, 1867, 1868, 1869, 1870, 1871, 1872, 1873, 1874, 1875, 1876, 1877, 1878, 1879, 1880, 1881, 1882, 1883, 1884, 1885, 1886, 1887, 1888, 1889, 1890, 1891, 1892, 1893, 1894, 1895, 1896, 1897, 1898, 1899, 1900, 1901, 1902, 1903, 1904, 1905, 1906, 1907, 1908, 1909, 1910, 1911, 1912, 1913, 1914, 1915, 1916, 1917, 1918, 1919, 1920, 1921, 1922, 1923, 1924, 1925, 1926, 1927, 1928, 1929, 1930, 1931, 1932, 1933, 1934, 1935, 1936, 1937, 1938, 1939, 1940, 1941, 1942, 1943, 1944, 1945, 1946, 1947, 1948, 1949, 1950, 1951, 1952, 1953, 1954, 1955, 1956, 1957, 1958, 1959, 1960, 1961, 1962, 1963, 1964, 1965, 1966, 1967, 1968, 1969, 1970, 1971, 1972, 1973, 1974, 1975, 1976, 1977, 1978, 1979, 1980, 1981, 1982, 1983, 1984, 1985, 1986, 1987, 1988, 1989, 1990, 1991, 1992, 1993, 1994, 1995, 1996, 1997, 1998, 1999, 2000, 2001, 2002, 2003, 2004, 2005, 2006, 2007, 2008, 2009, 2010, 2011, 2012, 2013, 2014, 2015, 2016, 2017, 2018, 2019, 2020, 2021, 2022, 2023, 2024, 2025, 2026, 2027, 2028, 2029, 2030, 2031, 2032, 2033, 2034, 2035, 2036, 2037, 2038, 2039, 2040, 2041, 2042, 2043, 2044, 2045, 2046, 2047, 2048, 2049, 2050, 2051, 2052, 2053, 2054, 2055, 2056, 2057, 2058, 2059, 2060, 2061, 2062, 2063, 2064, 2065, 2066, 2067, 2068, 2069, 2070, 2071, 2072, 2073, 2074, 2075, 2076, 2077, 2078, 2079, 2080, 2081, 2082, 2083, 2084, 2085, 2086, 2087, 2088, 2089, 2090, 2091, 2092, 2093, 2094, 2095, 2096, 2097, 2098, 2099, 2100, 2102, 2104, 2105, 2106, 2107, 2108, 2110, 2111, 2112, 2113, 2114, 2115, 2116, 2117, 2118, 2119, 2120, 2121, 2122, 2123, 2124, 2125, 2126, 2127, 2128, 2129, 2130, 2131, 2132, 2133, 2134, 2135, 2136, 2137, 2138, 2139, 2140, 2141, 2142, 2143, 2144, 2145, 2146, 2147, 2148, 2150, 2151, 2152, 2153, 2154, 2155, 2156, 2157, 2158, 2159, 2160, 2161, 2162, 2163, 2164, 2165, 2166, 2167, 2168, 2169, 2170, 2171, 2172, 2173, 2174, 2175, 2176, 2177, 2178, 2179, 2180, 2181, 2182, 2183, 2184, 2185, 2186, 2187, 2188, 2189, 2190, 2191, 2192, 2193, 2194, 2195, 2196, 2197, 2198, 2199, 2200, 2201, 2202, 2203, 2204, 2205, 2206, 2207, 2208, 2209, 2210, 2211, 2212, 2213, 2214, 2215, 2216, 2217, 2218, 2219, 2220, 2221, 2222, 2223, 2224, 2225, 2226, 2227, 2228, 2229, 2230, 2231, 2232, 2233, 2234, 2235, 2236, 2237, 2238, 2239, 2240, 2241, 2242, 2243, 2244, 2245, 2246, 2247, 2248, 2249, 2250, 2251, 2252, 2253, 2254, 2255, 2256, 2257, 2258, 2259, 2260, 2261, 2262, 2263, 2264, 2265, 2266, 2267, 2268, 2269, 2270, 2271, 2272, 2273, 2274, 2275, 2276, 2277, 2278, 2279, 2280, 2281, 2282, 2283, 2284, 2285, 2286, 2287, 2288, 2289, 2290, 2291, 2292, 2293, 2294, 2295, 2296, 2297, 2298, 2299, 2300, 2301, 2302, 2303, 2304, 2305, 2306, 2307, 2308, 2309, 2310, 2311, 2312, 2313, 2314, 2315, 2316, 2317, 2318, 2319, 2320, 2321, 2322, 2323, 2324, 2325, 2326, 2327, 2328, 2329, 2330, 2331, 2332, 2333, 2334, 2335, 2336, 2337, 2338, 2339, 2340, 2341, 2342, 2343, 2344, 2345, 2346, 2347, 2348, 2349, 2350, 2351, 2352, 2353, 2354, 2355, 2356, 2357, 2358, 2359, 2360, 2361, 2362, 2363, 2364, 2365, 2366, 2367, 2368, 2369, 2370, 2371, 2372, 2373, 2374, 2375, 2376, 2377, 2378, 2379, 2380, 2381, 2382, 2383, 2384, 2385, 2386, 2387, 2388, 2389, 2390, 2391, 2392, 2393, 2394, 2395, 2396, 2397, 2398, 2399, 2400, 2401, 2402, 2403, 2404, 2405, 2406, 2407, 2408, 2409, 2410, 2411, 2412, 2413, 2414, 2415, 2416, 2417, 2418, 2419, 2420, 2421, 2422, 2423, 2424, 2425, 2426, 2427, 2428, 2429, 2430, 2431, 2432, 2433, 2434, 2435, 2436, 2437, 2438, 2439, 2440, 2441, 2442, 2443, 2444, 2445, 2446, 2447, 2448, 2449, 2450, 2451, 2452, 2453, 2454, 2455, 2456, 2457, 2458, 2459, 2460, 2461, 2462, 2463, 2464, 2465, 2466, 2467, 2468, 2469, 2470, 2471, 2472, 2473, 2474, 2475, 2476, 2477, 2478, 2479, 2480, 2481, 2482, 2483, 2484, 2485, 2486, 2487, 2488, 2489, 2490, 2491, 2492, 2493, 2494, 2495, 2496, 2497, 2498, 2499, 2500, 2501, 2502, 2503, 2504, 2505, 2506, 2507, 2508, 2509, 2510, 2511, 2512, 2513, 2514, 2515, 2516, 2517, 2518, 2519, 2520, 2521, 2522, 2523, 2524, 2525, 2526, 2527, 2528, 2529, 2530, 2531, 2532, 2533, 2534, 2535, 2536, 2537, 2538, 2539, 2540, 2541, 2542, 2543, 2544, 2545, 2546, 2547, 2548, 2549, 2550, 2551, 2552, 2553, 2554, 2555, 2556, 2557, 2558, 2559, 2561, 2562, 2563, 2564, 2566, 2567, 2569, 2570, 2571, 2572, 2573, 2574, 2575, 2576, 2577, 2578, 2579, 2580, 2581, 2582, 2583, 2584, 2585, 2586, 2587, 2588, 2589, 2590, 2591, 2592, 2593, 2594, 2595, 2596, 2597, 2598, 2599, 2600, 2601, 2602, 2603, 2604, 2605, 2606, 2607, 2608, 2609, 2610, 2611, 2612, 2613, 2614, 2615, 2616, 2617, 2618, 2619, 2620, 2621, 2622, 2623, 2624, 2625, 2626, 2627, 2628, 2629, 2630, 2631, 2632, 2633, 2634, 2635, 2636, 2637, 2638, 2639, 2640, 2641, 2642, 2643, 2644, 2645, 2646, 2647, 2648, 2649, 2650, 2651, 2652, 2653, 2654, 2655, 2656, 2657, 2658, 2659, 2660, 2661, 2662, 2663, 2664, 2665, 2666, 2667, 2668, 2669, 2670, 2671, 2672, 2673, 2674, 2675, 2676, 2677, 2678, 2679, 2680, 2681, 2682, 2683, 2684, 2685, 2686, 2687, 2688, 2689, 2690, 2691, 2692, 2693, 2694, 2695, 2696, 2697, 2698, 2699, 2700, 2701, 2702, 2703, 2704, 2705, 2706, 2707, 2708, 2709, 2710, 2711, 2712, 2713, 2714, 2715, 2716, 2717, 2718, 2719, 2720, 2721, 2722, 2723, 2724, 2725, 2726, 2727, 2728, 2729, 2730, 2731, 2732, 2733, 2734, 2735, 2736, 2737, 2738, 2739, 2740, 2741, 2742, 2743, 2744, 2745, 2746, 2747, 2748, 2749, 2750, 2751, 2752, 2753, 2754, 2755, 2756, 2757, 2758, 2759, 2760, 2761, 2762, 2763, 2764, 2765, 2766, 2767, 2768, 2769, 2770, 2771, 2772, 2773, 2774, 2775, 2776, 2777, 2778, 2779, 2780, 2781, 2782, 2783, 2784, 2785, 2786, 2787, 2788, 2789, 2790, 2791, 2792, 2793, 2794, 2795, 2796, 2797, 2798, 2799, 2800, 2801, 2802, 2803, 2804, 2805, 2806, 2807, 2808, 2809, 2810, 2811, 2812, 2813, 2814, 2815, 2816, 2817, 2818, 2819, 2820, 2821, 2822, 2823, 2824, 2825, 2826, 2827, 2828, 2829, 2830, 2831, 2832, 2833, 2834, 2835, 2836, 2837, 2838, 2839, 2840, 2841, 2842, 2843, 2844, 2845, 2846, 2847, 2848, 2849, 2850, 2851, 2852, 2853, 2854, 2855, 2856, 2857, 2858, 2859, 2860, 2861, 2862, 2863, 2864, 2865, 2866, 2867, 2868, 2869, 2870, 2871, 2872, 2873, 2874, 2875, 2876, 2877, 2878, 2879, 2880, 2881, 2882, 2883, 2884, 2885, 2886, 2887, 2888, 2889, 2890, 2891, 2892, 2893, 2894, 2895, 2896, 2897, 2898, 2899, 2900, 2901, 2902, 2903, 2904, 2905, 2906, 2907, 2908, 2909, 2910, 2911, 2912, 2913, 2914, 2915, 2916, 2917, 2918, 2919, 2920, 2921, 2922, 2923, 2924, 2925, 2926, 2927, 2928, 2929, 2930, 2931, 2932, 2933, 2934, 2935, 2936, 2937, 2938, 2939, 2940, 2941, 2942, 2943, 2944, 2945, 2946, 2947, 2948, 2949, 2950, 2951, 2952, 2953, 2954, 2955, 2956, 2957, 2958, 2959, 2960, 2961, 2962, 2963, 2964, 2965, 2966, 2967, 2968, 2969, 2970, 2972, 2975, 2976, 2977, 2978, 2979, 2980, 2981, 2982, 2983, 2984, 2985, 2986, 2988, 2989, 2990, 2991, 2992, 2993, 2994, 2995, 2996, 2997, 2998, 2999, 3000, 3001, 3002, 3003, 3004, 3005, 3007, 3008, 3009, 3010, 3011, 3012, 3013, 3014, 3015, 3016, 3017, 3018, 3019, 3020, 3021, 3022, 3023, 3024, 3026, 3027, 3028, 3029, 3030, 3032, 3033, 3035, 3036, 3037, 3038, 3039, 3041, 3042, 3043, 3044, 3045, 3046, 3047, 3048, 3049, 3050, 3051, 3053, 3054, 3055, 3056, 3057, 3058, 3059, 3060, 3061, 3062, 3063, 3064, 3065, 3066, 3067, 3068, 3069, 3070, 3071, 3072, 3073, 3074, 3075, 3076, 3077, 3078, 3079, 3080, 3081, 3082, 3083, 3085, 3086, 3087, 3088, 3089, 3090, 3091, 3092, 3093, 3094, 3095, 3096, 3097, 3098, 3099, 3100, 3102, 3103, 3104, 3105, 3106, 3107, 3108, 3109, 3110, 3111, 3112, 3113, 3115, 3116, 3117, 3118, 3119, 3120, 3121, 3122, 3123, 3124, 3125, 3126, 3127, 3128, 3129, 3130, 3131, 3132, 3133, 3134, 3135, 3136, 3137, 3138, 3139, 3140, 3141, 3142, 3143, 3144, 3145, 3146, 3147, 3148, 3149, 3150, 3151, 3152, 3156, 3157, 3158, 3159, 3160, 3161, 3162, 3163, 3164, 3165, 3166, 3167, 3168, 3169, 3170, 3171, 3172, 3173, 3174, 3175, 3176, 3177, 3178, 3179, 3180, 3181, 3182, 3183, 3184, 3185, 3186, 3187, 3188, 3189, 3190, 3191, 3192, 3193, 3194, 3195, 3196, 3197, 3198, 3199, 3200, 3201, 3202, 3203, 3204, 3205, 3206, 3207, 3208, 3209, 3210, 3211, 3212, 3213, 3214, 3215, 3216, 3217, 3218, 3219, 3220, 3221, 3222, 3223, 3224, 3225, 3226, 3227, 3228, 3229, 3230, 3231, 3232, 3233, 3234, 3235, 3236, 3237, 3238, 3239, 3240, 3241, 3242, 3243, 3244, 3245, 3246, 3247, 3248, 3249, 3250, 3251, 3252, 3253, 3254, 3255, 3256, 3257, 3258, 3259, 3260, 3261, 3262, 3263, 3264, 3265, 3266, 3267, 3268, 3269, 3270, 3271, 3272, 3273, 3274, 3275, 3276, 3277, 3278, 3279, 3280, 3281, 3282, 3283, 3284, 3285, 3286, 3287, 3288, 3289, 3290, 3291, 3292, 3293, 3294, 3295, 3296, 3297, 3298, 3299, 3300, 3301, 3302, 3303, 3304, 3305, 3306, 3307, 3308, 3309, 3310, 3311, 3312, 3313, 3314, 3315, 3316, 3317, 3318, 3319, 3320, 3321, 3322, 3323, 3324, 3325, 3326, 3327, 3328, 3329, 3330, 3331, 3332, 3333, 3334, 3335, 3336, 3337, 3338, 3339, 3340, 3341, 3342, 3343, 3344, 3345, 3346, 3347, 3348, 3349, 3350, 3351, 3352, 3353, 3354, 3355, 3356, 3357, 3358, 3359, 3360, 3361, 3362, 3363, 3364, 3365, 3366, 3367, 3368, 3369, 3370, 3371, 3372, 3373, 3374, 3375, 3376, 3377, 3378, 3379, 3380, 3381, 3382, 3383, 3384, 3385, 3386, 3387, 3388, 3389, 3390, 3391, 3392, 3393, 3394, 3395, 3396, 3397, 3398, 3399, 3400, 3401, 3402, 3403, 3404, 3405, 3406, 3407, 3408, 3409, 3410, 3411, 3412, 3413, 3414, 3415, 3416, 3417, 3418, 3419, 3420, 3421, 3422, 3423, 3424, 3425, 3426, 3427, 3428, 3429, 3430, 3431, 3432, 3433, 3434, 3435, 3436, 3437, 3438, 3439, 3440, 3441, 3442, 3443, 3444, 3445, 3446, 3447, 3448, 3449, 3450, 3451, 3452, 3453, 3454, 3455, 3456, 3457, 3458, 3459, 3460, 3461, 3462, 3463, 3464, 3465, 3466, 3467, 3468, 3469, 3470, 3471, 3472, 3473, 3474, 3475, 3476, 3477, 3478, 3479, 3480, 3481, 3482, 3483, 3484, 3485, 3486, 3487, 3488, 3489, 3490, 3491, 3492, 3493, 3494, 3495, 3496, 3497, 3498, 3499, 3500, 3501, 3502, 3503, 3504, 3505, 3506, 3507, 3508, 3509, 3510, 3511, 3512, 3513, 3514, 3515, 3516, 3517, 3518, 3519, 3520, 3521, 3522, 3523, 3524, 3525, 3526, 3527, 3528, 3529, 3530, 3531, 3532, 3533, 3534, 3535, 3536, 3537, 3538, 3539, 3540, 3541, 3542, 3543, 3544, 3545, 3546, 3547, 3548, 3549, 3550, 3551, 3552, 3553, 3554, 3555, 3556, 3557, 3558, 3559, 3560, 3561, 3562, 3563, 3564, 3565, 3566, 3567, 3568, 3569, 3570, 3571, 3572, 3573, 3574, 3575, 3576, 3577, 3578, 3579, 3580, 3581, 3582, 3583, 3584, 3585, 3586, 3587, 3588, 3589, 3590, 3591, 3592, 3593, 3594, 3595, 3596, 3597, 3598, 3599, 3600, 3601, 3602, 3603, 3604, 3605, 3606, 3607, 3608, 3609, 3610, 3611, 3612, 3613, 3614, 3615, 3616, 3617, 3618, 3619, 3620, 3621, 3622, 3623, 3624, 3625, 3626, 3627, 3628, 3629, 3630, 3631, 3632, 3633, 3634, 3635, 3636, 3637, 3638, 3639, 3640, 3641, 3642, 3643, 3644, 3645, 3646, 3647, 3648, 3649, 3650, 3651, 3652, 3653, 3654, 3655, 3656, 3657, 3658, 3659, 3660, 3661, 3662, 3663, 3664, 3665, 3666, 3667, 3668, 3669, 3670, 3671, 3672, 3673, 3674, 3675, 3676, 3677, 3678, 3679, 3680, 3681, 3682, 3683, 3684, 3685, 3686, 3687, 3688, 3689, 3690, 3691, 3692, 3693, 3694, 3695, 3696, 3697, 3698, 3699, 3700, 3701, 3702, 3703, 3704, 3705, 3706, 3707, 3708, 3709, 3710, 3711, 3712, 3713, 3714, 3715, 3716, 3717, 3718, 3719, 3720, 3721, 3722, 3723, 3724, 3725, 3726, 3727, 3728, 3729, 3730, 3731, 3732, 3733, 3734, 3735, 3736, 3737, 3738, 3739, 3740, 3741, 3742, 3743, 3744, 3745, 3746, 3747, 3748, 3749, 3750, 3751, 3752, 3753, 3754, 3755, 3756, 3757, 3758, 3759, 3760, 3761, 3762, 3763, 3764, 3765, 3766, 3767, 3768, 3769, 3770, 3771, 3772, 3773, 3774, 3775, 3776, 3777, 3778, 3779, 3780, 3781, 3782, 3783, 3784, 3785, 3786, 3787, 3788, 3789]\n",
      "Non-string values: [nan, nan, nan, nan, nan, nan, nan, nan, nan, nan, nan, nan, nan, nan, nan, nan, nan, nan, nan, nan, nan, nan, nan, nan, nan, nan, nan, nan, nan, nan, nan, nan, nan, nan, nan, nan, nan, nan, nan, nan, nan, nan, nan, nan, nan, nan, nan, nan, nan, nan, nan, nan, nan, nan, nan, nan, nan, nan, nan, nan, nan, nan, nan, nan, nan, nan, nan, nan, nan, nan, nan, nan, nan, nan, nan, nan, nan, nan, nan, nan, nan, nan, nan, nan, nan, nan, nan, nan, nan, nan, nan, nan, nan, nan, nan, nan, nan, nan, nan, nan, nan, nan, nan, nan, nan, nan, nan, nan, nan, nan, nan, nan, nan, nan, nan, nan, nan, nan, nan, nan, nan, nan, nan, nan, nan, nan, nan, nan, nan, nan, nan, nan, nan, nan, nan, nan, nan, nan, nan, nan, nan, nan, nan, nan, nan, nan, nan, nan, nan, nan, nan, nan, nan, nan, nan, nan, nan, nan, nan, nan, nan, nan, nan, nan, nan, nan, nan, nan, nan, nan, nan, nan, nan, nan, nan, nan, nan, nan, nan, nan, nan, nan, nan, nan, nan, nan, nan, nan, nan, nan, nan, nan, nan, nan, nan, nan, nan, nan, nan, nan, nan, nan, nan, nan, nan, nan, nan, nan, nan, nan, nan, nan, nan, nan, nan, nan, nan, nan, nan, nan, nan, nan, nan, nan, nan, nan, nan, nan, nan, nan, nan, nan, nan, nan, nan, nan, nan, nan, nan, nan, nan, nan, nan, nan, nan, nan, nan, nan, nan, nan, nan, nan, nan, nan, nan, nan, nan, nan, nan, nan, nan, nan, nan, nan, nan, nan, nan, nan, nan, nan, nan, nan, nan, nan, nan, nan, nan, nan, nan, nan, nan, nan, nan, nan, nan, nan, nan, nan, nan, nan, nan, nan, nan, nan, nan, nan, nan, nan, nan, nan, nan, nan, nan, nan, nan, nan, nan, nan, nan, nan, nan, nan, nan, nan, nan, nan, nan, nan, nan, nan, nan, nan, nan, nan, nan, nan, nan, nan, nan, nan, nan, nan, nan, nan, nan, nan, nan, nan, nan, nan, nan, nan, nan, nan, nan, nan, nan, nan, nan, nan, nan, nan, nan, nan, nan, nan, nan, nan, nan, nan, nan, nan, nan, nan, nan, nan, nan, nan, nan, nan, nan, nan, nan, nan, nan, nan, nan, nan, nan, nan, nan, nan, nan, nan, nan, nan, nan, nan, nan, nan, nan, nan, nan, nan, nan, nan, nan, nan, nan, nan, nan, nan, nan, nan, nan, nan, nan, nan, nan, nan, nan, nan, nan, nan, nan, nan, nan, nan, nan, nan, nan, nan, nan, nan, nan, nan, nan, nan, nan, nan, nan, nan, nan, nan, nan, nan, nan, nan, nan, nan, nan, nan, nan, nan, nan, nan, nan, nan, nan, nan, nan, nan, nan, nan, nan, nan, nan, nan, nan, nan, nan, nan, nan, nan, nan, nan, nan, nan, nan, nan, nan, nan, nan, nan, nan, nan, nan, nan, nan, nan, nan, nan, nan, nan, nan, nan, nan, nan, nan, nan, nan, nan, nan, nan, nan, nan, nan, nan, nan, nan, nan, nan, nan, nan, nan, nan, nan, nan, nan, nan, nan, nan, nan, nan, nan, nan, nan, nan, nan, nan, nan, nan, nan, nan, nan, nan, nan, nan, nan, nan, nan, nan, nan, nan, nan, nan, nan, nan, nan, nan, nan, nan, nan, nan, nan, nan, nan, nan, nan, nan, nan, nan, nan, nan, nan, nan, nan, nan, nan, nan, nan, nan, nan, nan, nan, nan, nan, nan, nan, nan, nan, nan, nan, nan, nan, nan, nan, nan, nan, nan, nan, nan, nan, nan, nan, nan, nan, nan, nan, nan, nan, nan, nan, nan, nan, nan, nan, nan, nan, nan, nan, nan, nan, nan, nan, nan, nan, nan, nan, nan, nan, nan, nan, nan, nan, nan, nan, nan, nan, nan, nan, nan, nan, nan, nan, nan, nan, nan, nan, nan, nan, nan, nan, nan, nan, nan, nan, nan, nan, nan, nan, nan, nan, nan, nan, nan, nan, nan, nan, nan, nan, nan, nan, nan, nan, nan, nan, nan, nan, nan, nan, nan, nan, nan, nan, nan, nan, nan, nan, nan, nan, nan, nan, nan, nan, nan, nan, nan, nan, nan, nan, nan, nan, nan, nan, nan, nan, nan, nan, nan, nan, nan, nan, nan, nan, nan, nan, nan, nan, nan, nan, nan, nan, nan, nan, nan, nan, nan, nan, nan, nan, nan, nan, nan, nan, nan, nan, nan, nan, nan, nan, nan, nan, nan, nan, nan, nan, nan, nan, nan, nan, nan, nan, nan, nan, nan, nan, nan, nan, nan, nan, nan, nan, nan, nan, nan, nan, nan, nan, nan, nan, nan, nan, nan, nan, nan, nan, nan, nan, nan, nan, nan, nan, nan, nan, nan, nan, nan, nan, nan, nan, nan, nan, nan, nan, nan, nan, nan, nan, nan, nan, nan, nan, nan, nan, nan, nan, nan, nan, nan, nan, nan, nan, nan, nan, nan, nan, nan, nan, nan, nan, nan, nan, nan, nan, nan, nan, nan, nan, nan, nan, nan, nan, nan, nan, nan, nan, nan, nan, nan, nan, nan, nan, nan, nan, nan, nan, nan, nan, nan, nan, nan, nan, nan, nan, nan, nan, nan, nan, nan, nan, nan, nan, nan, nan, nan, nan, nan, nan, nan, nan, nan, nan, nan, nan, nan, nan, nan, nan, nan, nan, nan, nan, nan, nan, nan, nan, nan, nan, nan, nan, nan, nan, nan, nan, nan, nan, nan, nan, nan, nan, nan, nan, nan, nan, nan, nan, nan, nan, nan, nan, nan, nan, nan, nan, nan, nan, nan, nan, nan, nan, nan, nan, nan, nan, nan, nan, nan, nan, nan, nan, nan, nan, nan, nan, nan, nan, nan, nan, nan, nan, nan, nan, nan, nan, nan, nan, nan, nan, nan, nan, nan, nan, nan, nan, nan, nan, nan, nan, nan, nan, nan, nan, nan, nan, nan, nan, nan, nan, nan, nan, nan, nan, nan, nan, nan, nan, nan, nan, nan, nan, nan, nan, nan, nan, nan, nan, nan, nan, nan, nan, nan, nan, nan, nan, nan, nan, nan, nan, nan, nan, nan, nan, nan, nan, nan, nan, nan, nan, nan, nan, nan, nan, nan, nan, nan, nan, nan, nan, nan, nan, nan, nan, nan, nan, nan, nan, nan, nan, nan, nan, nan, nan, nan, nan, nan, nan, nan, nan, nan, nan, nan, nan, nan, nan, nan, nan, nan, nan, nan, nan, nan, nan, nan, nan, nan, nan, nan, nan, nan, nan, nan, nan, nan, nan, nan, nan, nan, nan, nan, nan, nan, nan, nan, nan, nan, nan, nan, nan, nan, nan, nan, nan, nan, nan, nan, nan, nan, nan, nan, nan, nan, nan, nan, nan, nan, nan, nan, nan, nan, nan, nan, nan, nan, nan, nan, nan, nan, nan, nan, nan, nan, nan, nan, nan, nan, nan, nan, nan, nan, nan, nan, nan, nan, nan, nan, nan, nan, nan, nan, nan, nan, nan, nan, nan, nan, nan, nan, nan, nan, nan, nan, nan, nan, nan, nan, nan, nan, nan, nan, nan, nan, nan, nan, nan, nan, nan, nan, nan, nan, nan, nan, nan, nan, nan, nan, nan, nan, nan, nan, nan, nan, nan, nan, nan, nan, nan, nan, nan, nan, nan, nan, nan, nan, nan, nan, nan, nan, nan, nan, nan, nan, nan, nan, nan, nan, nan, nan, nan, nan, nan, nan, nan, nan, nan, nan, nan, nan, nan, nan, nan, nan, nan, nan, nan, nan, nan, nan, nan, nan, nan, nan, nan, nan, nan, nan, nan, nan, nan, nan, nan, nan, nan, nan, nan, nan, nan, nan, nan, nan, nan, nan, nan, nan, nan, nan, nan, nan, nan, nan, nan, nan, nan, nan, nan, nan, nan, nan, nan, nan, nan, nan, nan, nan, nan, nan, nan, nan, nan, nan, nan, nan, nan, nan, nan, nan, nan, nan, nan, nan, nan, nan, nan, nan, nan, nan, nan, nan, nan, nan, nan, nan, nan, nan, nan, nan, nan, nan, nan, nan, nan, nan, nan, nan, nan, nan, nan, nan, nan, nan, nan, nan, nan, nan, nan, nan, nan, nan, nan, nan, nan, nan, nan, nan, nan, nan, nan, nan, nan, nan, nan, nan, nan, nan, nan, nan, nan, nan, nan, nan, nan, nan, nan, nan, nan, nan, nan, nan, nan, nan, nan, nan, nan, nan, nan, nan, nan, nan, nan, nan, nan, nan, nan, nan, nan, nan, nan, nan, nan, nan, nan, nan, nan, nan, nan, nan, nan, nan, nan, nan, nan, nan, nan, nan, nan, nan, nan, nan, nan, nan, nan, nan, nan, nan, nan, nan, nan, nan, nan, nan, nan, nan, nan, nan, nan, nan, nan, nan, nan, nan, nan, nan, nan, nan, nan, nan, nan, nan, nan, nan, nan, nan, nan, nan, nan, nan, nan, nan, nan, nan, nan, nan, nan, nan, nan, nan, nan, nan, nan, nan, nan, nan, nan, nan, nan, nan, nan, nan, nan, nan, nan, nan, nan, nan, nan, nan, nan, nan, nan, nan, nan, nan, nan, nan, nan, nan, nan, nan, nan, nan, nan, nan, nan, nan, nan, nan, nan, nan, nan, nan, nan, nan, nan, nan, nan, nan, nan, nan, nan, nan, nan, nan, nan, nan, nan, nan, nan, nan, nan, nan, nan, nan, nan, nan, nan, nan, nan, nan, nan, nan, nan, nan, nan, nan, nan, nan, nan, nan, nan, nan, nan, nan, nan, nan, nan, nan, nan, nan, nan, nan, nan, nan, nan, nan, nan, nan, nan, nan, nan, nan, nan, nan, nan, nan, nan, nan, nan, nan, nan, nan, nan, nan, nan, nan, nan, nan, nan, nan, nan, nan, nan, nan, nan, nan, nan, nan, nan, nan, nan, nan, nan, nan, nan, nan, nan, nan, nan, nan, nan, nan, nan, nan, nan, nan, nan, nan, nan, nan, nan, nan, nan, nan, nan, nan, nan, nan, nan, nan, nan, nan, nan, nan, nan, nan, nan, nan, nan, nan, nan, nan, nan, nan, nan, nan, nan, nan, nan, nan, nan, nan, nan, nan, nan, nan, nan, nan, nan, nan, nan, nan, nan, nan, nan, nan, nan, nan, nan, nan, nan, nan, nan, nan, nan, nan, nan, nan, nan, nan, nan, nan, nan, nan, nan, nan, nan, nan, nan, nan, nan, nan, nan, nan, nan, nan, nan, nan, nan, nan, nan, nan, nan, nan, nan, nan, nan, nan, nan, nan, nan, nan, nan, nan, nan, nan, nan, nan, nan, nan, nan, nan, nan, nan, nan, nan, nan, nan, nan, nan, nan, nan, nan, nan, nan, nan, nan, nan, nan, nan, nan, nan, nan, nan, nan, nan, nan, nan, nan, nan, nan, nan, nan, nan, nan, nan, nan, nan, nan, nan, nan, nan, nan, nan, nan, nan, nan, nan, nan, nan, nan, nan, nan, nan, nan, nan, nan, nan, nan, nan, nan, nan, nan, nan, nan, nan, nan, nan, nan, nan, nan, nan, nan, nan, nan, nan, nan, nan, nan, nan, nan, nan, nan, nan, nan, nan, nan, nan, nan, nan, nan, nan, nan, nan, nan, nan, nan, nan, nan, nan, nan, nan, nan, nan, nan, nan, nan, nan, nan, nan, nan, nan, nan, nan, nan, nan, nan, nan, nan, nan, nan, nan, nan, nan, nan, nan, nan, nan, nan, nan, nan, nan, nan, nan, nan, nan, nan, nan, nan, nan, nan, nan, nan, nan, nan, nan, nan, nan, nan, nan, nan, nan, nan, nan, nan, nan, nan, nan, nan, nan, nan, nan, nan, nan, nan, nan, nan, nan, nan, nan, nan, nan, nan, nan, nan, nan, nan, nan, nan, nan, nan, nan, nan, nan, nan, nan, nan, nan, nan, nan, nan, nan, nan, nan, nan, nan, nan, nan, nan, nan, nan, nan, nan, nan, nan, nan, nan, nan, nan, nan, nan, nan, nan, nan, nan, nan, nan, nan, nan, nan, nan, nan, nan, nan, nan, nan, nan, nan, nan, nan, nan, nan, nan, nan, nan, nan, nan, nan, nan, nan, nan, nan, nan, nan, nan, nan, nan, nan, nan, nan, nan, nan, nan, nan, nan, nan, nan, nan, nan, nan, nan, nan, nan, nan, nan, nan, nan, nan, nan, nan, nan, nan, nan, nan, nan, nan, nan, nan, nan, nan, nan, nan, nan, nan, nan, nan, nan, nan, nan, nan, nan, nan, nan, nan, nan, nan, nan, nan, nan, nan, nan, nan, nan, nan, nan, nan, nan, nan, nan, nan, nan, nan, nan, nan, nan, nan, nan, nan, nan, nan, nan, nan, nan, nan, nan, nan, nan, nan, nan, nan, nan, nan, nan, nan, nan, nan, nan, nan, nan, nan, nan, nan, nan, nan, nan, nan, nan, nan, nan, nan, nan, nan, nan, nan, nan, nan, nan, nan, nan, nan, nan, nan, nan, nan, nan, nan, nan, nan, nan, nan, nan, nan, nan, nan, nan, nan, nan, nan, nan, nan, nan, nan, nan, nan, nan, nan, nan, nan, nan, nan, nan, nan, nan, nan, nan, nan, nan, nan, nan, nan, nan, nan, nan, nan, nan, nan, nan, nan, nan, nan, nan, nan, nan, nan, nan, nan, nan, nan, nan, nan, nan, nan, nan, nan, nan, nan, nan, nan, nan, nan, nan, nan, nan, nan, nan, nan, nan, nan, nan, nan, nan, nan, nan, nan, nan, nan, nan, nan, nan, nan, nan, nan, nan, nan, nan, nan, nan, nan, nan, nan, nan, nan, nan, nan, nan, nan, nan, nan, nan, nan, nan, nan, nan, nan, nan, nan, nan, nan, nan, nan, nan, nan, nan, nan, nan, nan, nan, nan, nan, nan, nan, nan, nan, nan, nan, nan, nan, nan, nan, nan, nan, nan, nan, nan, nan, nan, nan, nan, nan, nan, nan, nan, nan, nan, nan, nan, nan, nan, nan, nan, nan, nan, nan, nan, nan, nan, nan, nan, nan, nan, nan, nan, nan, nan, nan, nan, nan, nan, nan, nan, nan, nan, nan, nan, nan, nan, nan, nan, nan, nan, nan, nan, nan, nan, nan, nan, nan, nan, nan, nan, nan, nan, nan, nan, nan, nan, nan, nan, nan, nan, nan, nan, nan, nan, nan, nan, nan, nan, nan, nan, nan, nan, nan, nan, nan, nan, nan, nan, nan, nan, nan, nan, nan, nan, nan, nan, nan, nan, nan, nan, nan, nan, nan, nan, nan, nan, nan, nan, nan, nan, nan, nan, nan, nan, nan, nan, nan, nan, nan, nan, nan, nan, nan, nan, nan, nan, nan, nan, nan, nan, nan, nan, nan, nan, nan, nan, nan, nan, nan, nan, nan, nan, nan, nan, nan, nan, nan, nan, nan, nan, nan, nan, nan, nan, nan, nan, nan, nan, nan, nan, nan, nan, nan, nan, nan, nan, nan, nan, nan, nan, nan, nan, nan, nan, nan, nan, nan, nan, nan, nan, nan, nan, nan, nan, nan, nan, nan, nan, nan, nan, nan, nan, nan, nan, nan, nan, nan, nan, nan, nan, nan, nan, nan, nan, nan, nan, nan, nan, nan, nan, nan, nan, nan, nan, nan, nan, nan, nan, nan, nan, nan, nan, nan, nan, nan, nan, nan, nan, nan, nan, nan, nan, nan, nan, nan, nan, nan, nan, nan, nan, nan, nan, nan, nan, nan, nan, nan, nan, nan, nan, nan, nan, nan, nan, nan, nan, nan, nan, nan, nan, nan, nan, nan, nan, nan, nan, nan, nan, nan, nan, nan, nan, nan, nan, nan, nan, nan, nan, nan, nan, nan, nan, nan, nan, nan, nan, nan, nan, nan, nan, nan, nan, nan, nan, nan, nan, nan, nan, nan, nan, nan, nan, nan, nan, nan, nan, nan, nan, nan, nan, nan, nan, nan, nan, nan, nan, nan, nan, nan, nan, nan, nan, nan, nan, nan, nan, nan, nan, nan, nan, nan, nan, nan, nan, nan, nan, nan, nan, nan, nan, nan, nan, nan, nan, nan, nan, nan, nan, nan, nan, nan, nan, nan, nan, nan, nan, nan, nan, nan, nan, nan, nan, nan, nan, nan, nan, nan, nan, nan, nan, nan, nan, nan, nan, nan, nan, nan, nan, nan, nan, nan, nan, nan, nan, nan, nan, nan, nan, nan, nan, nan, nan, nan, nan, nan, nan, nan, nan, nan, nan, nan, nan, nan, nan, nan, nan, nan, nan, nan, nan, nan, nan, nan, nan, nan, nan, nan, nan, nan, nan, nan, nan, nan, nan, nan, nan, nan, nan, nan, nan, nan, nan, nan, nan, nan, nan, nan, nan, nan, nan, nan, nan, nan, nan, nan, nan, nan, nan, nan, nan, nan, nan, nan, nan, nan, nan, nan, nan, nan, nan, nan, nan, nan, nan, nan, nan, nan, nan, nan, nan, nan, nan, nan, nan, nan, nan, nan, nan, nan, nan, nan, nan, nan, nan, nan, nan, nan, nan, nan, nan, nan, nan, nan, nan, nan, nan, nan, nan, nan, nan, nan, nan, nan, nan, nan, nan, nan, nan, nan, nan, nan, nan, nan, nan, nan, nan, nan, nan, nan, nan, nan, nan, nan, nan, nan, nan, nan, nan, nan, nan, nan, nan, nan, nan, nan, nan, nan, nan, nan, nan, nan, nan, nan, nan, nan, nan, nan, nan, nan, nan, nan, nan, nan, nan, nan, nan, nan, nan, nan, nan, nan, nan, nan, nan, nan, nan, nan, nan, nan, nan, nan, nan, nan, nan, nan, nan, nan, nan, nan, nan, nan, nan, nan, nan, nan, nan, nan, nan, nan, nan, nan, nan, nan, nan, nan, nan, nan, nan, nan, nan, nan, nan, nan, nan, nan, nan, nan, nan, nan, nan, nan, nan, nan, nan, nan, nan, nan, nan, nan, nan, nan, nan, nan, nan, nan, nan, nan, nan, nan, nan, nan, nan, nan, nan, nan, nan, nan, nan, nan, nan, nan, nan, nan, nan, nan, nan, nan, nan, nan, nan, nan, nan, nan, nan, nan, nan, nan, nan, nan, nan, nan, nan, nan, nan, nan, nan, nan, nan, nan, nan, nan, nan, nan, nan, nan, nan, nan, nan, nan, nan, nan, nan, nan, nan, nan, nan, nan, nan, nan, nan, nan, nan, nan, nan, nan, nan, nan, nan, nan, nan, nan, nan, nan, nan, nan, nan, nan, nan, nan, nan, nan, nan, nan, nan, nan, nan, nan, nan, nan, nan, nan, nan, nan, nan, nan, nan, nan, nan, nan, nan, nan, nan, nan, nan, nan, nan, nan, nan, nan, nan, nan, nan, nan, nan, nan, nan, nan, nan, nan, nan, nan, nan, nan, nan, nan, nan, nan, nan, nan, nan, nan, nan, nan, nan, nan, nan, nan, nan, nan, nan, nan, nan, nan, nan, nan, nan, nan, nan, nan, nan, nan, nan, nan, nan, nan, nan, nan, nan, nan, nan, nan, nan, nan, nan, nan, nan, nan, nan, nan, nan, nan, nan, nan, nan, nan, nan, nan, nan, nan, nan, nan, nan, nan, nan, nan, nan, nan, nan, nan, nan, nan, nan, nan, nan, nan, nan, nan, nan, nan, nan, nan, nan, nan, nan, nan, nan, nan, nan, nan, nan, nan, nan, nan, nan, nan, nan, nan, nan, nan, nan, nan, nan, nan, nan, nan, nan, nan, nan, nan, nan, nan, nan, nan, nan, nan, nan, nan, nan, nan, nan, nan, nan, nan, nan, nan, nan, nan, nan, nan, nan, nan, nan, nan, nan, nan, nan, nan, nan, nan, nan, nan, nan, nan, nan, nan, nan, nan, nan, nan, nan, nan, nan, nan, nan, nan, nan, nan, nan, nan, nan, nan, nan, nan, nan, nan, nan, nan, nan, nan, nan, nan, nan, nan, nan, nan, nan, nan, nan, nan, nan, nan, nan, nan, nan, nan, nan, nan, nan, nan, nan, nan, nan, nan, nan, nan, nan, nan, nan, nan, nan, nan, nan, nan, nan, nan, nan, nan, nan, nan, nan, nan, nan, nan, nan, nan, nan, nan, nan, nan, nan, nan, nan, nan, nan, nan, nan, nan, nan, nan, nan, nan, nan, nan, nan, nan, nan, nan, nan, nan, nan, nan, nan, nan, nan, nan, nan, nan, nan, nan, nan, nan, nan, nan, nan, nan, nan, nan, nan, nan, nan, nan, nan, nan, nan, nan, nan, nan, nan, nan, nan, nan, nan, nan, nan, nan, nan, nan, nan, nan, nan, nan, nan, nan, nan, nan, nan, nan, nan, nan, nan, nan, nan, nan, nan, nan, nan, nan, nan, nan, nan, nan, nan, nan, nan, nan, nan, nan, nan, nan, nan, nan, nan, nan, nan, nan, nan, nan, nan, nan, nan, nan, nan, nan, nan, nan, nan, nan, nan, nan, nan, nan, nan, nan, nan, nan, nan, nan, nan, nan, nan, nan, nan, nan, nan, nan, nan, nan, nan, nan, nan, nan, nan, nan, nan, nan, nan, nan, nan, nan, nan, nan, nan, nan, nan, nan, nan, nan, nan, nan, nan, nan, nan, nan, nan, nan, nan, nan, nan, nan, nan, nan, nan, nan, nan, nan, nan, nan, nan, nan, nan, nan, nan, nan, nan, nan, nan, nan, nan, nan, nan, nan, nan, nan, nan, nan, nan, nan, nan, nan, nan, nan, nan, nan, nan, nan, nan, nan, nan, nan, nan, nan, nan, nan, nan, nan, nan, nan, nan, nan, nan, nan, nan, nan, nan, nan, nan, nan, nan, nan, nan, nan, nan, nan, nan, nan, nan, nan, nan, nan, nan, nan, nan, nan, nan, nan, nan, nan, nan, nan, nan, nan, nan, nan, nan, nan, nan, nan, nan, nan, nan, nan, nan, nan, nan, nan, nan, nan, nan, nan, nan, nan, nan, nan, nan, nan, nan, nan, nan, nan, nan, nan, nan, nan, nan, nan, nan, nan, nan, nan, nan, nan, nan, nan, nan, nan, nan, nan, nan, nan, nan, nan, nan, nan, nan, nan, nan, nan, nan, nan, nan, nan, nan, nan, nan, nan, nan, nan, nan, nan, nan, nan, nan, nan, nan, nan, nan, nan, nan, nan, nan, nan, nan, nan, nan, nan, nan, nan, nan, nan, nan, nan, nan, nan, nan, nan, nan, nan, nan, nan, nan, nan, nan, nan, nan, nan, nan, nan, nan, nan, nan, nan, nan, nan, nan, nan, nan, nan, nan, nan, nan, nan, nan, nan, nan, nan, nan, nan, nan, nan, nan, nan, nan, nan, nan, nan, nan, nan, nan, nan, nan, nan, nan, nan, nan, nan, nan, nan, nan, nan, nan, nan, nan, nan, nan, nan, nan, nan, nan, nan, nan, nan, nan, nan, nan, nan, nan, nan, nan, nan, nan, nan, nan, nan, nan, nan, nan, nan, nan, nan, nan, nan, nan, nan, nan, nan, nan, nan, nan, nan, nan, nan, nan, nan, nan, nan, nan, nan, nan, nan, nan, nan, nan, nan, nan, nan, nan, nan, nan, nan, nan, nan, nan, nan, nan, nan, nan, nan, nan, nan, nan, nan, nan, nan, nan, nan, nan, nan, nan, nan, nan, nan, nan, nan, nan, nan, nan, nan, nan, nan, nan, nan, nan, nan, nan, nan, nan, nan, nan, nan, nan, nan, nan, nan, nan, nan, nan, nan, nan, nan, nan, nan, nan, nan, nan, nan, nan, nan, nan, nan, nan, nan, nan, nan, nan, nan, nan, nan, nan, nan, nan, nan, nan, nan, nan, nan, nan, nan, nan, nan, nan, nan, nan, nan, nan, nan, nan, nan, nan, nan, nan, nan, nan, nan, nan, nan, nan, nan, nan, nan, nan, nan, nan, nan, nan, nan, nan, nan, nan, nan, nan, nan, nan, nan, nan, nan, nan, nan, nan, nan, nan, nan, nan, nan, nan, nan, nan, nan, nan, nan, nan, nan, nan, nan, nan, nan, nan, nan, nan, nan, nan, nan, nan, nan, nan, nan, nan, nan, nan, nan, nan, nan, nan, nan, nan, nan, nan, nan, nan, nan, nan]\n"
     ]
    }
   ],
   "source": [
    "non_string_indices = [i for i, val in enumerate(vcqi1['DATE OF RECURRENCE']) if not isinstance(val, str)]\n",
    "non_string_values = [val for val in vcqi1['DATE OF RECURRENCE'] if not isinstance(val, str)]\n",
    "\n",
    "print(\"Indices of non-string elements:\", non_string_indices)\n",
    "print(\"Non-string values:\", non_string_values)"
   ]
  },
  {
   "cell_type": "code",
   "execution_count": 246,
   "id": "41beaa35-a610-4053-a9e9-b9ff22dae02f",
   "metadata": {},
   "outputs": [
    {
     "name": "stdout",
     "output_type": "stream",
     "text": [
      "Indices of non-string elements (excluding NaNs): [44, 51, 58, 148, 190, 191, 197, 506, 1007, 1017, 1101, 1554, 1557, 1568, 1569, 1575, 1580, 1603, 1720, 2101, 2103, 2109, 2149, 2560, 2565, 2568, 2971, 2973, 2974, 2987, 3006, 3025, 3031, 3034, 3040, 3052, 3084, 3101, 3114, 3153, 3154, 3155]\n",
      "Non-string values (excluding NaNs): [Timestamp('2017-12-01 00:00:00'), Timestamp('2020-03-03 00:00:00'), Timestamp('2019-09-25 00:00:00'), Timestamp('2017-07-05 00:00:00'), Timestamp('2018-10-20 00:00:00'), Timestamp('2018-10-12 00:00:00'), Timestamp('2019-01-15 00:00:00'), Timestamp('2019-05-13 00:00:00'), Timestamp('2016-11-17 00:00:00'), Timestamp('2018-09-22 00:00:00'), Timestamp('2017-04-25 00:00:00'), Timestamp('2016-08-29 00:00:00'), Timestamp('2017-01-12 00:00:00'), Timestamp('2017-02-02 00:00:00'), Timestamp('2018-01-18 00:00:00'), Timestamp('2017-07-21 00:00:00'), Timestamp('2018-07-02 00:00:00'), Timestamp('2017-01-11 00:00:00'), Timestamp('2019-01-09 00:00:00'), Timestamp('2015-06-29 00:00:00'), Timestamp('2015-03-24 00:00:00'), Timestamp('2015-02-12 00:00:00'), Timestamp('2016-09-28 00:00:00'), Timestamp('2016-04-22 00:00:00'), Timestamp('2015-12-22 00:00:00'), Timestamp('2015-12-18 00:00:00'), Timestamp('2015-04-22 00:00:00'), Timestamp('2015-03-25 00:00:00'), Timestamp('2015-03-11 00:00:00'), Timestamp('2017-02-15 00:00:00'), Timestamp('2016-05-18 00:00:00'), Timestamp('2015-01-07 00:00:00'), Timestamp('2015-01-28 00:00:00'), Timestamp('2018-04-09 00:00:00'), Timestamp('2018-01-08 00:00:00'), Timestamp('2015-12-03 00:00:00'), Timestamp('2016-05-12 00:00:00'), Timestamp('2017-11-08 00:00:00'), Timestamp('2016-10-05 00:00:00'), Timestamp('2017-11-10 00:00:00'), Timestamp('2017-07-24 00:00:00'), Timestamp('2017-08-02 00:00:00')]\n",
      "Strings that don't match the regex pattern: []\n"
     ]
    }
   ],
   "source": [
    "# Define the regex pattern\n",
    "pattern = r'\\d{1,2}/\\d{1,2}/\\d{4}'\n",
    "\n",
    "# Filter out non-string and non-matching string values\n",
    "non_string_indices = [i for i, val in enumerate(vcqi1['DATE OF RECURRENCE']) if not isinstance(val, str) and not pd.isnull(val)]\n",
    "non_string_values = [val for val in vcqi1['DATE OF RECURRENCE'] if not isinstance(val, str) and not pd.isnull(val)]\n",
    "unfiltered_strings = [s for s in vcqi1['DATE OF RECURRENCE'] if isinstance(s, str) and not re.match(pattern, s)]\n",
    "\n",
    "print(\"Indices of non-string elements (excluding NaNs):\", non_string_indices)\n",
    "print(\"Non-string values (excluding NaNs):\", non_string_values)\n",
    "print(\"Strings that don't match the regex pattern:\", unfiltered_strings)"
   ]
  },
  {
   "cell_type": "code",
   "execution_count": 251,
   "id": "5c68e998-aa94-44f8-9226-50b9d4c52970",
   "metadata": {},
   "outputs": [
    {
     "data": {
      "text/html": [
       "<div>\n",
       "<style scoped>\n",
       "    .dataframe tbody tr th:only-of-type {\n",
       "        vertical-align: middle;\n",
       "    }\n",
       "\n",
       "    .dataframe tbody tr th {\n",
       "        vertical-align: top;\n",
       "    }\n",
       "\n",
       "    .dataframe thead th {\n",
       "        text-align: right;\n",
       "    }\n",
       "</style>\n",
       "<table border=\"1\" class=\"dataframe\">\n",
       "  <thead>\n",
       "    <tr style=\"text-align: right;\">\n",
       "      <th></th>\n",
       "      <th>DATE OF SURGERY</th>\n",
       "      <th>DATE OF RECURRENCE</th>\n",
       "      <th>TIME TO RECURRENCE</th>\n",
       "      <th>RECURRENCE TIME (CUSTOM)</th>\n",
       "    </tr>\n",
       "  </thead>\n",
       "  <tbody>\n",
       "    <tr>\n",
       "      <th>44</th>\n",
       "      <td>2017-05-29</td>\n",
       "      <td>2017-12-01</td>\n",
       "      <td>6.2</td>\n",
       "      <td>6.1</td>\n",
       "    </tr>\n",
       "    <tr>\n",
       "      <th>51</th>\n",
       "      <td>2018-11-23</td>\n",
       "      <td>2020-03-03</td>\n",
       "      <td>15.5</td>\n",
       "      <td>15.3</td>\n",
       "    </tr>\n",
       "    <tr>\n",
       "      <th>58</th>\n",
       "      <td>2019-03-04</td>\n",
       "      <td>2019-09-25</td>\n",
       "      <td>6.8</td>\n",
       "      <td>6.7</td>\n",
       "    </tr>\n",
       "    <tr>\n",
       "      <th>148</th>\n",
       "      <td>2017-03-27</td>\n",
       "      <td>2017-07-05</td>\n",
       "      <td>3.3</td>\n",
       "      <td>3.3</td>\n",
       "    </tr>\n",
       "    <tr>\n",
       "      <th>190</th>\n",
       "      <td>2018-07-27</td>\n",
       "      <td>2018-10-20</td>\n",
       "      <td>2.8</td>\n",
       "      <td>2.8</td>\n",
       "    </tr>\n",
       "    <tr>\n",
       "      <th>191</th>\n",
       "      <td>2018-07-30</td>\n",
       "      <td>2018-10-12</td>\n",
       "      <td>2.5</td>\n",
       "      <td>2.4</td>\n",
       "    </tr>\n",
       "    <tr>\n",
       "      <th>197</th>\n",
       "      <td>2018-12-15</td>\n",
       "      <td>2019-01-15</td>\n",
       "      <td>1</td>\n",
       "      <td>1.0</td>\n",
       "    </tr>\n",
       "    <tr>\n",
       "      <th>506</th>\n",
       "      <td>2019-05-07</td>\n",
       "      <td>2019-05-13</td>\n",
       "      <td>0.2</td>\n",
       "      <td>0.2</td>\n",
       "    </tr>\n",
       "    <tr>\n",
       "      <th>1007</th>\n",
       "      <td>2016-08-09</td>\n",
       "      <td>2016-11-17</td>\n",
       "      <td>3.3</td>\n",
       "      <td>3.3</td>\n",
       "    </tr>\n",
       "    <tr>\n",
       "      <th>1017</th>\n",
       "      <td>2017-06-22</td>\n",
       "      <td>2018-09-22</td>\n",
       "      <td>15.2</td>\n",
       "      <td>15.0</td>\n",
       "    </tr>\n",
       "    <tr>\n",
       "      <th>1101</th>\n",
       "      <td>2017-01-05</td>\n",
       "      <td>2017-04-25</td>\n",
       "      <td>3.7</td>\n",
       "      <td>3.6</td>\n",
       "    </tr>\n",
       "    <tr>\n",
       "      <th>1554</th>\n",
       "      <td>2016-02-01</td>\n",
       "      <td>2016-08-29</td>\n",
       "      <td>7</td>\n",
       "      <td>6.9</td>\n",
       "    </tr>\n",
       "    <tr>\n",
       "      <th>1557</th>\n",
       "      <td>2016-06-08</td>\n",
       "      <td>2017-01-12</td>\n",
       "      <td>7.3</td>\n",
       "      <td>7.2</td>\n",
       "    </tr>\n",
       "    <tr>\n",
       "      <th>1568</th>\n",
       "      <td>2017-01-11</td>\n",
       "      <td>2017-02-02</td>\n",
       "      <td>0.7</td>\n",
       "      <td>0.7</td>\n",
       "    </tr>\n",
       "    <tr>\n",
       "      <th>1569</th>\n",
       "      <td>2017-01-25</td>\n",
       "      <td>2018-01-18</td>\n",
       "      <td>11.9</td>\n",
       "      <td>11.8</td>\n",
       "    </tr>\n",
       "    <tr>\n",
       "      <th>1575</th>\n",
       "      <td>2017-07-04</td>\n",
       "      <td>2017-07-21</td>\n",
       "      <td>0.6</td>\n",
       "      <td>0.6</td>\n",
       "    </tr>\n",
       "    <tr>\n",
       "      <th>1580</th>\n",
       "      <td>2018-05-24</td>\n",
       "      <td>2018-07-02</td>\n",
       "      <td>1.3</td>\n",
       "      <td>1.3</td>\n",
       "    </tr>\n",
       "    <tr>\n",
       "      <th>1603</th>\n",
       "      <td>2016-12-24</td>\n",
       "      <td>2017-01-11</td>\n",
       "      <td>0.6</td>\n",
       "      <td>0.6</td>\n",
       "    </tr>\n",
       "    <tr>\n",
       "      <th>1720</th>\n",
       "      <td>2018-09-26</td>\n",
       "      <td>2019-01-09</td>\n",
       "      <td>3.5</td>\n",
       "      <td>3.4</td>\n",
       "    </tr>\n",
       "    <tr>\n",
       "      <th>2101</th>\n",
       "      <td>2014-12-10</td>\n",
       "      <td>2015-06-29</td>\n",
       "      <td>6.7</td>\n",
       "      <td>6.6</td>\n",
       "    </tr>\n",
       "    <tr>\n",
       "      <th>2103</th>\n",
       "      <td>2014-12-17</td>\n",
       "      <td>2015-03-24</td>\n",
       "      <td>3.2</td>\n",
       "      <td>3.2</td>\n",
       "    </tr>\n",
       "    <tr>\n",
       "      <th>2109</th>\n",
       "      <td>2015-01-22</td>\n",
       "      <td>2015-02-12</td>\n",
       "      <td>0.7</td>\n",
       "      <td>0.7</td>\n",
       "    </tr>\n",
       "    <tr>\n",
       "      <th>2149</th>\n",
       "      <td>2016-02-24</td>\n",
       "      <td>2016-09-28</td>\n",
       "      <td>7.2</td>\n",
       "      <td>7.1</td>\n",
       "    </tr>\n",
       "    <tr>\n",
       "      <th>2560</th>\n",
       "      <td>2015-09-23</td>\n",
       "      <td>2016-04-22</td>\n",
       "      <td>7.1</td>\n",
       "      <td>7.0</td>\n",
       "    </tr>\n",
       "    <tr>\n",
       "      <th>2565</th>\n",
       "      <td>2015-11-04</td>\n",
       "      <td>2015-12-22</td>\n",
       "      <td>1.6</td>\n",
       "      <td>1.6</td>\n",
       "    </tr>\n",
       "    <tr>\n",
       "      <th>2568</th>\n",
       "      <td>2015-12-11</td>\n",
       "      <td>2015-12-18</td>\n",
       "      <td>0.2</td>\n",
       "      <td>0.2</td>\n",
       "    </tr>\n",
       "    <tr>\n",
       "      <th>2971</th>\n",
       "      <td>2015-02-13</td>\n",
       "      <td>2015-04-22</td>\n",
       "      <td>2.3</td>\n",
       "      <td>2.2</td>\n",
       "    </tr>\n",
       "    <tr>\n",
       "      <th>2973</th>\n",
       "      <td>2015-03-06</td>\n",
       "      <td>2015-03-25</td>\n",
       "      <td>0.6</td>\n",
       "      <td>0.6</td>\n",
       "    </tr>\n",
       "    <tr>\n",
       "      <th>2974</th>\n",
       "      <td>2015-03-07</td>\n",
       "      <td>2015-03-11</td>\n",
       "      <td>0.1</td>\n",
       "      <td>0.1</td>\n",
       "    </tr>\n",
       "    <tr>\n",
       "      <th>2987</th>\n",
       "      <td>2015-07-24</td>\n",
       "      <td>2017-02-15</td>\n",
       "      <td>19.1</td>\n",
       "      <td>18.8</td>\n",
       "    </tr>\n",
       "    <tr>\n",
       "      <th>3006</th>\n",
       "      <td>2015-11-13</td>\n",
       "      <td>2016-05-18</td>\n",
       "      <td>6.2</td>\n",
       "      <td>6.1</td>\n",
       "    </tr>\n",
       "    <tr>\n",
       "      <th>3025</th>\n",
       "      <td>2014-12-11</td>\n",
       "      <td>2015-01-07</td>\n",
       "      <td>0.9</td>\n",
       "      <td>0.9</td>\n",
       "    </tr>\n",
       "    <tr>\n",
       "      <th>3031</th>\n",
       "      <td>2015-01-06</td>\n",
       "      <td>2015-01-28</td>\n",
       "      <td>0.7</td>\n",
       "      <td>0.7</td>\n",
       "    </tr>\n",
       "    <tr>\n",
       "      <th>3034</th>\n",
       "      <td>2015-02-10</td>\n",
       "      <td>2018-04-09</td>\n",
       "      <td>38.5</td>\n",
       "      <td>37.9</td>\n",
       "    </tr>\n",
       "    <tr>\n",
       "      <th>3040</th>\n",
       "      <td>2015-03-10</td>\n",
       "      <td>2018-01-08</td>\n",
       "      <td>34.5</td>\n",
       "      <td>34.0</td>\n",
       "    </tr>\n",
       "    <tr>\n",
       "      <th>3052</th>\n",
       "      <td>2015-11-05</td>\n",
       "      <td>2015-12-03</td>\n",
       "      <td>0.9</td>\n",
       "      <td>0.9</td>\n",
       "    </tr>\n",
       "    <tr>\n",
       "      <th>3084</th>\n",
       "      <td>2016-04-12</td>\n",
       "      <td>2016-05-12</td>\n",
       "      <td>1.0</td>\n",
       "      <td>1.0</td>\n",
       "    </tr>\n",
       "    <tr>\n",
       "      <th>3101</th>\n",
       "      <td>2016-06-21</td>\n",
       "      <td>2017-11-08</td>\n",
       "      <td>16.8</td>\n",
       "      <td>16.6</td>\n",
       "    </tr>\n",
       "    <tr>\n",
       "      <th>3114</th>\n",
       "      <td>2016-09-12</td>\n",
       "      <td>2016-10-05</td>\n",
       "      <td>0.8</td>\n",
       "      <td>0.8</td>\n",
       "    </tr>\n",
       "    <tr>\n",
       "      <th>3153</th>\n",
       "      <td>2017-06-19</td>\n",
       "      <td>2017-11-10</td>\n",
       "      <td>4.8</td>\n",
       "      <td>4.7</td>\n",
       "    </tr>\n",
       "    <tr>\n",
       "      <th>3154</th>\n",
       "      <td>2017-06-22</td>\n",
       "      <td>2017-07-24</td>\n",
       "      <td>1.1</td>\n",
       "      <td>1.1</td>\n",
       "    </tr>\n",
       "    <tr>\n",
       "      <th>3155</th>\n",
       "      <td>2017-07-03</td>\n",
       "      <td>2017-08-02</td>\n",
       "      <td>1.0</td>\n",
       "      <td>1.0</td>\n",
       "    </tr>\n",
       "  </tbody>\n",
       "</table>\n",
       "</div>"
      ],
      "text/plain": [
       "     DATE OF SURGERY DATE OF RECURRENCE TIME TO RECURRENCE  \\\n",
       "44        2017-05-29         2017-12-01                6.2   \n",
       "51        2018-11-23         2020-03-03               15.5   \n",
       "58        2019-03-04         2019-09-25                6.8   \n",
       "148       2017-03-27         2017-07-05                3.3   \n",
       "190       2018-07-27         2018-10-20                2.8   \n",
       "191       2018-07-30         2018-10-12                2.5   \n",
       "197       2018-12-15         2019-01-15                  1   \n",
       "506       2019-05-07         2019-05-13                0.2   \n",
       "1007      2016-08-09         2016-11-17                3.3   \n",
       "1017      2017-06-22         2018-09-22               15.2   \n",
       "1101      2017-01-05         2017-04-25                3.7   \n",
       "1554      2016-02-01         2016-08-29                  7   \n",
       "1557      2016-06-08         2017-01-12                7.3   \n",
       "1568      2017-01-11         2017-02-02                0.7   \n",
       "1569      2017-01-25         2018-01-18               11.9   \n",
       "1575      2017-07-04         2017-07-21                0.6   \n",
       "1580      2018-05-24         2018-07-02                1.3   \n",
       "1603      2016-12-24         2017-01-11                0.6   \n",
       "1720      2018-09-26         2019-01-09                3.5   \n",
       "2101      2014-12-10         2015-06-29                6.7   \n",
       "2103      2014-12-17         2015-03-24                3.2   \n",
       "2109      2015-01-22         2015-02-12                0.7   \n",
       "2149      2016-02-24         2016-09-28                7.2   \n",
       "2560      2015-09-23         2016-04-22                7.1   \n",
       "2565      2015-11-04         2015-12-22                1.6   \n",
       "2568      2015-12-11         2015-12-18                0.2   \n",
       "2971      2015-02-13         2015-04-22                2.3   \n",
       "2973      2015-03-06         2015-03-25                0.6   \n",
       "2974      2015-03-07         2015-03-11                0.1   \n",
       "2987      2015-07-24         2017-02-15               19.1   \n",
       "3006      2015-11-13         2016-05-18                6.2   \n",
       "3025      2014-12-11         2015-01-07                0.9   \n",
       "3031      2015-01-06         2015-01-28                0.7   \n",
       "3034      2015-02-10         2018-04-09               38.5   \n",
       "3040      2015-03-10         2018-01-08               34.5   \n",
       "3052      2015-11-05         2015-12-03                0.9   \n",
       "3084      2016-04-12         2016-05-12                1.0   \n",
       "3101      2016-06-21         2017-11-08               16.8   \n",
       "3114      2016-09-12         2016-10-05                0.8   \n",
       "3153      2017-06-19         2017-11-10                4.8   \n",
       "3154      2017-06-22         2017-07-24                1.1   \n",
       "3155      2017-07-03         2017-08-02                1.0   \n",
       "\n",
       "      RECURRENCE TIME (CUSTOM)  \n",
       "44                         6.1  \n",
       "51                        15.3  \n",
       "58                         6.7  \n",
       "148                        3.3  \n",
       "190                        2.8  \n",
       "191                        2.4  \n",
       "197                        1.0  \n",
       "506                        0.2  \n",
       "1007                       3.3  \n",
       "1017                      15.0  \n",
       "1101                       3.6  \n",
       "1554                       6.9  \n",
       "1557                       7.2  \n",
       "1568                       0.7  \n",
       "1569                      11.8  \n",
       "1575                       0.6  \n",
       "1580                       1.3  \n",
       "1603                       0.6  \n",
       "1720                       3.4  \n",
       "2101                       6.6  \n",
       "2103                       3.2  \n",
       "2109                       0.7  \n",
       "2149                       7.1  \n",
       "2560                       7.0  \n",
       "2565                       1.6  \n",
       "2568                       0.2  \n",
       "2971                       2.2  \n",
       "2973                       0.6  \n",
       "2974                       0.1  \n",
       "2987                      18.8  \n",
       "3006                       6.1  \n",
       "3025                       0.9  \n",
       "3031                       0.7  \n",
       "3034                      37.9  \n",
       "3040                      34.0  \n",
       "3052                       0.9  \n",
       "3084                       1.0  \n",
       "3101                      16.6  \n",
       "3114                       0.8  \n",
       "3153                       4.7  \n",
       "3154                       1.1  \n",
       "3155                       1.0  "
      ]
     },
     "execution_count": 251,
     "metadata": {},
     "output_type": "execute_result"
    }
   ],
   "source": [
    "vcqi1.loc[vcqi1['DATE OF RECURRENCE'].notna(), ['DATE OF SURGERY', 'DATE OF RECURRENCE', 'TIME TO RECURRENCE', 'RECURRENCE TIME (CUSTOM)']]"
   ]
  },
  {
   "cell_type": "code",
   "execution_count": 303,
   "id": "8acabe11-1a1d-4f1e-88fe-91341d1b1205",
   "metadata": {},
   "outputs": [
    {
     "data": {
      "text/plain": [
       "44     2017-12-01\n",
       "51     2020-03-03\n",
       "58     2019-09-25\n",
       "148    2017-07-05\n",
       "190    2018-10-20\n",
       "191    2018-10-12\n",
       "197    2019-01-15\n",
       "506    2019-05-13\n",
       "1007   2016-11-17\n",
       "1017   2018-09-22\n",
       "1101   2017-04-25\n",
       "1554   2016-08-29\n",
       "1557   2017-01-12\n",
       "1568   2017-02-02\n",
       "1569   2018-01-18\n",
       "1575   2017-07-21\n",
       "1580   2018-07-02\n",
       "1603   2017-01-11\n",
       "1720   2019-01-09\n",
       "2101   2015-06-29\n",
       "2103   2015-03-24\n",
       "2109   2015-02-12\n",
       "2149   2016-09-28\n",
       "2560   2016-04-22\n",
       "2565   2015-12-22\n",
       "2568   2015-12-18\n",
       "2971   2015-04-22\n",
       "2973   2015-03-25\n",
       "2974   2015-03-11\n",
       "2987   2017-02-15\n",
       "3006   2016-05-18\n",
       "3025   2015-01-07\n",
       "3031   2015-01-28\n",
       "3034   2018-04-09\n",
       "3040   2018-01-08\n",
       "3052   2015-12-03\n",
       "3084   2016-05-12\n",
       "3101   2017-11-08\n",
       "3114   2016-10-05\n",
       "3153   2017-11-10\n",
       "3154   2017-07-24\n",
       "3155   2017-08-02\n",
       "Name: DATE OF RECURRENCE, dtype: datetime64[ns]"
      ]
     },
     "execution_count": 303,
     "metadata": {},
     "output_type": "execute_result"
    }
   ],
   "source": [
    "vcqi1.loc[vcqi1['DATE OF RECURRENCE'].notna(), 'DATE OF RECURRENCE']"
   ]
  },
  {
   "cell_type": "code",
   "execution_count": 319,
   "id": "527b35d2-aff7-4e7a-b9db-a221cbf8f884",
   "metadata": {},
   "outputs": [
    {
     "data": {
      "text/html": [
       "<div>\n",
       "<style scoped>\n",
       "    .dataframe tbody tr th:only-of-type {\n",
       "        vertical-align: middle;\n",
       "    }\n",
       "\n",
       "    .dataframe tbody tr th {\n",
       "        vertical-align: top;\n",
       "    }\n",
       "\n",
       "    .dataframe thead th {\n",
       "        text-align: right;\n",
       "    }\n",
       "</style>\n",
       "<table border=\"1\" class=\"dataframe\">\n",
       "  <thead>\n",
       "    <tr style=\"text-align: right;\">\n",
       "      <th></th>\n",
       "      <th>DATE OF SURGERY</th>\n",
       "      <th>DATE OF RECURRENCE</th>\n",
       "      <th>TIME TO RECURRENCE</th>\n",
       "    </tr>\n",
       "  </thead>\n",
       "  <tbody>\n",
       "    <tr>\n",
       "      <th>579</th>\n",
       "      <td>2006-10-20</td>\n",
       "      <td>NaT</td>\n",
       "      <td>19/1/2007</td>\n",
       "    </tr>\n",
       "    <tr>\n",
       "      <th>593</th>\n",
       "      <td>2008-02-28</td>\n",
       "      <td>NaT</td>\n",
       "      <td>2/11/2009</td>\n",
       "    </tr>\n",
       "    <tr>\n",
       "      <th>603</th>\n",
       "      <td>2008-07-11</td>\n",
       "      <td>NaT</td>\n",
       "      <td>21/8/2008</td>\n",
       "    </tr>\n",
       "    <tr>\n",
       "      <th>621</th>\n",
       "      <td>2009-02-18</td>\n",
       "      <td>NaT</td>\n",
       "      <td>2/6/2009</td>\n",
       "    </tr>\n",
       "    <tr>\n",
       "      <th>622</th>\n",
       "      <td>2009-02-20</td>\n",
       "      <td>NaT</td>\n",
       "      <td>30/3/2009</td>\n",
       "    </tr>\n",
       "    <tr>\n",
       "      <th>635</th>\n",
       "      <td>2009-06-01</td>\n",
       "      <td>NaT</td>\n",
       "      <td>19/1/2010</td>\n",
       "    </tr>\n",
       "    <tr>\n",
       "      <th>639</th>\n",
       "      <td>2009-07-03</td>\n",
       "      <td>NaT</td>\n",
       "      <td>23/11/2010</td>\n",
       "    </tr>\n",
       "    <tr>\n",
       "      <th>644</th>\n",
       "      <td>2009-08-05</td>\n",
       "      <td>NaT</td>\n",
       "      <td>9/2/2011</td>\n",
       "    </tr>\n",
       "    <tr>\n",
       "      <th>679</th>\n",
       "      <td>2010-03-12</td>\n",
       "      <td>NaT</td>\n",
       "      <td>10/8/2011</td>\n",
       "    </tr>\n",
       "    <tr>\n",
       "      <th>687</th>\n",
       "      <td>2010-07-12</td>\n",
       "      <td>NaT</td>\n",
       "      <td>22/11/2011</td>\n",
       "    </tr>\n",
       "    <tr>\n",
       "      <th>696</th>\n",
       "      <td>2010-09-20</td>\n",
       "      <td>NaT</td>\n",
       "      <td>17/01/2012</td>\n",
       "    </tr>\n",
       "    <tr>\n",
       "      <th>731</th>\n",
       "      <td>2012-06-04</td>\n",
       "      <td>NaT</td>\n",
       "      <td>26/12/2013</td>\n",
       "    </tr>\n",
       "    <tr>\n",
       "      <th>750</th>\n",
       "      <td>2012-11-19</td>\n",
       "      <td>NaT</td>\n",
       "      <td>19/12/2012</td>\n",
       "    </tr>\n",
       "    <tr>\n",
       "      <th>751</th>\n",
       "      <td>2012-12-03</td>\n",
       "      <td>NaT</td>\n",
       "      <td>14/08/2014</td>\n",
       "    </tr>\n",
       "    <tr>\n",
       "      <th>806</th>\n",
       "      <td>2014-06-02</td>\n",
       "      <td>NaT</td>\n",
       "      <td>2/26/2015</td>\n",
       "    </tr>\n",
       "    <tr>\n",
       "      <th>3259</th>\n",
       "      <td>2007-03-06</td>\n",
       "      <td>NaT</td>\n",
       "      <td>24.0</td>\n",
       "    </tr>\n",
       "    <tr>\n",
       "      <th>3278</th>\n",
       "      <td>2008-06-17</td>\n",
       "      <td>NaT</td>\n",
       "      <td>36.0</td>\n",
       "    </tr>\n",
       "    <tr>\n",
       "      <th>3315</th>\n",
       "      <td>2010-03-18</td>\n",
       "      <td>NaT</td>\n",
       "      <td>8.0</td>\n",
       "    </tr>\n",
       "    <tr>\n",
       "      <th>3399</th>\n",
       "      <td>2012-03-27</td>\n",
       "      <td>NaT</td>\n",
       "      <td>1.0</td>\n",
       "    </tr>\n",
       "  </tbody>\n",
       "</table>\n",
       "</div>"
      ],
      "text/plain": [
       "     DATE OF SURGERY DATE OF RECURRENCE TIME TO RECURRENCE\n",
       "579       2006-10-20                NaT          19/1/2007\n",
       "593       2008-02-28                NaT          2/11/2009\n",
       "603       2008-07-11                NaT          21/8/2008\n",
       "621       2009-02-18                NaT           2/6/2009\n",
       "622       2009-02-20                NaT          30/3/2009\n",
       "635       2009-06-01                NaT          19/1/2010\n",
       "639       2009-07-03                NaT         23/11/2010\n",
       "644       2009-08-05                NaT           9/2/2011\n",
       "679       2010-03-12                NaT          10/8/2011\n",
       "687       2010-07-12                NaT         22/11/2011\n",
       "696       2010-09-20                NaT         17/01/2012\n",
       "731       2012-06-04                NaT         26/12/2013\n",
       "750       2012-11-19                NaT         19/12/2012\n",
       "751       2012-12-03                NaT         14/08/2014\n",
       "806       2014-06-02                NaT          2/26/2015\n",
       "3259      2007-03-06                NaT               24.0\n",
       "3278      2008-06-17                NaT               36.0\n",
       "3315      2010-03-18                NaT                8.0\n",
       "3399      2012-03-27                NaT                1.0"
      ]
     },
     "execution_count": 319,
     "metadata": {},
     "output_type": "execute_result"
    }
   ],
   "source": [
    "temp_df1 = vcqi1[vcqi1['TIME TO RECURRENCE'].notna()]\n",
    "temp_df2 = temp_df1[temp_df1['TIME TO RECURRENCE'] != 0]\n",
    "# temp_df2[]\n",
    "temp_df2.loc[temp_df2['DATE OF RECURRENCE'].isnull(), ['DATE OF SURGERY', 'DATE OF RECURRENCE', 'TIME TO RECURRENCE']]\n",
    "# vcqi1.loc[(vcqi1['DATE OF RECURRENCE'].notna() | pd.isnull(vcqi1['DATE OF RECURRENCE'])) & (vcqi1['TIME TO RECURRENCE'].notna() & vcqi1['TIME TO RECURRENCE'] != 0), ['DATE OF RECURRENCE', 'TIME TO RECURRENCE']]"
   ]
  },
  {
   "cell_type": "code",
   "execution_count": 297,
   "id": "df2e57fa-1254-4295-915a-04fec2a7737a",
   "metadata": {},
   "outputs": [
    {
     "data": {
      "text/plain": [
       "0       True\n",
       "1       True\n",
       "2       True\n",
       "3       True\n",
       "4       True\n",
       "        ... \n",
       "3786    True\n",
       "3787    True\n",
       "3788    True\n",
       "3789    True\n",
       "3790    True\n",
       "Name: TIME TO RECURRENCE, Length: 3790, dtype: bool"
      ]
     },
     "execution_count": 297,
     "metadata": {},
     "output_type": "execute_result"
    }
   ],
   "source": [
    "~(vcqi1['TIME TO RECURRENCE'] == 0 | vcqi1['TIME TO RECURRENCE'].notna())"
   ]
  },
  {
   "cell_type": "code",
   "execution_count": 298,
   "id": "e0beb000-d395-45c6-be59-06592b422e42",
   "metadata": {},
   "outputs": [
    {
     "data": {
      "text/plain": [
       "3084    1.0\n",
       "3155    1.0\n",
       "3399    1.0\n",
       "Name: TIME TO RECURRENCE, dtype: object"
      ]
     },
     "execution_count": 298,
     "metadata": {},
     "output_type": "execute_result"
    }
   ],
   "source": [
    "vcqi1.loc[(vcqi1['TIME TO RECURRENCE'] == 0 | vcqi1['TIME TO RECURRENCE'].notna()), 'TIME TO RECURRENCE']"
   ]
  },
  {
   "cell_type": "code",
   "execution_count": 1,
   "id": "bb9d1425-1ced-49d3-accb-17cd22c52cdf",
   "metadata": {},
   "outputs": [
    {
     "ename": "NameError",
     "evalue": "name 'vcqi1' is not defined",
     "output_type": "error",
     "traceback": [
      "\u001b[1;31m---------------------------------------------------------------------------\u001b[0m",
      "\u001b[1;31mNameError\u001b[0m                                 Traceback (most recent call last)",
      "Cell \u001b[1;32mIn[1], line 2\u001b[0m\n\u001b[0;32m      1\u001b[0m \u001b[38;5;66;03m# ind = vcqi['TIME TO RECURRENCE']\u001b[39;00m\n\u001b[1;32m----> 2\u001b[0m \u001b[43mvcqi1\u001b[49m\u001b[38;5;241m.\u001b[39mloc[vcqi1[\u001b[38;5;124m'\u001b[39m\u001b[38;5;124mDATE OF RECURRENCE\u001b[39m\u001b[38;5;124m'\u001b[39m]\u001b[38;5;241m.\u001b[39misna() \u001b[38;5;241m&\u001b[39m (vcqi1[\u001b[38;5;124m'\u001b[39m\u001b[38;5;124mTIME TO RECURRENCE\u001b[39m\u001b[38;5;124m'\u001b[39m]\u001b[38;5;241m.\u001b[39mnotna() \u001b[38;5;241m&\u001b[39m vcqi1[\u001b[38;5;124m'\u001b[39m\u001b[38;5;124mTIME TO RECURRENCE\u001b[39m\u001b[38;5;124m'\u001b[39m] \u001b[38;5;241m==\u001b[39m \u001b[38;5;241m0\u001b[39m), [\u001b[38;5;124m'\u001b[39m\u001b[38;5;124mDATE OF RECURRENCE\u001b[39m\u001b[38;5;124m'\u001b[39m, \u001b[38;5;124m'\u001b[39m\u001b[38;5;124mTIME TO RECURRENCE\u001b[39m\u001b[38;5;124m'\u001b[39m]]\n",
      "\u001b[1;31mNameError\u001b[0m: name 'vcqi1' is not defined"
     ]
    }
   ],
   "source": [
    "# ind = vcqi['TIME TO RECURRENCE']\n",
    "vcqi1.loc[vcqi1['DATE OF RECURRENCE'].isna() & (vcqi1['TIME TO RECURRENCE'].notna() & vcqi1['TIME TO RECURRENCE'] == 0), ['DATE OF RECURRENCE', 'TIME TO RECURRENCE']]"
   ]
  },
  {
   "cell_type": "code",
   "execution_count": 264,
   "id": "4d2ff1b9-3ad4-41fe-a812-36cd6e995985",
   "metadata": {},
   "outputs": [
    {
     "ename": "AttributeError",
     "evalue": "'Series' object has no attribute 'notnat'",
     "output_type": "error",
     "traceback": [
      "\u001b[1;31m---------------------------------------------------------------------------\u001b[0m",
      "\u001b[1;31mAttributeError\u001b[0m                            Traceback (most recent call last)",
      "\u001b[1;32m~\\AppData\\Local\\Temp\\ipykernel_9444\\3888653102.py\u001b[0m in \u001b[0;36m?\u001b[1;34m()\u001b[0m\n\u001b[1;32m----> 1\u001b[1;33m \u001b[0mvcqi1\u001b[0m\u001b[1;33m.\u001b[0m\u001b[0mloc\u001b[0m\u001b[1;33m[\u001b[0m\u001b[0mvcqi1\u001b[0m\u001b[1;33m[\u001b[0m\u001b[1;34m'TIME TO RECURRENCE'\u001b[0m\u001b[1;33m]\u001b[0m\u001b[1;33m.\u001b[0m\u001b[0mnotna\u001b[0m\u001b[1;33m(\u001b[0m\u001b[1;33m)\u001b[0m \u001b[1;33m&\u001b[0m \u001b[0mvcqi1\u001b[0m\u001b[1;33m[\u001b[0m\u001b[1;34m'TIME TO RECURRENCE'\u001b[0m\u001b[1;33m]\u001b[0m \u001b[1;33m!=\u001b[0m \u001b[1;36m0\u001b[0m \u001b[1;33m&\u001b[0m \u001b[0mvcqi1\u001b[0m\u001b[1;33m[\u001b[0m\u001b[1;34m'DATE OF RECURRENCE'\u001b[0m\u001b[1;33m]\u001b[0m\u001b[1;33m.\u001b[0m\u001b[0mnotnat\u001b[0m\u001b[1;33m(\u001b[0m\u001b[1;33m)\u001b[0m\u001b[1;33m,\u001b[0m \u001b[1;33m[\u001b[0m\u001b[1;34m'DATE OF RECURRENCE'\u001b[0m\u001b[1;33m,\u001b[0m \u001b[1;34m'TIME TO RECURRENCE'\u001b[0m\u001b[1;33m]\u001b[0m\u001b[1;33m]\u001b[0m\u001b[1;33m\u001b[0m\u001b[1;33m\u001b[0m\u001b[0m\n\u001b[0m",
      "\u001b[1;32m~\\anaconda3\\lib\\site-packages\\pandas\\core\\generic.py\u001b[0m in \u001b[0;36m?\u001b[1;34m(self, name)\u001b[0m\n\u001b[0;32m   6200\u001b[0m             \u001b[1;32mand\u001b[0m \u001b[0mname\u001b[0m \u001b[1;32mnot\u001b[0m \u001b[1;32min\u001b[0m \u001b[0mself\u001b[0m\u001b[1;33m.\u001b[0m\u001b[0m_accessors\u001b[0m\u001b[1;33m\u001b[0m\u001b[1;33m\u001b[0m\u001b[0m\n\u001b[0;32m   6201\u001b[0m             \u001b[1;32mand\u001b[0m \u001b[0mself\u001b[0m\u001b[1;33m.\u001b[0m\u001b[0m_info_axis\u001b[0m\u001b[1;33m.\u001b[0m\u001b[0m_can_hold_identifiers_and_holds_name\u001b[0m\u001b[1;33m(\u001b[0m\u001b[0mname\u001b[0m\u001b[1;33m)\u001b[0m\u001b[1;33m\u001b[0m\u001b[1;33m\u001b[0m\u001b[0m\n\u001b[0;32m   6202\u001b[0m         ):\n\u001b[0;32m   6203\u001b[0m             \u001b[1;32mreturn\u001b[0m \u001b[0mself\u001b[0m\u001b[1;33m[\u001b[0m\u001b[0mname\u001b[0m\u001b[1;33m]\u001b[0m\u001b[1;33m\u001b[0m\u001b[1;33m\u001b[0m\u001b[0m\n\u001b[1;32m-> 6204\u001b[1;33m         \u001b[1;32mreturn\u001b[0m \u001b[0mobject\u001b[0m\u001b[1;33m.\u001b[0m\u001b[0m__getattribute__\u001b[0m\u001b[1;33m(\u001b[0m\u001b[0mself\u001b[0m\u001b[1;33m,\u001b[0m \u001b[0mname\u001b[0m\u001b[1;33m)\u001b[0m\u001b[1;33m\u001b[0m\u001b[1;33m\u001b[0m\u001b[0m\n\u001b[0m",
      "\u001b[1;31mAttributeError\u001b[0m: 'Series' object has no attribute 'notnat'"
     ]
    }
   ],
   "source": [
    "vcqi1.loc[vcqi1['TIME TO RECURRENCE'].notna() & vcqi1['TIME TO RECURRENCE'] != 0, ['DATE OF RECURRENCE', 'TIME TO RECURRENCE']]"
   ]
  },
  {
   "cell_type": "code",
   "execution_count": null,
   "id": "47b14a0e-2581-494c-9e8e-66b03fe308d0",
   "metadata": {},
   "outputs": [],
   "source": []
  },
  {
   "cell_type": "code",
   "execution_count": null,
   "id": "f35b1455-b99b-401c-87f8-0e732429d0f2",
   "metadata": {},
   "outputs": [],
   "source": []
  }
 ],
 "metadata": {
  "kernelspec": {
   "display_name": "Python 3 (ipykernel)",
   "language": "python",
   "name": "python3"
  },
  "language_info": {
   "codemirror_mode": {
    "name": "ipython",
    "version": 3
   },
   "file_extension": ".py",
   "mimetype": "text/x-python",
   "name": "python",
   "nbconvert_exporter": "python",
   "pygments_lexer": "ipython3",
   "version": "3.11.7"
  }
 },
 "nbformat": 4,
 "nbformat_minor": 5
}
